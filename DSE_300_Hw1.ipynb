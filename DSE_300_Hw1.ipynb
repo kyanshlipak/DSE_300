{
  "nbformat": 4,
  "nbformat_minor": 0,
  "metadata": {
    "colab": {
      "provenance": [],
      "collapsed_sections": [
        "vJKgovSIgoX3",
        "mQH18FrpjpQM",
        "hWPoT-G_rJVW",
        "rKIakJ1arVeo"
      ]
    },
    "kernelspec": {
      "name": "python3",
      "display_name": "Python 3"
    },
    "language_info": {
      "name": "python"
    }
  },
  "cells": [
    {
      "cell_type": "markdown",
      "source": [
        "# Question 1: Missing Data\n",
        "Investigate the missing data in this dataset. Specifically, for each of the following variables that have missing data, decide if any imputation is possible. Give your reasoning and code if you decide to impute missing values.\n",
        "- Columns for investigation: CARRIER, CARRIER_NAME, MANUFACTURE_YEAR, NUMBER_OF_SEATS, CAPACITY_IN_POUNDS, and AIRLINE_ID.\n",
        "- For example, watch out for \"North American Airlines\" aircrafts. Are the CARRIER/UNIQUE_CARRIER column really missing?"
      ],
      "metadata": {
        "id": "lWLll6Pmjkuz"
      }
    },
    {
      "cell_type": "code",
      "execution_count": 15,
      "metadata": {
        "colab": {
          "base_uri": "https://localhost:8080/"
        },
        "id": "e0YOqUurikfw",
        "outputId": "e421f63c-bd72-47e6-a07f-466b10b2461f"
      },
      "outputs": [
        {
          "output_type": "stream",
          "name": "stderr",
          "text": [
            "<ipython-input-15-545943f08269>:2: DtypeWarning: Columns (11) have mixed types. Specify dtype option on import or set low_memory=False.\n",
            "  inventory = pd.read_csv('sample_data/T_F41SCHEDULE_B43 (1).zip')\n"
          ]
        }
      ],
      "source": [
        "import pandas as pd\n",
        "inventory = pd.read_csv('sample_data/T_F41SCHEDULE_B43 (1).zip')"
      ]
    },
    {
      "cell_type": "code",
      "source": [
        "inventory.info()"
      ],
      "metadata": {
        "colab": {
          "base_uri": "https://localhost:8080/"
        },
        "id": "Fr2po-LFilL3",
        "outputId": "5976883f-f8b6-4323-ddd0-4cc3a612f62a"
      },
      "execution_count": 16,
      "outputs": [
        {
          "output_type": "stream",
          "name": "stdout",
          "text": [
            "<class 'pandas.core.frame.DataFrame'>\n",
            "RangeIndex: 132313 entries, 0 to 132312\n",
            "Data columns (total 17 columns):\n",
            " #   Column               Non-Null Count   Dtype  \n",
            "---  ------               --------------   -----  \n",
            " 0   YEAR                 132313 non-null  int64  \n",
            " 1   CARRIER              132264 non-null  object \n",
            " 2   CARRIER_NAME         132208 non-null  object \n",
            " 3   MANUFACTURE_YEAR     132310 non-null  float64\n",
            " 4   UNIQUE_CARRIER_NAME  132208 non-null  object \n",
            " 5   SERIAL_NUMBER        132313 non-null  object \n",
            " 6   TAIL_NUMBER          132313 non-null  object \n",
            " 7   AIRCRAFT_STATUS      132313 non-null  object \n",
            " 8   OPERATING_STATUS     132313 non-null  object \n",
            " 9   NUMBER_OF_SEATS      132306 non-null  float64\n",
            " 10  MANUFACTURER         132313 non-null  object \n",
            " 11  AIRCRAFT_TYPE        102380 non-null  object \n",
            " 12  MODEL                132302 non-null  object \n",
            " 13  CAPACITY_IN_POUNDS   132212 non-null  float64\n",
            " 14  ACQUISITION_DATE     131346 non-null  object \n",
            " 15  AIRLINE_ID           132208 non-null  float64\n",
            " 16  UNIQUE_CARRIER       132149 non-null  object \n",
            "dtypes: float64(4), int64(1), object(12)\n",
            "memory usage: 17.2+ MB\n"
          ]
        }
      ]
    },
    {
      "cell_type": "code",
      "source": [
        "inventory.describe()"
      ],
      "metadata": {
        "colab": {
          "base_uri": "https://localhost:8080/",
          "height": 300
        },
        "id": "VcxDqUNeim6S",
        "outputId": "51929929-cf9d-4341-a778-5c80cae213e1"
      },
      "execution_count": 17,
      "outputs": [
        {
          "output_type": "execute_result",
          "data": {
            "text/plain": [
              "                YEAR  MANUFACTURE_YEAR  NUMBER_OF_SEATS  CAPACITY_IN_POUNDS  \\\n",
              "count  132313.000000     132310.000000    132306.000000       132212.000000   \n",
              "mean     2014.657706       2000.399992       110.619859        71313.508131   \n",
              "std         5.270037         39.630346        77.424860        87093.991985   \n",
              "min      2006.000000          0.000000         0.000000            0.000000   \n",
              "25%      2010.000000       1995.000000        50.000000        34446.000000   \n",
              "50%      2015.000000       2001.000000       125.000000        43400.000000   \n",
              "75%      2019.000000       2007.000000       160.000000        82012.000000   \n",
              "max      2023.000000       2756.000000       737.000000       875000.000000   \n",
              "\n",
              "          AIRLINE_ID  \n",
              "count  132208.000000  \n",
              "mean    20051.606559  \n",
              "std       380.917190  \n",
              "min     19386.000000  \n",
              "25%     19805.000000  \n",
              "50%     19977.000000  \n",
              "75%     20366.000000  \n",
              "max     22085.000000  "
            ],
            "text/html": [
              "\n",
              "  <div id=\"df-11684238-6cd2-452a-affb-55730559889e\" class=\"colab-df-container\">\n",
              "    <div>\n",
              "<style scoped>\n",
              "    .dataframe tbody tr th:only-of-type {\n",
              "        vertical-align: middle;\n",
              "    }\n",
              "\n",
              "    .dataframe tbody tr th {\n",
              "        vertical-align: top;\n",
              "    }\n",
              "\n",
              "    .dataframe thead th {\n",
              "        text-align: right;\n",
              "    }\n",
              "</style>\n",
              "<table border=\"1\" class=\"dataframe\">\n",
              "  <thead>\n",
              "    <tr style=\"text-align: right;\">\n",
              "      <th></th>\n",
              "      <th>YEAR</th>\n",
              "      <th>MANUFACTURE_YEAR</th>\n",
              "      <th>NUMBER_OF_SEATS</th>\n",
              "      <th>CAPACITY_IN_POUNDS</th>\n",
              "      <th>AIRLINE_ID</th>\n",
              "    </tr>\n",
              "  </thead>\n",
              "  <tbody>\n",
              "    <tr>\n",
              "      <th>count</th>\n",
              "      <td>132313.000000</td>\n",
              "      <td>132310.000000</td>\n",
              "      <td>132306.000000</td>\n",
              "      <td>132212.000000</td>\n",
              "      <td>132208.000000</td>\n",
              "    </tr>\n",
              "    <tr>\n",
              "      <th>mean</th>\n",
              "      <td>2014.657706</td>\n",
              "      <td>2000.399992</td>\n",
              "      <td>110.619859</td>\n",
              "      <td>71313.508131</td>\n",
              "      <td>20051.606559</td>\n",
              "    </tr>\n",
              "    <tr>\n",
              "      <th>std</th>\n",
              "      <td>5.270037</td>\n",
              "      <td>39.630346</td>\n",
              "      <td>77.424860</td>\n",
              "      <td>87093.991985</td>\n",
              "      <td>380.917190</td>\n",
              "    </tr>\n",
              "    <tr>\n",
              "      <th>min</th>\n",
              "      <td>2006.000000</td>\n",
              "      <td>0.000000</td>\n",
              "      <td>0.000000</td>\n",
              "      <td>0.000000</td>\n",
              "      <td>19386.000000</td>\n",
              "    </tr>\n",
              "    <tr>\n",
              "      <th>25%</th>\n",
              "      <td>2010.000000</td>\n",
              "      <td>1995.000000</td>\n",
              "      <td>50.000000</td>\n",
              "      <td>34446.000000</td>\n",
              "      <td>19805.000000</td>\n",
              "    </tr>\n",
              "    <tr>\n",
              "      <th>50%</th>\n",
              "      <td>2015.000000</td>\n",
              "      <td>2001.000000</td>\n",
              "      <td>125.000000</td>\n",
              "      <td>43400.000000</td>\n",
              "      <td>19977.000000</td>\n",
              "    </tr>\n",
              "    <tr>\n",
              "      <th>75%</th>\n",
              "      <td>2019.000000</td>\n",
              "      <td>2007.000000</td>\n",
              "      <td>160.000000</td>\n",
              "      <td>82012.000000</td>\n",
              "      <td>20366.000000</td>\n",
              "    </tr>\n",
              "    <tr>\n",
              "      <th>max</th>\n",
              "      <td>2023.000000</td>\n",
              "      <td>2756.000000</td>\n",
              "      <td>737.000000</td>\n",
              "      <td>875000.000000</td>\n",
              "      <td>22085.000000</td>\n",
              "    </tr>\n",
              "  </tbody>\n",
              "</table>\n",
              "</div>\n",
              "    <div class=\"colab-df-buttons\">\n",
              "\n",
              "  <div class=\"colab-df-container\">\n",
              "    <button class=\"colab-df-convert\" onclick=\"convertToInteractive('df-11684238-6cd2-452a-affb-55730559889e')\"\n",
              "            title=\"Convert this dataframe to an interactive table.\"\n",
              "            style=\"display:none;\">\n",
              "\n",
              "  <svg xmlns=\"http://www.w3.org/2000/svg\" height=\"24px\" viewBox=\"0 -960 960 960\">\n",
              "    <path d=\"M120-120v-720h720v720H120Zm60-500h600v-160H180v160Zm220 220h160v-160H400v160Zm0 220h160v-160H400v160ZM180-400h160v-160H180v160Zm440 0h160v-160H620v160ZM180-180h160v-160H180v160Zm440 0h160v-160H620v160Z\"/>\n",
              "  </svg>\n",
              "    </button>\n",
              "\n",
              "  <style>\n",
              "    .colab-df-container {\n",
              "      display:flex;\n",
              "      gap: 12px;\n",
              "    }\n",
              "\n",
              "    .colab-df-convert {\n",
              "      background-color: #E8F0FE;\n",
              "      border: none;\n",
              "      border-radius: 50%;\n",
              "      cursor: pointer;\n",
              "      display: none;\n",
              "      fill: #1967D2;\n",
              "      height: 32px;\n",
              "      padding: 0 0 0 0;\n",
              "      width: 32px;\n",
              "    }\n",
              "\n",
              "    .colab-df-convert:hover {\n",
              "      background-color: #E2EBFA;\n",
              "      box-shadow: 0px 1px 2px rgba(60, 64, 67, 0.3), 0px 1px 3px 1px rgba(60, 64, 67, 0.15);\n",
              "      fill: #174EA6;\n",
              "    }\n",
              "\n",
              "    .colab-df-buttons div {\n",
              "      margin-bottom: 4px;\n",
              "    }\n",
              "\n",
              "    [theme=dark] .colab-df-convert {\n",
              "      background-color: #3B4455;\n",
              "      fill: #D2E3FC;\n",
              "    }\n",
              "\n",
              "    [theme=dark] .colab-df-convert:hover {\n",
              "      background-color: #434B5C;\n",
              "      box-shadow: 0px 1px 3px 1px rgba(0, 0, 0, 0.15);\n",
              "      filter: drop-shadow(0px 1px 2px rgba(0, 0, 0, 0.3));\n",
              "      fill: #FFFFFF;\n",
              "    }\n",
              "  </style>\n",
              "\n",
              "    <script>\n",
              "      const buttonEl =\n",
              "        document.querySelector('#df-11684238-6cd2-452a-affb-55730559889e button.colab-df-convert');\n",
              "      buttonEl.style.display =\n",
              "        google.colab.kernel.accessAllowed ? 'block' : 'none';\n",
              "\n",
              "      async function convertToInteractive(key) {\n",
              "        const element = document.querySelector('#df-11684238-6cd2-452a-affb-55730559889e');\n",
              "        const dataTable =\n",
              "          await google.colab.kernel.invokeFunction('convertToInteractive',\n",
              "                                                    [key], {});\n",
              "        if (!dataTable) return;\n",
              "\n",
              "        const docLinkHtml = 'Like what you see? Visit the ' +\n",
              "          '<a target=\"_blank\" href=https://colab.research.google.com/notebooks/data_table.ipynb>data table notebook</a>'\n",
              "          + ' to learn more about interactive tables.';\n",
              "        element.innerHTML = '';\n",
              "        dataTable['output_type'] = 'display_data';\n",
              "        await google.colab.output.renderOutput(dataTable, element);\n",
              "        const docLink = document.createElement('div');\n",
              "        docLink.innerHTML = docLinkHtml;\n",
              "        element.appendChild(docLink);\n",
              "      }\n",
              "    </script>\n",
              "  </div>\n",
              "\n",
              "\n",
              "<div id=\"df-35c98db1-8946-433b-93f2-58f262095cb3\">\n",
              "  <button class=\"colab-df-quickchart\" onclick=\"quickchart('df-35c98db1-8946-433b-93f2-58f262095cb3')\"\n",
              "            title=\"Suggest charts\"\n",
              "            style=\"display:none;\">\n",
              "\n",
              "<svg xmlns=\"http://www.w3.org/2000/svg\" height=\"24px\"viewBox=\"0 0 24 24\"\n",
              "     width=\"24px\">\n",
              "    <g>\n",
              "        <path d=\"M19 3H5c-1.1 0-2 .9-2 2v14c0 1.1.9 2 2 2h14c1.1 0 2-.9 2-2V5c0-1.1-.9-2-2-2zM9 17H7v-7h2v7zm4 0h-2V7h2v10zm4 0h-2v-4h2v4z\"/>\n",
              "    </g>\n",
              "</svg>\n",
              "  </button>\n",
              "\n",
              "<style>\n",
              "  .colab-df-quickchart {\n",
              "      --bg-color: #E8F0FE;\n",
              "      --fill-color: #1967D2;\n",
              "      --hover-bg-color: #E2EBFA;\n",
              "      --hover-fill-color: #174EA6;\n",
              "      --disabled-fill-color: #AAA;\n",
              "      --disabled-bg-color: #DDD;\n",
              "  }\n",
              "\n",
              "  [theme=dark] .colab-df-quickchart {\n",
              "      --bg-color: #3B4455;\n",
              "      --fill-color: #D2E3FC;\n",
              "      --hover-bg-color: #434B5C;\n",
              "      --hover-fill-color: #FFFFFF;\n",
              "      --disabled-bg-color: #3B4455;\n",
              "      --disabled-fill-color: #666;\n",
              "  }\n",
              "\n",
              "  .colab-df-quickchart {\n",
              "    background-color: var(--bg-color);\n",
              "    border: none;\n",
              "    border-radius: 50%;\n",
              "    cursor: pointer;\n",
              "    display: none;\n",
              "    fill: var(--fill-color);\n",
              "    height: 32px;\n",
              "    padding: 0;\n",
              "    width: 32px;\n",
              "  }\n",
              "\n",
              "  .colab-df-quickchart:hover {\n",
              "    background-color: var(--hover-bg-color);\n",
              "    box-shadow: 0 1px 2px rgba(60, 64, 67, 0.3), 0 1px 3px 1px rgba(60, 64, 67, 0.15);\n",
              "    fill: var(--button-hover-fill-color);\n",
              "  }\n",
              "\n",
              "  .colab-df-quickchart-complete:disabled,\n",
              "  .colab-df-quickchart-complete:disabled:hover {\n",
              "    background-color: var(--disabled-bg-color);\n",
              "    fill: var(--disabled-fill-color);\n",
              "    box-shadow: none;\n",
              "  }\n",
              "\n",
              "  .colab-df-spinner {\n",
              "    border: 2px solid var(--fill-color);\n",
              "    border-color: transparent;\n",
              "    border-bottom-color: var(--fill-color);\n",
              "    animation:\n",
              "      spin 1s steps(1) infinite;\n",
              "  }\n",
              "\n",
              "  @keyframes spin {\n",
              "    0% {\n",
              "      border-color: transparent;\n",
              "      border-bottom-color: var(--fill-color);\n",
              "      border-left-color: var(--fill-color);\n",
              "    }\n",
              "    20% {\n",
              "      border-color: transparent;\n",
              "      border-left-color: var(--fill-color);\n",
              "      border-top-color: var(--fill-color);\n",
              "    }\n",
              "    30% {\n",
              "      border-color: transparent;\n",
              "      border-left-color: var(--fill-color);\n",
              "      border-top-color: var(--fill-color);\n",
              "      border-right-color: var(--fill-color);\n",
              "    }\n",
              "    40% {\n",
              "      border-color: transparent;\n",
              "      border-right-color: var(--fill-color);\n",
              "      border-top-color: var(--fill-color);\n",
              "    }\n",
              "    60% {\n",
              "      border-color: transparent;\n",
              "      border-right-color: var(--fill-color);\n",
              "    }\n",
              "    80% {\n",
              "      border-color: transparent;\n",
              "      border-right-color: var(--fill-color);\n",
              "      border-bottom-color: var(--fill-color);\n",
              "    }\n",
              "    90% {\n",
              "      border-color: transparent;\n",
              "      border-bottom-color: var(--fill-color);\n",
              "    }\n",
              "  }\n",
              "</style>\n",
              "\n",
              "  <script>\n",
              "    async function quickchart(key) {\n",
              "      const quickchartButtonEl =\n",
              "        document.querySelector('#' + key + ' button');\n",
              "      quickchartButtonEl.disabled = true;  // To prevent multiple clicks.\n",
              "      quickchartButtonEl.classList.add('colab-df-spinner');\n",
              "      try {\n",
              "        const charts = await google.colab.kernel.invokeFunction(\n",
              "            'suggestCharts', [key], {});\n",
              "      } catch (error) {\n",
              "        console.error('Error during call to suggestCharts:', error);\n",
              "      }\n",
              "      quickchartButtonEl.classList.remove('colab-df-spinner');\n",
              "      quickchartButtonEl.classList.add('colab-df-quickchart-complete');\n",
              "    }\n",
              "    (() => {\n",
              "      let quickchartButtonEl =\n",
              "        document.querySelector('#df-35c98db1-8946-433b-93f2-58f262095cb3 button');\n",
              "      quickchartButtonEl.style.display =\n",
              "        google.colab.kernel.accessAllowed ? 'block' : 'none';\n",
              "    })();\n",
              "  </script>\n",
              "</div>\n",
              "\n",
              "    </div>\n",
              "  </div>\n"
            ],
            "application/vnd.google.colaboratory.intrinsic+json": {
              "type": "dataframe",
              "summary": "{\n  \"name\": \"inventory\",\n  \"rows\": 8,\n  \"fields\": [\n    {\n      \"column\": \"YEAR\",\n      \"properties\": {\n        \"dtype\": \"number\",\n        \"std\": 46174.278705087454,\n        \"min\": 5.270036958589472,\n        \"max\": 132313.0,\n        \"num_unique_values\": 8,\n        \"samples\": [\n          2014.6577055920432,\n          2015.0,\n          132313.0\n        ],\n        \"semantic_type\": \"\",\n        \"description\": \"\"\n      }\n    },\n    {\n      \"column\": \"MANUFACTURE_YEAR\",\n      \"properties\": {\n        \"dtype\": \"number\",\n        \"std\": 46243.95336714661,\n        \"min\": 0.0,\n        \"max\": 132310.0,\n        \"num_unique_values\": 8,\n        \"samples\": [\n          2000.3999924419923,\n          2001.0,\n          132310.0\n        ],\n        \"semantic_type\": \"\",\n        \"description\": \"\"\n      }\n    },\n    {\n      \"column\": \"NUMBER_OF_SEATS\",\n      \"properties\": {\n        \"dtype\": \"number\",\n        \"std\": 46714.171486414925,\n        \"min\": 0.0,\n        \"max\": 132306.0,\n        \"num_unique_values\": 8,\n        \"samples\": [\n          110.61985850981814,\n          125.0,\n          132306.0\n        ],\n        \"semantic_type\": \"\",\n        \"description\": \"\"\n      }\n    },\n    {\n      \"column\": \"CAPACITY_IN_POUNDS\",\n      \"properties\": {\n        \"dtype\": \"number\",\n        \"std\": 289324.51441038214,\n        \"min\": 0.0,\n        \"max\": 875000.0,\n        \"num_unique_values\": 8,\n        \"samples\": [\n          71313.50813088071,\n          43400.0,\n          132212.0\n        ],\n        \"semantic_type\": \"\",\n        \"description\": \"\"\n      }\n    },\n    {\n      \"column\": \"AIRLINE_ID\",\n      \"properties\": {\n        \"dtype\": \"number\",\n        \"std\": 41178.766791680726,\n        \"min\": 380.9171896046573,\n        \"max\": 132208.0,\n        \"num_unique_values\": 8,\n        \"samples\": [\n          20051.606559361007,\n          19977.0,\n          132208.0\n        ],\n        \"semantic_type\": \"\",\n        \"description\": \"\"\n      }\n    }\n  ]\n}"
            }
          },
          "metadata": {},
          "execution_count": 17
        }
      ]
    },
    {
      "cell_type": "code",
      "source": [
        "# no exact duplicates\n",
        "inventory.duplicated().sum()"
      ],
      "metadata": {
        "colab": {
          "base_uri": "https://localhost:8080/"
        },
        "id": "U2RWqEYoint6",
        "outputId": "a1c7e12a-8205-4c12-a5e2-faab9ce19f21"
      },
      "execution_count": 18,
      "outputs": [
        {
          "output_type": "execute_result",
          "data": {
            "text/plain": [
              "np.int64(0)"
            ]
          },
          "metadata": {},
          "execution_count": 18
        }
      ]
    },
    {
      "cell_type": "code",
      "source": [
        "# count of missing data by column\n",
        "missing_data = inventory.isnull().sum()\n",
        "missing_data"
      ],
      "metadata": {
        "colab": {
          "base_uri": "https://localhost:8080/",
          "height": 617
        },
        "id": "XlaFeTVZjGve",
        "outputId": "3f00d87b-2b22-49df-fd31-c03d50cc7d35"
      },
      "execution_count": 19,
      "outputs": [
        {
          "output_type": "execute_result",
          "data": {
            "text/plain": [
              "YEAR                       0\n",
              "CARRIER                   49\n",
              "CARRIER_NAME             105\n",
              "MANUFACTURE_YEAR           3\n",
              "UNIQUE_CARRIER_NAME      105\n",
              "SERIAL_NUMBER              0\n",
              "TAIL_NUMBER                0\n",
              "AIRCRAFT_STATUS            0\n",
              "OPERATING_STATUS           0\n",
              "NUMBER_OF_SEATS            7\n",
              "MANUFACTURER               0\n",
              "AIRCRAFT_TYPE          29933\n",
              "MODEL                     11\n",
              "CAPACITY_IN_POUNDS       101\n",
              "ACQUISITION_DATE         967\n",
              "AIRLINE_ID               105\n",
              "UNIQUE_CARRIER           164\n",
              "dtype: int64"
            ],
            "text/html": [
              "<div>\n",
              "<style scoped>\n",
              "    .dataframe tbody tr th:only-of-type {\n",
              "        vertical-align: middle;\n",
              "    }\n",
              "\n",
              "    .dataframe tbody tr th {\n",
              "        vertical-align: top;\n",
              "    }\n",
              "\n",
              "    .dataframe thead th {\n",
              "        text-align: right;\n",
              "    }\n",
              "</style>\n",
              "<table border=\"1\" class=\"dataframe\">\n",
              "  <thead>\n",
              "    <tr style=\"text-align: right;\">\n",
              "      <th></th>\n",
              "      <th>0</th>\n",
              "    </tr>\n",
              "  </thead>\n",
              "  <tbody>\n",
              "    <tr>\n",
              "      <th>YEAR</th>\n",
              "      <td>0</td>\n",
              "    </tr>\n",
              "    <tr>\n",
              "      <th>CARRIER</th>\n",
              "      <td>49</td>\n",
              "    </tr>\n",
              "    <tr>\n",
              "      <th>CARRIER_NAME</th>\n",
              "      <td>105</td>\n",
              "    </tr>\n",
              "    <tr>\n",
              "      <th>MANUFACTURE_YEAR</th>\n",
              "      <td>3</td>\n",
              "    </tr>\n",
              "    <tr>\n",
              "      <th>UNIQUE_CARRIER_NAME</th>\n",
              "      <td>105</td>\n",
              "    </tr>\n",
              "    <tr>\n",
              "      <th>SERIAL_NUMBER</th>\n",
              "      <td>0</td>\n",
              "    </tr>\n",
              "    <tr>\n",
              "      <th>TAIL_NUMBER</th>\n",
              "      <td>0</td>\n",
              "    </tr>\n",
              "    <tr>\n",
              "      <th>AIRCRAFT_STATUS</th>\n",
              "      <td>0</td>\n",
              "    </tr>\n",
              "    <tr>\n",
              "      <th>OPERATING_STATUS</th>\n",
              "      <td>0</td>\n",
              "    </tr>\n",
              "    <tr>\n",
              "      <th>NUMBER_OF_SEATS</th>\n",
              "      <td>7</td>\n",
              "    </tr>\n",
              "    <tr>\n",
              "      <th>MANUFACTURER</th>\n",
              "      <td>0</td>\n",
              "    </tr>\n",
              "    <tr>\n",
              "      <th>AIRCRAFT_TYPE</th>\n",
              "      <td>29933</td>\n",
              "    </tr>\n",
              "    <tr>\n",
              "      <th>MODEL</th>\n",
              "      <td>11</td>\n",
              "    </tr>\n",
              "    <tr>\n",
              "      <th>CAPACITY_IN_POUNDS</th>\n",
              "      <td>101</td>\n",
              "    </tr>\n",
              "    <tr>\n",
              "      <th>ACQUISITION_DATE</th>\n",
              "      <td>967</td>\n",
              "    </tr>\n",
              "    <tr>\n",
              "      <th>AIRLINE_ID</th>\n",
              "      <td>105</td>\n",
              "    </tr>\n",
              "    <tr>\n",
              "      <th>UNIQUE_CARRIER</th>\n",
              "      <td>164</td>\n",
              "    </tr>\n",
              "  </tbody>\n",
              "</table>\n",
              "</div><br><label><b>dtype:</b> int64</label>"
            ]
          },
          "metadata": {},
          "execution_count": 19
        }
      ]
    },
    {
      "cell_type": "code",
      "source": [
        "# investigate carrier --> carrier is null for north american airlines.\n",
        "# All null are north american airlines\n",
        "inventory[inventory['CARRIER'].isnull()]\n",
        "\n",
        "# Checking all north american airlines flights, we can see\n",
        "# that it is sometimes logged as NA and sometimes as NaN,\n",
        "# leading me to believe that NA was sometimes mistaken as NaN\n",
        "inventory.loc[inventory['CARRIER_NAME'] == 'North American Airlines']\n",
        "\n",
        "\n",
        "# I believe NaN carrier name for north american airlines should be corrected to NA\n",
        "inventory.loc[inventory['CARRIER'].isnull(), ['CARRIER', 'UNIQUE_CARRIER']] = [\"NA\", \"NA\"]"
      ],
      "metadata": {
        "id": "LjpOFzmhjZ9w"
      },
      "execution_count": 20,
      "outputs": []
    },
    {
      "cell_type": "code",
      "source": [
        "inventory[inventory['CARRIER']== \"L4\"]['UNIQUE_CARRIER'].value_counts()"
      ],
      "metadata": {
        "colab": {
          "base_uri": "https://localhost:8080/",
          "height": 146
        },
        "id": "uTHFcakRseyD",
        "outputId": "e11ca14a-9b01-4e8d-e259-1480cdb01a25"
      },
      "execution_count": 21,
      "outputs": [
        {
          "output_type": "execute_result",
          "data": {
            "text/plain": [
              "UNIQUE_CARRIER\n",
              "L3    10\n",
              "Name: count, dtype: int64"
            ],
            "text/html": [
              "<div>\n",
              "<style scoped>\n",
              "    .dataframe tbody tr th:only-of-type {\n",
              "        vertical-align: middle;\n",
              "    }\n",
              "\n",
              "    .dataframe tbody tr th {\n",
              "        vertical-align: top;\n",
              "    }\n",
              "\n",
              "    .dataframe thead th {\n",
              "        text-align: right;\n",
              "    }\n",
              "</style>\n",
              "<table border=\"1\" class=\"dataframe\">\n",
              "  <thead>\n",
              "    <tr style=\"text-align: right;\">\n",
              "      <th></th>\n",
              "      <th>count</th>\n",
              "    </tr>\n",
              "    <tr>\n",
              "      <th>UNIQUE_CARRIER</th>\n",
              "      <th></th>\n",
              "    </tr>\n",
              "  </thead>\n",
              "  <tbody>\n",
              "    <tr>\n",
              "      <th>L3</th>\n",
              "      <td>10</td>\n",
              "    </tr>\n",
              "  </tbody>\n",
              "</table>\n",
              "</div><br><label><b>dtype:</b> int64</label>"
            ]
          },
          "metadata": {},
          "execution_count": 21
        }
      ]
    },
    {
      "cell_type": "markdown",
      "source": [],
      "metadata": {
        "id": "c-7cxxOytFWY"
      }
    },
    {
      "cell_type": "code",
      "source": [
        "# We can see carrier_name is null for carrier OH and L4\n",
        "inventory[inventory['CARRIER_NAME'].isnull()]['CARRIER'].value_counts()\n",
        "\n",
        "# When carrier is OH, carrier name is either PSA Airlines or Comair\n",
        "inventory[inventory['CARRIER'] == 'OH']['CARRIER_NAME'].value_counts()\n",
        "\n",
        "# We can find on google that Comair stopped flights in 2012 and we can see that\n",
        "# most of these have year 2013, so we can set those that are OH and 2013 to PSA\n",
        "# Also set airline ID unique to PSA Airlines\n",
        "inventory[inventory['CARRIER_NAME'].isnull()]['YEAR'].value_counts()\n",
        "inventory.loc[(inventory['CARRIER_NAME'].isnull()) &\n",
        " (inventory['CARRIER'] == \"OH\") & (inventory['YEAR'] == 2013), ['CARRIER_NAME', 'AIRLINE_ID', 'UNIQUE_CARRIER', 'UNIQUE_CARRIER_NAME']] = [\"PSA Airlines Inc.\", 20397.0, 'OH', \"PSA Airlines Inc.\"]\n",
        "\n",
        "# when carrier is L4, carrier name is Lynx Aviation d/b/a Frontier Airlines\n",
        "inventory[inventory['CARRIER'] == 'L4']['CARRIER_NAME'].value_counts()\n",
        "\n",
        "# The remaining 8 are of L4, and carrier name is therefore lynx\n",
        "inventory.loc[(inventory['CARRIER_NAME'].isnull()) &\n",
        " (inventory['CARRIER'] == \"L4\"), [\"CARRIER_NAME\", 'AIRLINE_ID', 'UNIQUE_CARRIER', 'UNIQUE_CARRIER_NAME']] = [\"Lynx Aviation d/b/a Frontier Airlines\", 21217.0, \"L3\", \"Lynx Aviation d/b/a Frontier Airlines\"]"
      ],
      "metadata": {
        "id": "Nzx4iSz1j4Tr"
      },
      "execution_count": 22,
      "outputs": []
    },
    {
      "cell_type": "code",
      "source": [
        "inventory[inventory['MANUFACTURE_YEAR'].isnull()]\n"
      ],
      "metadata": {
        "colab": {
          "base_uri": "https://localhost:8080/",
          "height": 250
        },
        "id": "mBfH-tm7jxOM",
        "outputId": "eaff20dc-0f5d-442c-edf2-bc584e541032"
      },
      "execution_count": 23,
      "outputs": [
        {
          "output_type": "execute_result",
          "data": {
            "text/plain": [
              "        YEAR CARRIER       CARRIER_NAME  MANUFACTURE_YEAR UNIQUE_CARRIER_NAME  \\\n",
              "116651  2022      5Y     Atlas Air Inc.               NaN      Atlas Air Inc.   \n",
              "124680  2023      9E  Endeavor Air Inc.               NaN   Endeavor Air Inc.   \n",
              "124681  2023      9E  Endeavor Air Inc.               NaN   Endeavor Air Inc.   \n",
              "\n",
              "       SERIAL_NUMBER TAIL_NUMBER AIRCRAFT_STATUS OPERATING_STATUS  \\\n",
              "116651         26259      N664GT               B                Y   \n",
              "124680         10134      N655CA               O                Y   \n",
              "124681         10182      N690CA               O                N   \n",
              "\n",
              "        NUMBER_OF_SEATS MANUFACTURER AIRCRAFT_TYPE        MODEL  \\\n",
              "116651              0.0       BOEING          8192     B747-400   \n",
              "124680             69.0   BOMBARDIER          6311  CL-600-2C10   \n",
              "124681             69.0   BOMBARDIER          6311  CL-600-2C10   \n",
              "\n",
              "        CAPACITY_IN_POUNDS       ACQUISITION_DATE  AIRLINE_ID UNIQUE_CARRIER  \n",
              "116651                 0.0  1/25/2022 12:00:00 AM     20007.0             5Y  \n",
              "124680             18055.0                    NaN     20363.0             9E  \n",
              "124681             18055.0                    NaN     20363.0             9E  "
            ],
            "text/html": [
              "\n",
              "  <div id=\"df-bcb94eb7-024f-4b82-aae2-df40f7086d8c\" class=\"colab-df-container\">\n",
              "    <div>\n",
              "<style scoped>\n",
              "    .dataframe tbody tr th:only-of-type {\n",
              "        vertical-align: middle;\n",
              "    }\n",
              "\n",
              "    .dataframe tbody tr th {\n",
              "        vertical-align: top;\n",
              "    }\n",
              "\n",
              "    .dataframe thead th {\n",
              "        text-align: right;\n",
              "    }\n",
              "</style>\n",
              "<table border=\"1\" class=\"dataframe\">\n",
              "  <thead>\n",
              "    <tr style=\"text-align: right;\">\n",
              "      <th></th>\n",
              "      <th>YEAR</th>\n",
              "      <th>CARRIER</th>\n",
              "      <th>CARRIER_NAME</th>\n",
              "      <th>MANUFACTURE_YEAR</th>\n",
              "      <th>UNIQUE_CARRIER_NAME</th>\n",
              "      <th>SERIAL_NUMBER</th>\n",
              "      <th>TAIL_NUMBER</th>\n",
              "      <th>AIRCRAFT_STATUS</th>\n",
              "      <th>OPERATING_STATUS</th>\n",
              "      <th>NUMBER_OF_SEATS</th>\n",
              "      <th>MANUFACTURER</th>\n",
              "      <th>AIRCRAFT_TYPE</th>\n",
              "      <th>MODEL</th>\n",
              "      <th>CAPACITY_IN_POUNDS</th>\n",
              "      <th>ACQUISITION_DATE</th>\n",
              "      <th>AIRLINE_ID</th>\n",
              "      <th>UNIQUE_CARRIER</th>\n",
              "    </tr>\n",
              "  </thead>\n",
              "  <tbody>\n",
              "    <tr>\n",
              "      <th>116651</th>\n",
              "      <td>2022</td>\n",
              "      <td>5Y</td>\n",
              "      <td>Atlas Air Inc.</td>\n",
              "      <td>NaN</td>\n",
              "      <td>Atlas Air Inc.</td>\n",
              "      <td>26259</td>\n",
              "      <td>N664GT</td>\n",
              "      <td>B</td>\n",
              "      <td>Y</td>\n",
              "      <td>0.0</td>\n",
              "      <td>BOEING</td>\n",
              "      <td>8192</td>\n",
              "      <td>B747-400</td>\n",
              "      <td>0.0</td>\n",
              "      <td>1/25/2022 12:00:00 AM</td>\n",
              "      <td>20007.0</td>\n",
              "      <td>5Y</td>\n",
              "    </tr>\n",
              "    <tr>\n",
              "      <th>124680</th>\n",
              "      <td>2023</td>\n",
              "      <td>9E</td>\n",
              "      <td>Endeavor Air Inc.</td>\n",
              "      <td>NaN</td>\n",
              "      <td>Endeavor Air Inc.</td>\n",
              "      <td>10134</td>\n",
              "      <td>N655CA</td>\n",
              "      <td>O</td>\n",
              "      <td>Y</td>\n",
              "      <td>69.0</td>\n",
              "      <td>BOMBARDIER</td>\n",
              "      <td>6311</td>\n",
              "      <td>CL-600-2C10</td>\n",
              "      <td>18055.0</td>\n",
              "      <td>NaN</td>\n",
              "      <td>20363.0</td>\n",
              "      <td>9E</td>\n",
              "    </tr>\n",
              "    <tr>\n",
              "      <th>124681</th>\n",
              "      <td>2023</td>\n",
              "      <td>9E</td>\n",
              "      <td>Endeavor Air Inc.</td>\n",
              "      <td>NaN</td>\n",
              "      <td>Endeavor Air Inc.</td>\n",
              "      <td>10182</td>\n",
              "      <td>N690CA</td>\n",
              "      <td>O</td>\n",
              "      <td>N</td>\n",
              "      <td>69.0</td>\n",
              "      <td>BOMBARDIER</td>\n",
              "      <td>6311</td>\n",
              "      <td>CL-600-2C10</td>\n",
              "      <td>18055.0</td>\n",
              "      <td>NaN</td>\n",
              "      <td>20363.0</td>\n",
              "      <td>9E</td>\n",
              "    </tr>\n",
              "  </tbody>\n",
              "</table>\n",
              "</div>\n",
              "    <div class=\"colab-df-buttons\">\n",
              "\n",
              "  <div class=\"colab-df-container\">\n",
              "    <button class=\"colab-df-convert\" onclick=\"convertToInteractive('df-bcb94eb7-024f-4b82-aae2-df40f7086d8c')\"\n",
              "            title=\"Convert this dataframe to an interactive table.\"\n",
              "            style=\"display:none;\">\n",
              "\n",
              "  <svg xmlns=\"http://www.w3.org/2000/svg\" height=\"24px\" viewBox=\"0 -960 960 960\">\n",
              "    <path d=\"M120-120v-720h720v720H120Zm60-500h600v-160H180v160Zm220 220h160v-160H400v160Zm0 220h160v-160H400v160ZM180-400h160v-160H180v160Zm440 0h160v-160H620v160ZM180-180h160v-160H180v160Zm440 0h160v-160H620v160Z\"/>\n",
              "  </svg>\n",
              "    </button>\n",
              "\n",
              "  <style>\n",
              "    .colab-df-container {\n",
              "      display:flex;\n",
              "      gap: 12px;\n",
              "    }\n",
              "\n",
              "    .colab-df-convert {\n",
              "      background-color: #E8F0FE;\n",
              "      border: none;\n",
              "      border-radius: 50%;\n",
              "      cursor: pointer;\n",
              "      display: none;\n",
              "      fill: #1967D2;\n",
              "      height: 32px;\n",
              "      padding: 0 0 0 0;\n",
              "      width: 32px;\n",
              "    }\n",
              "\n",
              "    .colab-df-convert:hover {\n",
              "      background-color: #E2EBFA;\n",
              "      box-shadow: 0px 1px 2px rgba(60, 64, 67, 0.3), 0px 1px 3px 1px rgba(60, 64, 67, 0.15);\n",
              "      fill: #174EA6;\n",
              "    }\n",
              "\n",
              "    .colab-df-buttons div {\n",
              "      margin-bottom: 4px;\n",
              "    }\n",
              "\n",
              "    [theme=dark] .colab-df-convert {\n",
              "      background-color: #3B4455;\n",
              "      fill: #D2E3FC;\n",
              "    }\n",
              "\n",
              "    [theme=dark] .colab-df-convert:hover {\n",
              "      background-color: #434B5C;\n",
              "      box-shadow: 0px 1px 3px 1px rgba(0, 0, 0, 0.15);\n",
              "      filter: drop-shadow(0px 1px 2px rgba(0, 0, 0, 0.3));\n",
              "      fill: #FFFFFF;\n",
              "    }\n",
              "  </style>\n",
              "\n",
              "    <script>\n",
              "      const buttonEl =\n",
              "        document.querySelector('#df-bcb94eb7-024f-4b82-aae2-df40f7086d8c button.colab-df-convert');\n",
              "      buttonEl.style.display =\n",
              "        google.colab.kernel.accessAllowed ? 'block' : 'none';\n",
              "\n",
              "      async function convertToInteractive(key) {\n",
              "        const element = document.querySelector('#df-bcb94eb7-024f-4b82-aae2-df40f7086d8c');\n",
              "        const dataTable =\n",
              "          await google.colab.kernel.invokeFunction('convertToInteractive',\n",
              "                                                    [key], {});\n",
              "        if (!dataTable) return;\n",
              "\n",
              "        const docLinkHtml = 'Like what you see? Visit the ' +\n",
              "          '<a target=\"_blank\" href=https://colab.research.google.com/notebooks/data_table.ipynb>data table notebook</a>'\n",
              "          + ' to learn more about interactive tables.';\n",
              "        element.innerHTML = '';\n",
              "        dataTable['output_type'] = 'display_data';\n",
              "        await google.colab.output.renderOutput(dataTable, element);\n",
              "        const docLink = document.createElement('div');\n",
              "        docLink.innerHTML = docLinkHtml;\n",
              "        element.appendChild(docLink);\n",
              "      }\n",
              "    </script>\n",
              "  </div>\n",
              "\n",
              "\n",
              "<div id=\"df-430b02dd-92f2-424e-91af-881359814c45\">\n",
              "  <button class=\"colab-df-quickchart\" onclick=\"quickchart('df-430b02dd-92f2-424e-91af-881359814c45')\"\n",
              "            title=\"Suggest charts\"\n",
              "            style=\"display:none;\">\n",
              "\n",
              "<svg xmlns=\"http://www.w3.org/2000/svg\" height=\"24px\"viewBox=\"0 0 24 24\"\n",
              "     width=\"24px\">\n",
              "    <g>\n",
              "        <path d=\"M19 3H5c-1.1 0-2 .9-2 2v14c0 1.1.9 2 2 2h14c1.1 0 2-.9 2-2V5c0-1.1-.9-2-2-2zM9 17H7v-7h2v7zm4 0h-2V7h2v10zm4 0h-2v-4h2v4z\"/>\n",
              "    </g>\n",
              "</svg>\n",
              "  </button>\n",
              "\n",
              "<style>\n",
              "  .colab-df-quickchart {\n",
              "      --bg-color: #E8F0FE;\n",
              "      --fill-color: #1967D2;\n",
              "      --hover-bg-color: #E2EBFA;\n",
              "      --hover-fill-color: #174EA6;\n",
              "      --disabled-fill-color: #AAA;\n",
              "      --disabled-bg-color: #DDD;\n",
              "  }\n",
              "\n",
              "  [theme=dark] .colab-df-quickchart {\n",
              "      --bg-color: #3B4455;\n",
              "      --fill-color: #D2E3FC;\n",
              "      --hover-bg-color: #434B5C;\n",
              "      --hover-fill-color: #FFFFFF;\n",
              "      --disabled-bg-color: #3B4455;\n",
              "      --disabled-fill-color: #666;\n",
              "  }\n",
              "\n",
              "  .colab-df-quickchart {\n",
              "    background-color: var(--bg-color);\n",
              "    border: none;\n",
              "    border-radius: 50%;\n",
              "    cursor: pointer;\n",
              "    display: none;\n",
              "    fill: var(--fill-color);\n",
              "    height: 32px;\n",
              "    padding: 0;\n",
              "    width: 32px;\n",
              "  }\n",
              "\n",
              "  .colab-df-quickchart:hover {\n",
              "    background-color: var(--hover-bg-color);\n",
              "    box-shadow: 0 1px 2px rgba(60, 64, 67, 0.3), 0 1px 3px 1px rgba(60, 64, 67, 0.15);\n",
              "    fill: var(--button-hover-fill-color);\n",
              "  }\n",
              "\n",
              "  .colab-df-quickchart-complete:disabled,\n",
              "  .colab-df-quickchart-complete:disabled:hover {\n",
              "    background-color: var(--disabled-bg-color);\n",
              "    fill: var(--disabled-fill-color);\n",
              "    box-shadow: none;\n",
              "  }\n",
              "\n",
              "  .colab-df-spinner {\n",
              "    border: 2px solid var(--fill-color);\n",
              "    border-color: transparent;\n",
              "    border-bottom-color: var(--fill-color);\n",
              "    animation:\n",
              "      spin 1s steps(1) infinite;\n",
              "  }\n",
              "\n",
              "  @keyframes spin {\n",
              "    0% {\n",
              "      border-color: transparent;\n",
              "      border-bottom-color: var(--fill-color);\n",
              "      border-left-color: var(--fill-color);\n",
              "    }\n",
              "    20% {\n",
              "      border-color: transparent;\n",
              "      border-left-color: var(--fill-color);\n",
              "      border-top-color: var(--fill-color);\n",
              "    }\n",
              "    30% {\n",
              "      border-color: transparent;\n",
              "      border-left-color: var(--fill-color);\n",
              "      border-top-color: var(--fill-color);\n",
              "      border-right-color: var(--fill-color);\n",
              "    }\n",
              "    40% {\n",
              "      border-color: transparent;\n",
              "      border-right-color: var(--fill-color);\n",
              "      border-top-color: var(--fill-color);\n",
              "    }\n",
              "    60% {\n",
              "      border-color: transparent;\n",
              "      border-right-color: var(--fill-color);\n",
              "    }\n",
              "    80% {\n",
              "      border-color: transparent;\n",
              "      border-right-color: var(--fill-color);\n",
              "      border-bottom-color: var(--fill-color);\n",
              "    }\n",
              "    90% {\n",
              "      border-color: transparent;\n",
              "      border-bottom-color: var(--fill-color);\n",
              "    }\n",
              "  }\n",
              "</style>\n",
              "\n",
              "  <script>\n",
              "    async function quickchart(key) {\n",
              "      const quickchartButtonEl =\n",
              "        document.querySelector('#' + key + ' button');\n",
              "      quickchartButtonEl.disabled = true;  // To prevent multiple clicks.\n",
              "      quickchartButtonEl.classList.add('colab-df-spinner');\n",
              "      try {\n",
              "        const charts = await google.colab.kernel.invokeFunction(\n",
              "            'suggestCharts', [key], {});\n",
              "      } catch (error) {\n",
              "        console.error('Error during call to suggestCharts:', error);\n",
              "      }\n",
              "      quickchartButtonEl.classList.remove('colab-df-spinner');\n",
              "      quickchartButtonEl.classList.add('colab-df-quickchart-complete');\n",
              "    }\n",
              "    (() => {\n",
              "      let quickchartButtonEl =\n",
              "        document.querySelector('#df-430b02dd-92f2-424e-91af-881359814c45 button');\n",
              "      quickchartButtonEl.style.display =\n",
              "        google.colab.kernel.accessAllowed ? 'block' : 'none';\n",
              "    })();\n",
              "  </script>\n",
              "</div>\n",
              "\n",
              "    </div>\n",
              "  </div>\n"
            ],
            "application/vnd.google.colaboratory.intrinsic+json": {
              "type": "dataframe",
              "repr_error": "0"
            }
          },
          "metadata": {},
          "execution_count": 23
        }
      ]
    },
    {
      "cell_type": "code",
      "source": [
        "# The first missing manufaacturer year is of model boeing 747-400.\n",
        "import seaborn as sns\n",
        "sns.boxplot(inventory.loc[inventory['MODEL'] == \"B747-400\"]['MANUFACTURE_YEAR'])\n",
        "\n",
        "# Filter to only existing manufacture years for the model\n",
        "valid_years = inventory.loc[\n",
        "    (inventory['MODEL'] == 'B747-400') &\n",
        "    (inventory['MANUFACTURE_YEAR'].notna()),\n",
        "    'MANUFACTURE_YEAR'\n",
        "]\n",
        "\n",
        "# Fill the missing value\n",
        "inventory.loc[\n",
        "    (inventory['MODEL'] == 'B747-400') &\n",
        "    (inventory['MANUFACTURE_YEAR'].isna()),\n",
        "    'MANUFACTURE_YEAR'\n",
        "] = inventory.loc[\n",
        "    (inventory['MODEL'] == 'B747-400') &\n",
        "    (inventory['MANUFACTURE_YEAR'].isna()),\n",
        "    'MANUFACTURE_YEAR'\n",
        "].apply(lambda x: valid_years.median())"
      ],
      "metadata": {
        "colab": {
          "base_uri": "https://localhost:8080/",
          "height": 411
        },
        "id": "bNDOvCyHI8ZQ",
        "outputId": "c6b5ffb5-667b-4603-892c-a431adff64cc"
      },
      "execution_count": 30,
      "outputs": [
        {
          "output_type": "display_data",
          "data": {
            "text/plain": [
              "<Figure size 640x480 with 1 Axes>"
            ],
            "image/png": "[encoded data removed]"
          },
          "metadata": {}
        }
      ]
    },
    {
      "cell_type": "code",
      "source": [
        "#IMPUTE\n",
        "\n",
        "import seaborn as sns\n",
        "sns.boxplot(inventory.loc[inventory['MODEL'] == \"CL-600-2C10\"]['MANUFACTURE_YEAR'])\n",
        "\n",
        "\n",
        "# Filter to only existing manufacture years for the model\n",
        "valid_years = inventory.loc[\n",
        "    (inventory['MODEL'] == 'CL-600-2C10') &\n",
        "    (inventory['MANUFACTURE_YEAR'].notna()),\n",
        "    'MANUFACTURE_YEAR'\n",
        "]\n",
        "\n",
        "\n",
        "# Fill the missing value\n",
        "inventory.loc[\n",
        "    (inventory['MODEL'] == 'CL-600-2C10') &\n",
        "    (inventory['MANUFACTURE_YEAR'].isna()),\n",
        "    'MANUFACTURE_YEAR'\n",
        "] = inventory.loc[\n",
        "    (inventory['MODEL'] == 'CL-600-2C10') &\n",
        "    (inventory['MANUFACTURE_YEAR'].isna()),\n",
        "    'MANUFACTURE_YEAR'\n",
        "].apply(lambda x: valid_years.median)"
      ],
      "metadata": {
        "colab": {
          "base_uri": "https://localhost:8080/",
          "height": 915
        },
        "id": "SjMLN9EhIwbm",
        "outputId": "70e3d52c-5502-4703-d2d2-be2941694aae"
      },
      "execution_count": 33,
      "outputs": [
        {
          "output_type": "error",
          "ename": "TypeError",
          "evalue": "Invalid object type at position 0",
          "traceback": [
            "\u001b[0;31m---------------------------------------------------------------------------\u001b[0m",
            "\u001b[0;31mTypeError\u001b[0m                                 Traceback (most recent call last)",
            "\u001b[0;32mlib.pyx\u001b[0m in \u001b[0;36mpandas._libs.lib.maybe_convert_numeric\u001b[0;34m()\u001b[0m\n",
            "\u001b[0;31mTypeError\u001b[0m: Invalid object type",
            "\nDuring handling of the above exception, another exception occurred:\n",
            "\u001b[0;31mTypeError\u001b[0m                                 Traceback (most recent call last)",
            "\u001b[0;32m<ipython-input-33-be5e86a01872>\u001b[0m in \u001b[0;36m<cell line: 0>\u001b[0;34m()\u001b[0m\n\u001b[1;32m      2\u001b[0m \u001b[0;34m\u001b[0m\u001b[0m\n\u001b[1;32m      3\u001b[0m \u001b[0;32mimport\u001b[0m \u001b[0mseaborn\u001b[0m \u001b[0;32mas\u001b[0m \u001b[0msns\u001b[0m\u001b[0;34m\u001b[0m\u001b[0;34m\u001b[0m\u001b[0m\n\u001b[0;32m----> 4\u001b[0;31m \u001b[0msns\u001b[0m\u001b[0;34m.\u001b[0m\u001b[0mboxplot\u001b[0m\u001b[0;34m(\u001b[0m\u001b[0minventory\u001b[0m\u001b[0;34m.\u001b[0m\u001b[0mloc\u001b[0m\u001b[0;34m[\u001b[0m\u001b[0minventory\u001b[0m\u001b[0;34m[\u001b[0m\u001b[0;34m'MODEL'\u001b[0m\u001b[0;34m]\u001b[0m \u001b[0;34m==\u001b[0m \u001b[0;34m\"CL-600-2C10\"\u001b[0m\u001b[0;34m]\u001b[0m\u001b[0;34m[\u001b[0m\u001b[0;34m'MANUFACTURE_YEAR'\u001b[0m\u001b[0;34m]\u001b[0m\u001b[0;34m)\u001b[0m\u001b[0;34m\u001b[0m\u001b[0;34m\u001b[0m\u001b[0m\n\u001b[0m\u001b[1;32m      5\u001b[0m \u001b[0;34m\u001b[0m\u001b[0m\n\u001b[1;32m      6\u001b[0m \u001b[0;34m\u001b[0m\u001b[0m\n",
            "\u001b[0;32m/usr/local/lib/python3.11/dist-packages/seaborn/categorical.py\u001b[0m in \u001b[0;36mboxplot\u001b[0;34m(data, x, y, hue, order, hue_order, orient, color, palette, saturation, fill, dodge, width, gap, whis, linecolor, linewidth, fliersize, hue_norm, native_scale, log_scale, formatter, legend, ax, **kwargs)\u001b[0m\n\u001b[1;32m   1632\u001b[0m     \u001b[0mlinecolor\u001b[0m \u001b[0;34m=\u001b[0m \u001b[0mp\u001b[0m\u001b[0;34m.\u001b[0m\u001b[0m_complement_color\u001b[0m\u001b[0;34m(\u001b[0m\u001b[0mlinecolor\u001b[0m\u001b[0;34m,\u001b[0m \u001b[0mcolor\u001b[0m\u001b[0;34m,\u001b[0m \u001b[0mp\u001b[0m\u001b[0;34m.\u001b[0m\u001b[0m_hue_map\u001b[0m\u001b[0;34m)\u001b[0m\u001b[0;34m\u001b[0m\u001b[0;34m\u001b[0m\u001b[0m\n\u001b[1;32m   1633\u001b[0m \u001b[0;34m\u001b[0m\u001b[0m\n\u001b[0;32m-> 1634\u001b[0;31m     p.plot_boxes(\n\u001b[0m\u001b[1;32m   1635\u001b[0m         \u001b[0mwidth\u001b[0m\u001b[0;34m=\u001b[0m\u001b[0mwidth\u001b[0m\u001b[0;34m,\u001b[0m\u001b[0;34m\u001b[0m\u001b[0;34m\u001b[0m\u001b[0m\n\u001b[1;32m   1636\u001b[0m         \u001b[0mdodge\u001b[0m\u001b[0;34m=\u001b[0m\u001b[0mdodge\u001b[0m\u001b[0;34m,\u001b[0m\u001b[0;34m\u001b[0m\u001b[0;34m\u001b[0m\u001b[0m\n",
            "\u001b[0;32m/usr/local/lib/python3.11/dist-packages/seaborn/categorical.py\u001b[0m in \u001b[0;36mplot_boxes\u001b[0;34m(self, width, dodge, gap, fill, whis, color, linecolor, linewidth, fliersize, plot_kws)\u001b[0m\n\u001b[1;32m    629\u001b[0m         \u001b[0max\u001b[0m \u001b[0;34m=\u001b[0m \u001b[0mself\u001b[0m\u001b[0;34m.\u001b[0m\u001b[0max\u001b[0m\u001b[0;34m\u001b[0m\u001b[0;34m\u001b[0m\u001b[0m\n\u001b[1;32m    630\u001b[0m \u001b[0;34m\u001b[0m\u001b[0m\n\u001b[0;32m--> 631\u001b[0;31m         for sub_vars, sub_data in self.iter_data(iter_vars,\n\u001b[0m\u001b[1;32m    632\u001b[0m                                                  \u001b[0mfrom_comp_data\u001b[0m\u001b[0;34m=\u001b[0m\u001b[0;32mTrue\u001b[0m\u001b[0;34m,\u001b[0m\u001b[0;34m\u001b[0m\u001b[0;34m\u001b[0m\u001b[0m\n\u001b[1;32m    633\u001b[0m                                                  allow_empty=False):\n",
            "\u001b[0;32m/usr/local/lib/python3.11/dist-packages/seaborn/_base.py\u001b[0m in \u001b[0;36miter_data\u001b[0;34m(self, grouping_vars, reverse, from_comp_data, by_facet, allow_empty, dropna)\u001b[0m\n\u001b[1;32m    900\u001b[0m \u001b[0;34m\u001b[0m\u001b[0m\n\u001b[1;32m    901\u001b[0m         \u001b[0;32mif\u001b[0m \u001b[0mfrom_comp_data\u001b[0m\u001b[0;34m:\u001b[0m\u001b[0;34m\u001b[0m\u001b[0;34m\u001b[0m\u001b[0m\n\u001b[0;32m--> 902\u001b[0;31m             \u001b[0mdata\u001b[0m \u001b[0;34m=\u001b[0m \u001b[0mself\u001b[0m\u001b[0;34m.\u001b[0m\u001b[0mcomp_data\u001b[0m\u001b[0;34m\u001b[0m\u001b[0;34m\u001b[0m\u001b[0m\n\u001b[0m\u001b[1;32m    903\u001b[0m         \u001b[0;32melse\u001b[0m\u001b[0;34m:\u001b[0m\u001b[0;34m\u001b[0m\u001b[0;34m\u001b[0m\u001b[0m\n\u001b[1;32m    904\u001b[0m             \u001b[0mdata\u001b[0m \u001b[0;34m=\u001b[0m \u001b[0mself\u001b[0m\u001b[0;34m.\u001b[0m\u001b[0mplot_data\u001b[0m\u001b[0;34m\u001b[0m\u001b[0;34m\u001b[0m\u001b[0m\n",
            "\u001b[0;32m/usr/local/lib/python3.11/dist-packages/seaborn/_base.py\u001b[0m in \u001b[0;36mcomp_data\u001b[0;34m(self)\u001b[0m\n\u001b[1;32m    998\u001b[0m                         \u001b[0;31m# supporting `order` in categorical plots is tricky\u001b[0m\u001b[0;34m\u001b[0m\u001b[0;34m\u001b[0m\u001b[0m\n\u001b[1;32m    999\u001b[0m                         \u001b[0morig\u001b[0m \u001b[0;34m=\u001b[0m \u001b[0morig\u001b[0m\u001b[0;34m[\u001b[0m\u001b[0morig\u001b[0m\u001b[0;34m.\u001b[0m\u001b[0misin\u001b[0m\u001b[0;34m(\u001b[0m\u001b[0mself\u001b[0m\u001b[0;34m.\u001b[0m\u001b[0mvar_levels\u001b[0m\u001b[0;34m[\u001b[0m\u001b[0mvar\u001b[0m\u001b[0;34m]\u001b[0m\u001b[0;34m)\u001b[0m\u001b[0;34m]\u001b[0m\u001b[0;34m\u001b[0m\u001b[0;34m\u001b[0m\u001b[0m\n\u001b[0;32m-> 1000\u001b[0;31m                     \u001b[0mcomp\u001b[0m \u001b[0;34m=\u001b[0m \u001b[0mpd\u001b[0m\u001b[0;34m.\u001b[0m\u001b[0mto_numeric\u001b[0m\u001b[0;34m(\u001b[0m\u001b[0mconverter\u001b[0m\u001b[0;34m.\u001b[0m\u001b[0mconvert_units\u001b[0m\u001b[0;34m(\u001b[0m\u001b[0morig\u001b[0m\u001b[0;34m)\u001b[0m\u001b[0;34m)\u001b[0m\u001b[0;34m.\u001b[0m\u001b[0mastype\u001b[0m\u001b[0;34m(\u001b[0m\u001b[0mfloat\u001b[0m\u001b[0;34m)\u001b[0m\u001b[0;34m\u001b[0m\u001b[0;34m\u001b[0m\u001b[0m\n\u001b[0m\u001b[1;32m   1001\u001b[0m                     \u001b[0mtransform\u001b[0m \u001b[0;34m=\u001b[0m \u001b[0mconverter\u001b[0m\u001b[0;34m.\u001b[0m\u001b[0mget_transform\u001b[0m\u001b[0;34m(\u001b[0m\u001b[0;34m)\u001b[0m\u001b[0;34m.\u001b[0m\u001b[0mtransform\u001b[0m\u001b[0;34m\u001b[0m\u001b[0;34m\u001b[0m\u001b[0m\n\u001b[1;32m   1002\u001b[0m                     \u001b[0mparts\u001b[0m\u001b[0;34m.\u001b[0m\u001b[0mappend\u001b[0m\u001b[0;34m(\u001b[0m\u001b[0mpd\u001b[0m\u001b[0;34m.\u001b[0m\u001b[0mSeries\u001b[0m\u001b[0;34m(\u001b[0m\u001b[0mtransform\u001b[0m\u001b[0;34m(\u001b[0m\u001b[0mcomp\u001b[0m\u001b[0;34m)\u001b[0m\u001b[0;34m,\u001b[0m \u001b[0morig\u001b[0m\u001b[0;34m.\u001b[0m\u001b[0mindex\u001b[0m\u001b[0;34m,\u001b[0m \u001b[0mname\u001b[0m\u001b[0;34m=\u001b[0m\u001b[0morig\u001b[0m\u001b[0;34m.\u001b[0m\u001b[0mname\u001b[0m\u001b[0;34m)\u001b[0m\u001b[0;34m)\u001b[0m\u001b[0;34m\u001b[0m\u001b[0;34m\u001b[0m\u001b[0m\n",
            "\u001b[0;32m/usr/local/lib/python3.11/dist-packages/pandas/core/tools/numeric.py\u001b[0m in \u001b[0;36mto_numeric\u001b[0;34m(arg, errors, downcast, dtype_backend)\u001b[0m\n\u001b[1;32m    230\u001b[0m         \u001b[0mcoerce_numeric\u001b[0m \u001b[0;34m=\u001b[0m \u001b[0merrors\u001b[0m \u001b[0;32mnot\u001b[0m \u001b[0;32min\u001b[0m \u001b[0;34m(\u001b[0m\u001b[0;34m\"ignore\"\u001b[0m\u001b[0;34m,\u001b[0m \u001b[0;34m\"raise\"\u001b[0m\u001b[0;34m)\u001b[0m\u001b[0;34m\u001b[0m\u001b[0;34m\u001b[0m\u001b[0m\n\u001b[1;32m    231\u001b[0m         \u001b[0;32mtry\u001b[0m\u001b[0;34m:\u001b[0m\u001b[0;34m\u001b[0m\u001b[0;34m\u001b[0m\u001b[0m\n\u001b[0;32m--> 232\u001b[0;31m             values, new_mask = lib.maybe_convert_numeric(  # type: ignore[call-overload]\n\u001b[0m\u001b[1;32m    233\u001b[0m                 \u001b[0mvalues\u001b[0m\u001b[0;34m,\u001b[0m\u001b[0;34m\u001b[0m\u001b[0;34m\u001b[0m\u001b[0m\n\u001b[1;32m    234\u001b[0m                 \u001b[0mset\u001b[0m\u001b[0;34m(\u001b[0m\u001b[0;34m)\u001b[0m\u001b[0;34m,\u001b[0m\u001b[0;34m\u001b[0m\u001b[0;34m\u001b[0m\u001b[0m\n",
            "\u001b[0;32mlib.pyx\u001b[0m in \u001b[0;36mpandas._libs.lib.maybe_convert_numeric\u001b[0;34m()\u001b[0m\n",
            "\u001b[0;31mTypeError\u001b[0m: Invalid object type at position 0"
          ]
        },
        {
          "output_type": "display_data",
          "data": {
            "text/plain": [
              "<Figure size 640x480 with 1 Axes>"
            ],
            "image/png": "[encoded data removed]"
          },
          "metadata": {}
        }
      ]
    },
    {
      "cell_type": "code",
      "source": [
        "# All number of seats have null for this type of CARGO plane\n",
        "# which has zero seats upon investigation.\n",
        "inventory[inventory['NUMBER_OF_SEATS'].isnull()]\n",
        "print(inventory[inventory['MODEL'] == \"767-232SFCARGO\"]['NUMBER_OF_SEATS'].value_counts(), '\\n')\n",
        "print(inventory[inventory['MODEL'] == \"767-338ERCARGO\"]['NUMBER_OF_SEATS'].value_counts())\n",
        "\n",
        "# Set to zero number of seats\n",
        "inventory.loc[inventory['NUMBER_OF_SEATS'].isnull(), \"NUMBER_OF_SEATS\"] = 0\n"
      ],
      "metadata": {
        "colab": {
          "base_uri": "https://localhost:8080/"
        },
        "id": "7TTB137JJZwY",
        "outputId": "642f1bf1-0b24-4c3a-f804-f63a898067a5"
      },
      "execution_count": 34,
      "outputs": [
        {
          "output_type": "stream",
          "name": "stdout",
          "text": [
            "NUMBER_OF_SEATS\n",
            "0.0    25\n",
            "Name: count, dtype: int64 \n",
            "\n",
            "NUMBER_OF_SEATS\n",
            "0.0    26\n",
            "Name: count, dtype: int64\n"
          ]
        }
      ]
    },
    {
      "cell_type": "code",
      "source": [
        "import matplotlib.pyplot as plt\n",
        "\n",
        "# Loop through models with missing CAPACITY_IN_POUNDS\n",
        "for model in inventory[inventory['CAPACITY_IN_POUNDS'].isnull()]['MODEL'].unique():\n",
        "    plt.figure(figsize=(6, 4))  # create a new figure for each plot\n",
        "    sns.boxplot(\n",
        "        data=inventory[inventory['MODEL'] == model],\n",
        "        x='CAPACITY_IN_POUNDS'\n",
        "    )\n",
        "    plt.title(f'Boxplot for {model}')\n",
        "    plt.xlabel('CAPACITY_IN_POUNDS')\n",
        "    plt.tight_layout()\n",
        "    plt.show()\n",
        "\n",
        "\n",
        "# We can see that each has a very tight IQR for weight capacity.\n",
        "# Can impute sampling from that range."
      ],
      "metadata": {
        "colab": {
          "base_uri": "https://localhost:8080/",
          "height": 1000
        },
        "id": "SRdnmr3GYSYx",
        "outputId": "5f52fa05-8514-4018-bc6c-78458de32d98"
      },
      "execution_count": 35,
      "outputs": [
        {
          "output_type": "display_data",
          "data": {
            "text/plain": [
              "<Figure size 600x400 with 1 Axes>"
            ],
            "image/png": "[encoded data removed]"
          },
          "metadata": {}
        },
        {
          "output_type": "display_data",
          "data": {
            "text/plain": [
              "<Figure size 600x400 with 1 Axes>"
            ],
            "image/png": "[encoded data removed]"
          },
          "metadata": {}
        },
        {
          "output_type": "display_data",
          "data": {
            "text/plain": [
              "<Figure size 600x400 with 1 Axes>"
            ],
            "image/png": "[encoded data removed]"
          },
          "metadata": {}
        },
        {
          "output_type": "display_data",
          "data": {
            "text/plain": [
              "<Figure size 600x400 with 1 Axes>"
            ],
            "image/png": "[encoded data removed]"
          },
          "metadata": {}
        },
        {
          "output_type": "display_data",
          "data": {
            "text/plain": [
              "<Figure size 600x400 with 1 Axes>"
            ],
            "image/png": "[encoded data removed]"
          },
          "metadata": {}
        },
        {
          "output_type": "display_data",
          "data": {
            "text/plain": [
              "<Figure size 600x400 with 1 Axes>"
            ],
            "image/png": "[encoded data removed]"
          },
          "metadata": {}
        }
      ]
    },
    {
      "cell_type": "code",
      "source": [
        "import numpy as np\n",
        "import random\n",
        "\n",
        "# Loop through each model with missing CAPACITY_IN_POUNDS\n",
        "for model in inventory[inventory['CAPACITY_IN_POUNDS'].isnull()]['MODEL'].unique():\n",
        "\n",
        "    # Get non-null capacity values for the model\n",
        "    model_data = inventory.loc[\n",
        "        (inventory['MODEL'] == model) &\n",
        "        (inventory['CAPACITY_IN_POUNDS'].notnull()),\n",
        "        'CAPACITY_IN_POUNDS'\n",
        "    ]\n",
        "\n",
        "    # Calculate IQR\n",
        "    Q1 = model_data.quantile(0.25)\n",
        "    Q3 = model_data.quantile(0.75)\n",
        "\n",
        "    # Get the indices where capacity is missing for this model\n",
        "    missing_indices = inventory.loc[\n",
        "        (inventory['MODEL'] == model) &\n",
        "        (inventory['CAPACITY_IN_POUNDS'].isnull())\n",
        "    ].index\n",
        "\n",
        "    # Fill each missing value with a random sample from the IQR range\n",
        "    for idx in missing_indices:\n",
        "        inventory.at[idx, 'CAPACITY_IN_POUNDS'] = random.uniform(Q1, Q3)\n"
      ],
      "metadata": {
        "id": "dSpfKBjdY6a_"
      },
      "execution_count": 36,
      "outputs": []
    },
    {
      "cell_type": "markdown",
      "source": [
        "# Question 2: Transformations\n",
        "Inspect the columns MANUFACTURER, MODEL, AIRCRAFT_STATUS, and OPERATING_STATUS. Decide, for each column, if transformation or standardization of data are required. Give your reasoning and code if you decide to transform the data.\n",
        "\n",
        "Hints:\n",
        "- For very messy data like manufacturer/model names, give your best attempt.\n",
        "- It is okay to not catch them all.\n",
        "- Use value_counts() to identify \"big wins\".\n",
        "- Break down into multiple steps, instead of having one line of code to do them all."
      ],
      "metadata": {
        "id": "35F-ymUIgHY8"
      }
    },
    {
      "cell_type": "markdown",
      "source": [
        "### First deal with manufacturer"
      ],
      "metadata": {
        "id": "vJKgovSIgoX3"
      }
    },
    {
      "cell_type": "code",
      "source": [
        "# Boeing: 42% of manufactured planes.\n",
        "total_boeing = 0\n",
        "for manufacturer in inventory['MANUFACTURER'].unique():\n",
        "  if \"boeing\" in manufacturer.lower():\n",
        "    total_boeing += len(inventory.loc[inventory['MANUFACTURER'] == manufacturer, 'MANUFACTURER'].index)\n",
        "    inventory.loc[inventory['MANUFACTURER'] == manufacturer, 'MANUFACTURER'] = \"Boeing\"\n",
        "    print(manufacturer)\n",
        "\n",
        "print(total_boeing/len(inventory) * 100)"
      ],
      "metadata": {
        "colab": {
          "base_uri": "https://localhost:8080/"
        },
        "id": "WXtZkd0MdH9C",
        "outputId": "2ae96d05-6ce1-42fa-be2f-f307b17490c0"
      },
      "execution_count": 37,
      "outputs": [
        {
          "output_type": "stream",
          "name": "stdout",
          "text": [
            "BOEING\n",
            "BOEING                                                                          \n",
            "Boeing\n",
            "THEBOEINGCOMPANY\n",
            "BOEINGCO\n",
            "BoeingCo\n",
            "BOEINGCOMPANY\n",
            "THEBOEINGCO\n",
            "boeing\n",
            "TheBoeingCompany\n",
            "Boeing747-446\n",
            "BoeingCo.\n",
            "Boeing(McDonnell-Douglas)\n",
            "TheBOEINGCO\n",
            "56.20914044727275\n"
          ]
        }
      ]
    },
    {
      "cell_type": "code",
      "source": [
        "total_bombardier = 0\n",
        "for manufacturer in inventory['MANUFACTURER'].unique():\n",
        "    if \"bombardier\" in manufacturer.lower():\n",
        "          total_bombardier += len(inventory.loc[inventory['MANUFACTURER'] == manufacturer, 'MANUFACTURER'].index)\n",
        "          inventory.loc[inventory['MANUFACTURER'] == manufacturer, 'MANUFACTURER'] = \"Bombardier\"\n",
        "          print(manufacturer)\n",
        "\n",
        "print(total_bombardier/len(inventory) * 100)"
      ],
      "metadata": {
        "colab": {
          "base_uri": "https://localhost:8080/"
        },
        "id": "0zaujuByemFT",
        "outputId": "a4f7073c-cba3-49af-f71b-9de544c51144"
      },
      "execution_count": 38,
      "outputs": [
        {
          "output_type": "stream",
          "name": "stdout",
          "text": [
            "BOMBARDIER\n",
            "BOMBARDIER                                                                      \n",
            "Bombardier\n",
            "BombardierAerospace\n",
            "11.673834014798244\n"
          ]
        }
      ]
    },
    {
      "cell_type": "code",
      "source": [
        "total_airbus = 0\n",
        "for manufacturer in inventory['MANUFACTURER'].unique():\n",
        "    if \"airbus\" in manufacturer.lower():\n",
        "          total_airbus += len(inventory.loc[inventory['MANUFACTURER'] == manufacturer, 'MANUFACTURER'].index)\n",
        "          inventory.loc[inventory['MANUFACTURER'] == manufacturer, 'MANUFACTURER'] = \"Airbus\"\n",
        "          print(manufacturer)\n",
        "\n",
        "print(total_airbus/len(inventory) * 100)"
      ],
      "metadata": {
        "colab": {
          "base_uri": "https://localhost:8080/"
        },
        "id": "sKhQVDKmhSur",
        "outputId": "1d99909d-14b1-46bc-d92b-e2cbf90b4585"
      },
      "execution_count": 39,
      "outputs": [
        {
          "output_type": "stream",
          "name": "stdout",
          "text": [
            "AIRBUS\n",
            "AIRBUS                                                                          \n",
            "Airbus\n",
            "AIRBUSINDUSTRIES\n",
            "AirbusIndustrie\n",
            "AirbusIndustries\n",
            "airbus\n",
            "AirbusCompany\n",
            "AirBlue/Airbus\n",
            "23.927354077074813\n"
          ]
        }
      ]
    },
    {
      "cell_type": "code",
      "source": [
        "for manufacturer in inventory['MANUFACTURER'].unique():\n",
        "    if \"embraer\" in manufacturer.lower():\n",
        "          inventory.loc[inventory['MANUFACTURER'] == manufacturer, 'MANUFACTURER'] = \"Embraer\"\n",
        "          print(manufacturer)"
      ],
      "metadata": {
        "colab": {
          "base_uri": "https://localhost:8080/"
        },
        "id": "9qKuV9bshgEk",
        "outputId": "9c7266b7-7ea2-4dcb-bae0-a64a83866b64"
      },
      "execution_count": 40,
      "outputs": [
        {
          "output_type": "stream",
          "name": "stdout",
          "text": [
            "EMBRAER\n",
            "EMBRAER                                                                         \n",
            "Embraer\n"
          ]
        }
      ]
    },
    {
      "cell_type": "code",
      "source": [
        "inventory['MANUFACTURER'].value_counts()[4:]\n",
        "\n",
        "for manufacturer in inventory['MANUFACTURER'].unique():\n",
        "    if \"cessna\" in manufacturer.lower():\n",
        "          inventory.loc[inventory['MANUFACTURER'] == manufacturer, 'MANUFACTURER'] = \"Cessna\"\n",
        "          print(manufacturer)"
      ],
      "metadata": {
        "colab": {
          "base_uri": "https://localhost:8080/"
        },
        "id": "wKpasDYGhtv7",
        "outputId": "10598619-7f46-46e3-ba30-96cac8050ca8"
      },
      "execution_count": 41,
      "outputs": [
        {
          "output_type": "stream",
          "name": "stdout",
          "text": [
            "CESSNA\n",
            "CESSNA                                                                          \n",
            "Cessna\n"
          ]
        }
      ]
    },
    {
      "cell_type": "code",
      "source": [
        "inventory['MANUFACTURER'].value_counts()[5:]\n",
        "\n",
        "\n",
        "for manufacturer in inventory['MANUFACTURER'].unique():\n",
        "    if \"mcdonnell\" in manufacturer.lower() or 'douglas' in manufacturer.lower():\n",
        "          inventory.loc[inventory['MANUFACTURER'] == manufacturer, 'MANUFACTURER'] = \"McDonnell-Douglas\"\n",
        "          print(manufacturer)"
      ],
      "metadata": {
        "colab": {
          "base_uri": "https://localhost:8080/"
        },
        "id": "YJvoS1Jph00a",
        "outputId": "3dd30164-85dd-4a2f-f601-a3f28d9fda6c"
      },
      "execution_count": 42,
      "outputs": [
        {
          "output_type": "stream",
          "name": "stdout",
          "text": [
            "MCDONNELL-DOUGLAS\n",
            "MCDONNELL-DOUGLAS                                                               \n",
            "Douglas\n",
            "MCDONNELLDOUGLAS\n",
            "McDonnellDouglas\n",
            "McDonnell-Douglas\n",
            "MCDONNELLDOUG\n",
            "DOUGLASAIRCRAFT\n",
            "DOUGLAS\n",
            "McDonnelDouglas\n",
            "McDonaldDouglas\n",
            "MDDouglas\n",
            "McDonnellDouglasMD11-F\n",
            "MCDONNELL\n"
          ]
        }
      ]
    },
    {
      "cell_type": "code",
      "source": [
        "for manufacturer in inventory['MANUFACTURER'].unique():\n",
        "    if \"canada\" in manufacturer.lower():\n",
        "          inventory.loc[inventory['MANUFACTURER'] == manufacturer, 'MANUFACTURER'] = \"Canadair\"\n",
        "          print(manufacturer)"
      ],
      "metadata": {
        "colab": {
          "base_uri": "https://localhost:8080/"
        },
        "id": "gAphjpyRiW5_",
        "outputId": "eea72a7b-fd12-44ab-e368-fc587d5e0ff5"
      },
      "execution_count": 43,
      "outputs": [
        {
          "output_type": "stream",
          "name": "stdout",
          "text": [
            "CANADAIR\n",
            "CANADAIR                                                                        \n",
            "Canadair\n"
          ]
        }
      ]
    },
    {
      "cell_type": "code",
      "source": [
        "for manufacturer in inventory['MANUFACTURER'].unique():\n",
        "    if manufacturer.lower() == 'ge' or \"gecas\" in manufacturer.lower():\n",
        "          inventory.loc[inventory['MANUFACTURER'] == manufacturer, 'MANUFACTURER'] = \"GE\"\n",
        "          print(manufacturer)"
      ],
      "metadata": {
        "colab": {
          "base_uri": "https://localhost:8080/"
        },
        "id": "yxe25vQciked",
        "outputId": "8499c66d-ba2f-4f7e-f1fe-b7883feae1c6"
      },
      "execution_count": 44,
      "outputs": [
        {
          "output_type": "stream",
          "name": "stdout",
          "text": [
            "GE\n",
            "GECAS\n",
            "Hamburg/GECAS\n",
            "Rossiya/GECAS\n",
            "Vueling/GECAS\n",
            "AerLingus/GECAS\n",
            "easyJet/GECAS\n",
            "Aeroflot/GECAS\n",
            "GECAS/Alaska\n"
          ]
        }
      ]
    },
    {
      "cell_type": "code",
      "source": [
        "for manufacturer in inventory['MANUFACTURER'].unique():\n",
        "    if\"dehavilland\" in manufacturer.lower():\n",
        "          inventory.loc[inventory['MANUFACTURER'] == manufacturer, 'MANUFACTURER'] = \"DeHavilland\"\n",
        "          print(manufacturer)"
      ],
      "metadata": {
        "colab": {
          "base_uri": "https://localhost:8080/"
        },
        "id": "3pSA04gkjBsu",
        "outputId": "02782239-baf7-4264-c07f-8c8a73e546cc"
      },
      "execution_count": 45,
      "outputs": [
        {
          "output_type": "stream",
          "name": "stdout",
          "text": [
            "DEHAVILLAND\n",
            "DEHAVILLAND                                                                     \n",
            "DeHavilland\n",
            "deHavilland\n"
          ]
        }
      ]
    },
    {
      "cell_type": "code",
      "source": [
        "for manufacturer in inventory['MANUFACTURER'].unique():\n",
        "    if\"saab\" in manufacturer.lower():\n",
        "          inventory.loc[inventory['MANUFACTURER'] == manufacturer, 'MANUFACTURER'] = \"SAAB\"\n",
        "          print(manufacturer)"
      ],
      "metadata": {
        "colab": {
          "base_uri": "https://localhost:8080/"
        },
        "id": "4VQ3IUzgjaW2",
        "outputId": "1b0a76c7-8539-4042-d3c5-a36a6ec284d7"
      },
      "execution_count": 46,
      "outputs": [
        {
          "output_type": "stream",
          "name": "stdout",
          "text": [
            "SAAB AIRCRAFT\n",
            "SAAB AIRCRAFT                                                                   \n",
            "Saab\n",
            "SAAB\n",
            "SAABFairchild\n",
            "SAABScania\n",
            "SAAB-Fairchild\n"
          ]
        }
      ]
    },
    {
      "cell_type": "code",
      "source": [
        "# Fixed major airlines encompassing over 98% of inventory, good enough for me:)\n",
        "print(\"PERCENT LEFT\", round(inventory['MANUFACTURER'].value_counts()[11:].sum()/len(inventory) * 100,3))"
      ],
      "metadata": {
        "colab": {
          "base_uri": "https://localhost:8080/"
        },
        "id": "fmYHnYL6iEu2",
        "outputId": "158ba32c-2743-44e2-bb63-e148de64d379"
      },
      "execution_count": 47,
      "outputs": [
        {
          "output_type": "stream",
          "name": "stdout",
          "text": [
            "PERCENT LEFT 1.555\n"
          ]
        }
      ]
    },
    {
      "cell_type": "markdown",
      "source": [
        "### Model"
      ],
      "metadata": {
        "id": "mQH18FrpjpQM"
      }
    },
    {
      "cell_type": "code",
      "source": [
        "model_inventory = inventory.copy(deep = True)"
      ],
      "metadata": {
        "id": "GDoPduqgkpGZ"
      },
      "execution_count": 48,
      "outputs": []
    },
    {
      "cell_type": "code",
      "source": [
        "model_inventory['MODEL'].value_counts()"
      ],
      "metadata": {
        "colab": {
          "base_uri": "https://localhost:8080/",
          "height": 489
        },
        "id": "ATe2oOp7iRt2",
        "outputId": "a5053819-37d9-4fac-9042-306dfab76de0"
      },
      "execution_count": 49,
      "outputs": [
        {
          "output_type": "execute_result",
          "data": {
            "text/plain": [
              "MODEL\n",
              "EMB-145          2614\n",
              "B-737-7H4        2470\n",
              "B737-823         2370\n",
              "A320-232         2333\n",
              "A321-231         2259\n",
              "                 ... \n",
              "A321-231(P2F)       1\n",
              "777FFX              1\n",
              "T210N               1\n",
              "757-29J             1\n",
              "757-260PF           1\n",
              "Name: count, Length: 1340, dtype: int64"
            ],
            "text/html": [
              "<div>\n",
              "<style scoped>\n",
              "    .dataframe tbody tr th:only-of-type {\n",
              "        vertical-align: middle;\n",
              "    }\n",
              "\n",
              "    .dataframe tbody tr th {\n",
              "        vertical-align: top;\n",
              "    }\n",
              "\n",
              "    .dataframe thead th {\n",
              "        text-align: right;\n",
              "    }\n",
              "</style>\n",
              "<table border=\"1\" class=\"dataframe\">\n",
              "  <thead>\n",
              "    <tr style=\"text-align: right;\">\n",
              "      <th></th>\n",
              "      <th>count</th>\n",
              "    </tr>\n",
              "    <tr>\n",
              "      <th>MODEL</th>\n",
              "      <th></th>\n",
              "    </tr>\n",
              "  </thead>\n",
              "  <tbody>\n",
              "    <tr>\n",
              "      <th>EMB-145</th>\n",
              "      <td>2614</td>\n",
              "    </tr>\n",
              "    <tr>\n",
              "      <th>B-737-7H4</th>\n",
              "      <td>2470</td>\n",
              "    </tr>\n",
              "    <tr>\n",
              "      <th>B737-823</th>\n",
              "      <td>2370</td>\n",
              "    </tr>\n",
              "    <tr>\n",
              "      <th>A320-232</th>\n",
              "      <td>2333</td>\n",
              "    </tr>\n",
              "    <tr>\n",
              "      <th>A321-231</th>\n",
              "      <td>2259</td>\n",
              "    </tr>\n",
              "    <tr>\n",
              "      <th>...</th>\n",
              "      <td>...</td>\n",
              "    </tr>\n",
              "    <tr>\n",
              "      <th>A321-231(P2F)</th>\n",
              "      <td>1</td>\n",
              "    </tr>\n",
              "    <tr>\n",
              "      <th>777FFX</th>\n",
              "      <td>1</td>\n",
              "    </tr>\n",
              "    <tr>\n",
              "      <th>T210N</th>\n",
              "      <td>1</td>\n",
              "    </tr>\n",
              "    <tr>\n",
              "      <th>757-29J</th>\n",
              "      <td>1</td>\n",
              "    </tr>\n",
              "    <tr>\n",
              "      <th>757-260PF</th>\n",
              "      <td>1</td>\n",
              "    </tr>\n",
              "  </tbody>\n",
              "</table>\n",
              "<p>1340 rows × 1 columns</p>\n",
              "</div><br><label><b>dtype:</b> int64</label>"
            ]
          },
          "metadata": {},
          "execution_count": 49
        }
      ]
    },
    {
      "cell_type": "code",
      "source": [
        "import pandas as pd\n",
        "import re\n",
        "\n",
        "def standardize_model(model):\n",
        "    \"\"\"\n",
        "    try to standardize model names, especially popular models, to format (1+ letters, 3 numbers, details)\n",
        "    \"\"\"\n",
        "    model = str(model).upper()  # uppercase\n",
        "    model = model.replace('BOEING', '').replace('AIRBUS', '')  # Sremove manufacturer names\n",
        "    model = re.sub(r'[^A-Z0-9]', '', model)  # remove (dashes, spaces, slashes, etc.)\n",
        "\n",
        "    # match any aircraft type (letters + 3 digits, followed by weird details)\n",
        "    match = re.search(r'([A-Z]+[0-9]{3})([A-Z0-9]*)', model)\n",
        "\n",
        "    if match:\n",
        "        aircraft_type = match.group(1)  # e.g. B737, CL600\n",
        "        details = match.group(2)        # e.g. 800, 7H4\n",
        "        details = re.sub(r'(PAX|PSGR|PASSENGERONLY)', '', details)  # strip passenger det\n",
        "        return f'{aircraft_type}-{details}' if details else aircraft_type\n",
        "\n",
        "    return model  # otherwise return as is\n",
        "\n",
        "model_inventory['MODEL_STANDARDIZED'] = model_inventory['MODEL'].apply(standardize_model)"
      ],
      "metadata": {
        "id": "X6YoDlqJktBa"
      },
      "execution_count": 50,
      "outputs": []
    },
    {
      "cell_type": "code",
      "source": [
        "import re\n",
        "\n",
        "def extract_aircraft_family(standardized_model):\n",
        "    \"\"\"\n",
        "    Get the generalized format from standardized\n",
        "    model name, e.g. A320, B747, etc.\n",
        "    \"\"\"\n",
        "    standardized_model = str(standardized_model).upper()\n",
        "\n",
        "    # Match letters + 3+ digits at the start of the standardized model name\n",
        "    match = re.match(r'([A-Z]+[0-9]{3,})', standardized_model)\n",
        "    if match:\n",
        "        return match.group(1)\n",
        "\n",
        "    return standardized_model  # fallback if no match\n",
        "\n",
        "model_inventory['MODEL_GENERAL'] = model_inventory['MODEL_STANDARDIZED'].apply(extract_aircraft_family)\n",
        "\n",
        "model_inventory['MODEL_GENERAL'].value_counts()"
      ],
      "metadata": {
        "colab": {
          "base_uri": "https://localhost:8080/",
          "height": 489
        },
        "id": "FF5j1tN8o1yt",
        "outputId": "9ce53a98-755c-40f6-957b-3910b2697f01"
      },
      "execution_count": 51,
      "outputs": [
        {
          "output_type": "execute_result",
          "data": {
            "text/plain": [
              "MODEL_GENERAL\n",
              "B737                  20481\n",
              "A320                   8344\n",
              "A319                   5421\n",
              "B757                   4954\n",
              "A321                   4499\n",
              "                      ...  \n",
              "PREMIER                   1\n",
              "C206                      1\n",
              "GULFSTREAM150             1\n",
              "RAYTHEONBEECHCRAFT        1\n",
              "737883                    1\n",
              "Name: count, Length: 628, dtype: int64"
            ],
            "text/html": [
              "<div>\n",
              "<style scoped>\n",
              "    .dataframe tbody tr th:only-of-type {\n",
              "        vertical-align: middle;\n",
              "    }\n",
              "\n",
              "    .dataframe tbody tr th {\n",
              "        vertical-align: top;\n",
              "    }\n",
              "\n",
              "    .dataframe thead th {\n",
              "        text-align: right;\n",
              "    }\n",
              "</style>\n",
              "<table border=\"1\" class=\"dataframe\">\n",
              "  <thead>\n",
              "    <tr style=\"text-align: right;\">\n",
              "      <th></th>\n",
              "      <th>count</th>\n",
              "    </tr>\n",
              "    <tr>\n",
              "      <th>MODEL_GENERAL</th>\n",
              "      <th></th>\n",
              "    </tr>\n",
              "  </thead>\n",
              "  <tbody>\n",
              "    <tr>\n",
              "      <th>B737</th>\n",
              "      <td>20481</td>\n",
              "    </tr>\n",
              "    <tr>\n",
              "      <th>A320</th>\n",
              "      <td>8344</td>\n",
              "    </tr>\n",
              "    <tr>\n",
              "      <th>A319</th>\n",
              "      <td>5421</td>\n",
              "    </tr>\n",
              "    <tr>\n",
              "      <th>B757</th>\n",
              "      <td>4954</td>\n",
              "    </tr>\n",
              "    <tr>\n",
              "      <th>A321</th>\n",
              "      <td>4499</td>\n",
              "    </tr>\n",
              "    <tr>\n",
              "      <th>...</th>\n",
              "      <td>...</td>\n",
              "    </tr>\n",
              "    <tr>\n",
              "      <th>PREMIER</th>\n",
              "      <td>1</td>\n",
              "    </tr>\n",
              "    <tr>\n",
              "      <th>C206</th>\n",
              "      <td>1</td>\n",
              "    </tr>\n",
              "    <tr>\n",
              "      <th>GULFSTREAM150</th>\n",
              "      <td>1</td>\n",
              "    </tr>\n",
              "    <tr>\n",
              "      <th>RAYTHEONBEECHCRAFT</th>\n",
              "      <td>1</td>\n",
              "    </tr>\n",
              "    <tr>\n",
              "      <th>737883</th>\n",
              "      <td>1</td>\n",
              "    </tr>\n",
              "  </tbody>\n",
              "</table>\n",
              "<p>628 rows × 1 columns</p>\n",
              "</div><br><label><b>dtype:</b> int64</label>"
            ]
          },
          "metadata": {},
          "execution_count": 51
        }
      ]
    },
    {
      "cell_type": "markdown",
      "source": [
        "### Aircraft Status"
      ],
      "metadata": {
        "id": "hWPoT-G_rJVW"
      }
    },
    {
      "cell_type": "code",
      "source": [
        "model_inventory['AIRCRAFT_STATUS'] = model_inventory['AIRCRAFT_STATUS'].str.upper()\n",
        "model_inventory['AIRCRAFT_STATUS'].value_counts()"
      ],
      "metadata": {
        "colab": {
          "base_uri": "https://localhost:8080/",
          "height": 240
        },
        "id": "Jp0fddJcqp5f",
        "outputId": "1a9fccc6-4b51-41d4-881f-883187a4e8d7"
      },
      "execution_count": 52,
      "outputs": [
        {
          "output_type": "execute_result",
          "data": {
            "text/plain": [
              "AIRCRAFT_STATUS\n",
              "O    79506\n",
              "B    43551\n",
              "A     9134\n",
              "L      122\n",
              "Name: count, dtype: int64"
            ],
            "text/html": [
              "<div>\n",
              "<style scoped>\n",
              "    .dataframe tbody tr th:only-of-type {\n",
              "        vertical-align: middle;\n",
              "    }\n",
              "\n",
              "    .dataframe tbody tr th {\n",
              "        vertical-align: top;\n",
              "    }\n",
              "\n",
              "    .dataframe thead th {\n",
              "        text-align: right;\n",
              "    }\n",
              "</style>\n",
              "<table border=\"1\" class=\"dataframe\">\n",
              "  <thead>\n",
              "    <tr style=\"text-align: right;\">\n",
              "      <th></th>\n",
              "      <th>count</th>\n",
              "    </tr>\n",
              "    <tr>\n",
              "      <th>AIRCRAFT_STATUS</th>\n",
              "      <th></th>\n",
              "    </tr>\n",
              "  </thead>\n",
              "  <tbody>\n",
              "    <tr>\n",
              "      <th>O</th>\n",
              "      <td>79506</td>\n",
              "    </tr>\n",
              "    <tr>\n",
              "      <th>B</th>\n",
              "      <td>43551</td>\n",
              "    </tr>\n",
              "    <tr>\n",
              "      <th>A</th>\n",
              "      <td>9134</td>\n",
              "    </tr>\n",
              "    <tr>\n",
              "      <th>L</th>\n",
              "      <td>122</td>\n",
              "    </tr>\n",
              "  </tbody>\n",
              "</table>\n",
              "</div><br><label><b>dtype:</b> int64</label>"
            ]
          },
          "metadata": {},
          "execution_count": 52
        }
      ]
    },
    {
      "cell_type": "markdown",
      "source": [
        "### OPERATING_STATUS"
      ],
      "metadata": {
        "id": "rKIakJ1arVeo"
      }
    },
    {
      "cell_type": "code",
      "source": [
        "model_inventory['OPERATING_STATUS'] = model_inventory['OPERATING_STATUS'].str.upper()\n",
        "model_inventory['OPERATING_STATUS'].value_counts()"
      ],
      "metadata": {
        "colab": {
          "base_uri": "https://localhost:8080/",
          "height": 209
        },
        "id": "sSLTGs0arM_L",
        "outputId": "b3d4b89a-9d4b-438a-a1c4-856e5a72fd6f"
      },
      "execution_count": 53,
      "outputs": [
        {
          "output_type": "execute_result",
          "data": {
            "text/plain": [
              "OPERATING_STATUS\n",
              "Y    126648\n",
              "N      5664\n",
              "          1\n",
              "Name: count, dtype: int64"
            ],
            "text/html": [
              "<div>\n",
              "<style scoped>\n",
              "    .dataframe tbody tr th:only-of-type {\n",
              "        vertical-align: middle;\n",
              "    }\n",
              "\n",
              "    .dataframe tbody tr th {\n",
              "        vertical-align: top;\n",
              "    }\n",
              "\n",
              "    .dataframe thead th {\n",
              "        text-align: right;\n",
              "    }\n",
              "</style>\n",
              "<table border=\"1\" class=\"dataframe\">\n",
              "  <thead>\n",
              "    <tr style=\"text-align: right;\">\n",
              "      <th></th>\n",
              "      <th>count</th>\n",
              "    </tr>\n",
              "    <tr>\n",
              "      <th>OPERATING_STATUS</th>\n",
              "      <th></th>\n",
              "    </tr>\n",
              "  </thead>\n",
              "  <tbody>\n",
              "    <tr>\n",
              "      <th>Y</th>\n",
              "      <td>126648</td>\n",
              "    </tr>\n",
              "    <tr>\n",
              "      <th>N</th>\n",
              "      <td>5664</td>\n",
              "    </tr>\n",
              "    <tr>\n",
              "      <th></th>\n",
              "      <td>1</td>\n",
              "    </tr>\n",
              "  </tbody>\n",
              "</table>\n",
              "</div><br><label><b>dtype:</b> int64</label>"
            ]
          },
          "metadata": {},
          "execution_count": 53
        }
      ]
    },
    {
      "cell_type": "code",
      "source": [],
      "metadata": {
        "id": "iaxotFdKPJmk"
      },
      "execution_count": null,
      "outputs": []
    },
    {
      "cell_type": "markdown",
      "source": [
        "### AIRCRAFT_TYPE"
      ],
      "metadata": {
        "id": "SbpyQNPZPKMs"
      }
    },
    {
      "cell_type": "code",
      "source": [
        "print(model_inventory['AIRCRAFT_TYPE'].isna().sum())\n",
        "\n",
        "for manufacturer in model_inventory['MANUFACTURER'].unique():\n",
        "    manu_df = model_inventory.loc[model_inventory['MANUFACTURER'] == manufacturer]\n",
        "    if manu_df['AIRCRAFT_TYPE'].nunique() == 1:\n",
        "        model_inventory.loc[model_inventory['MANUFACTURER'] == manufacturer, 'AIRCRAFT_TYPE'] = manu_df['AIRCRAFT_TYPE'].unique()[0]\n",
        "\n",
        "print(model_inventory['AIRCRAFT_TYPE'].isna().sum())\n",
        "\n",
        "# Can't impute using Manufacturer :(, this didn't help anything\n"
      ],
      "metadata": {
        "colab": {
          "base_uri": "https://localhost:8080/"
        },
        "id": "jyDLX2vEPL9X",
        "outputId": "90887daf-f721-46d3-c3d9-cff0dd5d4bea"
      },
      "execution_count": 61,
      "outputs": [
        {
          "output_type": "stream",
          "name": "stdout",
          "text": [
            "29933\n",
            "29937\n"
          ]
        }
      ]
    },
    {
      "cell_type": "markdown",
      "source": [
        "## Remove data rows that still have missing values. Report the amount of remaining data you obtained.\n"
      ],
      "metadata": {
        "id": "iwlpIoaure8n"
      }
    },
    {
      "cell_type": "code",
      "source": [
        "model_inventory.loc[model_inventory['UNIQUE_CARRIER'].isna(), 'UNIQUE_CARRIER']= \"NA\"\n",
        "missing_data = model_inventory.isnull().sum()\n",
        "missing_data"
      ],
      "metadata": {
        "colab": {
          "base_uri": "https://localhost:8080/",
          "height": 679
        },
        "id": "GYicF26eraBg",
        "outputId": "f9b5baec-7933-4958-f1ee-5ac526033523"
      },
      "execution_count": 65,
      "outputs": [
        {
          "output_type": "execute_result",
          "data": {
            "text/plain": [
              "YEAR                       0\n",
              "CARRIER                    0\n",
              "CARRIER_NAME               0\n",
              "MANUFACTURE_YEAR           0\n",
              "UNIQUE_CARRIER_NAME        0\n",
              "SERIAL_NUMBER              0\n",
              "TAIL_NUMBER                0\n",
              "AIRCRAFT_STATUS            0\n",
              "OPERATING_STATUS           0\n",
              "NUMBER_OF_SEATS            0\n",
              "MANUFACTURER               0\n",
              "AIRCRAFT_TYPE          29937\n",
              "MODEL                     11\n",
              "CAPACITY_IN_POUNDS         0\n",
              "ACQUISITION_DATE         967\n",
              "AIRLINE_ID                 0\n",
              "UNIQUE_CARRIER             0\n",
              "MODEL_STANDARDIZED         0\n",
              "MODEL_GENERAL              0\n",
              "dtype: int64"
            ],
            "text/html": [
              "<div>\n",
              "<style scoped>\n",
              "    .dataframe tbody tr th:only-of-type {\n",
              "        vertical-align: middle;\n",
              "    }\n",
              "\n",
              "    .dataframe tbody tr th {\n",
              "        vertical-align: top;\n",
              "    }\n",
              "\n",
              "    .dataframe thead th {\n",
              "        text-align: right;\n",
              "    }\n",
              "</style>\n",
              "<table border=\"1\" class=\"dataframe\">\n",
              "  <thead>\n",
              "    <tr style=\"text-align: right;\">\n",
              "      <th></th>\n",
              "      <th>0</th>\n",
              "    </tr>\n",
              "  </thead>\n",
              "  <tbody>\n",
              "    <tr>\n",
              "      <th>YEAR</th>\n",
              "      <td>0</td>\n",
              "    </tr>\n",
              "    <tr>\n",
              "      <th>CARRIER</th>\n",
              "      <td>0</td>\n",
              "    </tr>\n",
              "    <tr>\n",
              "      <th>CARRIER_NAME</th>\n",
              "      <td>0</td>\n",
              "    </tr>\n",
              "    <tr>\n",
              "      <th>MANUFACTURE_YEAR</th>\n",
              "      <td>0</td>\n",
              "    </tr>\n",
              "    <tr>\n",
              "      <th>UNIQUE_CARRIER_NAME</th>\n",
              "      <td>0</td>\n",
              "    </tr>\n",
              "    <tr>\n",
              "      <th>SERIAL_NUMBER</th>\n",
              "      <td>0</td>\n",
              "    </tr>\n",
              "    <tr>\n",
              "      <th>TAIL_NUMBER</th>\n",
              "      <td>0</td>\n",
              "    </tr>\n",
              "    <tr>\n",
              "      <th>AIRCRAFT_STATUS</th>\n",
              "      <td>0</td>\n",
              "    </tr>\n",
              "    <tr>\n",
              "      <th>OPERATING_STATUS</th>\n",
              "      <td>0</td>\n",
              "    </tr>\n",
              "    <tr>\n",
              "      <th>NUMBER_OF_SEATS</th>\n",
              "      <td>0</td>\n",
              "    </tr>\n",
              "    <tr>\n",
              "      <th>MANUFACTURER</th>\n",
              "      <td>0</td>\n",
              "    </tr>\n",
              "    <tr>\n",
              "      <th>AIRCRAFT_TYPE</th>\n",
              "      <td>29937</td>\n",
              "    </tr>\n",
              "    <tr>\n",
              "      <th>MODEL</th>\n",
              "      <td>11</td>\n",
              "    </tr>\n",
              "    <tr>\n",
              "      <th>CAPACITY_IN_POUNDS</th>\n",
              "      <td>0</td>\n",
              "    </tr>\n",
              "    <tr>\n",
              "      <th>ACQUISITION_DATE</th>\n",
              "      <td>967</td>\n",
              "    </tr>\n",
              "    <tr>\n",
              "      <th>AIRLINE_ID</th>\n",
              "      <td>0</td>\n",
              "    </tr>\n",
              "    <tr>\n",
              "      <th>UNIQUE_CARRIER</th>\n",
              "      <td>0</td>\n",
              "    </tr>\n",
              "    <tr>\n",
              "      <th>MODEL_STANDARDIZED</th>\n",
              "      <td>0</td>\n",
              "    </tr>\n",
              "    <tr>\n",
              "      <th>MODEL_GENERAL</th>\n",
              "      <td>0</td>\n",
              "    </tr>\n",
              "  </tbody>\n",
              "</table>\n",
              "</div><br><label><b>dtype:</b> int64</label>"
            ]
          },
          "metadata": {},
          "execution_count": 65
        }
      ]
    },
    {
      "cell_type": "code",
      "source": [
        "# FX doesn't put in models, those 11 NAN can't be helped.\n",
        "model_inventory[model_inventory['MODEL'].isnull()]\n",
        "model_inventory[model_inventory['CARRIER'] == \"FX\"]\n",
        "\n",
        "# Similarly, acquisition date being unknown can't be derived from elsewhere, therefore these all have to be removed\n",
        "model_inventory[model_inventory['ACQUISITION_DATE'].isnull()]\n",
        "model_inventory[model_inventory['AIRCRAFT_TYPE'].isnull()]"
      ],
      "metadata": {
        "colab": {
          "base_uri": "https://localhost:8080/",
          "height": 617
        },
        "id": "ByirR-ectrQ6",
        "outputId": "4010053b-adef-4d84-a99f-88813f6b69d5"
      },
      "execution_count": 66,
      "outputs": [
        {
          "output_type": "execute_result",
          "data": {
            "text/plain": [
              "       YEAR CARRIER            CARRIER_NAME MANUFACTURE_YEAR  \\\n",
              "0      2006      16       PSA Airlines Inc.           2003.0   \n",
              "1      2006      16       PSA Airlines Inc.           2003.0   \n",
              "2      2006      16       PSA Airlines Inc.           2003.0   \n",
              "3      2006      16       PSA Airlines Inc.           2003.0   \n",
              "4      2006      16       PSA Airlines Inc.           2003.0   \n",
              "...     ...     ...                     ...              ...   \n",
              "30553  2010      AA  American Airlines Inc.           2010.0   \n",
              "37156  2011      AA  American Airlines Inc.           1991.0   \n",
              "37157  2011      AA  American Airlines Inc.           1991.0   \n",
              "37158  2011      AA  American Airlines Inc.           1991.0   \n",
              "37159  2011      AA  American Airlines Inc.           1991.0   \n",
              "\n",
              "          UNIQUE_CARRIER_NAME SERIAL_NUMBER TAIL_NUMBER AIRCRAFT_STATUS  \\\n",
              "0           PSA Airlines Inc.          7858      N202PS               B   \n",
              "1           PSA Airlines Inc.          7860      N206PS               B   \n",
              "2           PSA Airlines Inc.          7873      N207PS               B   \n",
              "3           PSA Airlines Inc.          7874      N209PS               B   \n",
              "4           PSA Airlines Inc.          7879      N213PS               B   \n",
              "...                       ...           ...         ...             ...   \n",
              "30553  American Airlines Inc.         40584      N866NN               O   \n",
              "37156  American Airlines Inc.         11353      N1402K               B   \n",
              "37157  American Airlines Inc.         11354      N1403M               B   \n",
              "37158  American Airlines Inc.         11355      N1404D               B   \n",
              "37159  American Airlines Inc.         11356      N1405J               B   \n",
              "\n",
              "      OPERATING_STATUS  NUMBER_OF_SEATS       MANUFACTURER AIRCRAFT_TYPE  \\\n",
              "0                    Y             50.0           Canadair           NaN   \n",
              "1                    Y             50.0           Canadair           NaN   \n",
              "2                    Y             50.0           Canadair           NaN   \n",
              "3                    Y             50.0           Canadair           NaN   \n",
              "4                    Y             50.0           Canadair           NaN   \n",
              "...                ...              ...                ...           ...   \n",
              "30553                Y            160.0             Boeing           NaN   \n",
              "37156                N             87.0  FOKKERAIRCRAFTUSA           NaN   \n",
              "37157                N             87.0  FOKKERAIRCRAFTUSA           NaN   \n",
              "37158                N             87.0  FOKKERAIRCRAFTUSA           NaN   \n",
              "37159                N             87.0  FOKKERAIRCRAFTUSA           NaN   \n",
              "\n",
              "                   MODEL  CAPACITY_IN_POUNDS        ACQUISITION_DATE  \\\n",
              "0                CRJ-2/4             47000.0  10/28/2003 12:00:00 AM   \n",
              "1                CRJ-2/4             47000.0  10/30/2003 12:00:00 AM   \n",
              "2                CRJ-2/4             47000.0  11/26/2003 12:00:00 AM   \n",
              "3                CRJ-2/4             47000.0   12/4/2003 12:00:00 AM   \n",
              "4                CRJ-2/4             47000.0  12/16/2003 12:00:00 AM   \n",
              "...                  ...                 ...                     ...   \n",
              "30553  B737-823PASSENGER             40800.0  12/23/2010 12:00:00 AM   \n",
              "37156    FOKKERPASSENGER             22200.0   8/30/1991 12:00:00 AM   \n",
              "37157    FOKKERPASSENGER             22200.0   9/13/1991 12:00:00 AM   \n",
              "37158    FOKKERPASSENGER             22200.0   9/24/1991 12:00:00 AM   \n",
              "37159    FOKKERPASSENGER             22200.0   10/1/1991 12:00:00 AM   \n",
              "\n",
              "       AIRLINE_ID UNIQUE_CARRIER MODEL_STANDARDIZED    MODEL_GENERAL  \n",
              "0         20397.0             16              CRJ24            CRJ24  \n",
              "1         20397.0             16              CRJ24            CRJ24  \n",
              "2         20397.0             16              CRJ24            CRJ24  \n",
              "3         20397.0             16              CRJ24            CRJ24  \n",
              "4         20397.0             16              CRJ24            CRJ24  \n",
              "...           ...            ...                ...              ...  \n",
              "30553     19805.0             AA  B737-823PASSENGER             B737  \n",
              "37156     19805.0             AA    FOKKERPASSENGER  FOKKERPASSENGER  \n",
              "37157     19805.0             AA    FOKKERPASSENGER  FOKKERPASSENGER  \n",
              "37158     19805.0             AA    FOKKERPASSENGER  FOKKERPASSENGER  \n",
              "37159     19805.0             AA    FOKKERPASSENGER  FOKKERPASSENGER  \n",
              "\n",
              "[29937 rows x 19 columns]"
            ],
            "text/html": [
              "\n",
              "  <div id=\"df-00ab33a9-458e-43c8-b361-f5eeaf57aeaa\" class=\"colab-df-container\">\n",
              "    <div>\n",
              "<style scoped>\n",
              "    .dataframe tbody tr th:only-of-type {\n",
              "        vertical-align: middle;\n",
              "    }\n",
              "\n",
              "    .dataframe tbody tr th {\n",
              "        vertical-align: top;\n",
              "    }\n",
              "\n",
              "    .dataframe thead th {\n",
              "        text-align: right;\n",
              "    }\n",
              "</style>\n",
              "<table border=\"1\" class=\"dataframe\">\n",
              "  <thead>\n",
              "    <tr style=\"text-align: right;\">\n",
              "      <th></th>\n",
              "      <th>YEAR</th>\n",
              "      <th>CARRIER</th>\n",
              "      <th>CARRIER_NAME</th>\n",
              "      <th>MANUFACTURE_YEAR</th>\n",
              "      <th>UNIQUE_CARRIER_NAME</th>\n",
              "      <th>SERIAL_NUMBER</th>\n",
              "      <th>TAIL_NUMBER</th>\n",
              "      <th>AIRCRAFT_STATUS</th>\n",
              "      <th>OPERATING_STATUS</th>\n",
              "      <th>NUMBER_OF_SEATS</th>\n",
              "      <th>MANUFACTURER</th>\n",
              "      <th>AIRCRAFT_TYPE</th>\n",
              "      <th>MODEL</th>\n",
              "      <th>CAPACITY_IN_POUNDS</th>\n",
              "      <th>ACQUISITION_DATE</th>\n",
              "      <th>AIRLINE_ID</th>\n",
              "      <th>UNIQUE_CARRIER</th>\n",
              "      <th>MODEL_STANDARDIZED</th>\n",
              "      <th>MODEL_GENERAL</th>\n",
              "    </tr>\n",
              "  </thead>\n",
              "  <tbody>\n",
              "    <tr>\n",
              "      <th>0</th>\n",
              "      <td>2006</td>\n",
              "      <td>16</td>\n",
              "      <td>PSA Airlines Inc.</td>\n",
              "      <td>2003.0</td>\n",
              "      <td>PSA Airlines Inc.</td>\n",
              "      <td>7858</td>\n",
              "      <td>N202PS</td>\n",
              "      <td>B</td>\n",
              "      <td>Y</td>\n",
              "      <td>50.0</td>\n",
              "      <td>Canadair</td>\n",
              "      <td>NaN</td>\n",
              "      <td>CRJ-2/4</td>\n",
              "      <td>47000.0</td>\n",
              "      <td>10/28/2003 12:00:00 AM</td>\n",
              "      <td>20397.0</td>\n",
              "      <td>16</td>\n",
              "      <td>CRJ24</td>\n",
              "      <td>CRJ24</td>\n",
              "    </tr>\n",
              "    <tr>\n",
              "      <th>1</th>\n",
              "      <td>2006</td>\n",
              "      <td>16</td>\n",
              "      <td>PSA Airlines Inc.</td>\n",
              "      <td>2003.0</td>\n",
              "      <td>PSA Airlines Inc.</td>\n",
              "      <td>7860</td>\n",
              "      <td>N206PS</td>\n",
              "      <td>B</td>\n",
              "      <td>Y</td>\n",
              "      <td>50.0</td>\n",
              "      <td>Canadair</td>\n",
              "      <td>NaN</td>\n",
              "      <td>CRJ-2/4</td>\n",
              "      <td>47000.0</td>\n",
              "      <td>10/30/2003 12:00:00 AM</td>\n",
              "      <td>20397.0</td>\n",
              "      <td>16</td>\n",
              "      <td>CRJ24</td>\n",
              "      <td>CRJ24</td>\n",
              "    </tr>\n",
              "    <tr>\n",
              "      <th>2</th>\n",
              "      <td>2006</td>\n",
              "      <td>16</td>\n",
              "      <td>PSA Airlines Inc.</td>\n",
              "      <td>2003.0</td>\n",
              "      <td>PSA Airlines Inc.</td>\n",
              "      <td>7873</td>\n",
              "      <td>N207PS</td>\n",
              "      <td>B</td>\n",
              "      <td>Y</td>\n",
              "      <td>50.0</td>\n",
              "      <td>Canadair</td>\n",
              "      <td>NaN</td>\n",
              "      <td>CRJ-2/4</td>\n",
              "      <td>47000.0</td>\n",
              "      <td>11/26/2003 12:00:00 AM</td>\n",
              "      <td>20397.0</td>\n",
              "      <td>16</td>\n",
              "      <td>CRJ24</td>\n",
              "      <td>CRJ24</td>\n",
              "    </tr>\n",
              "    <tr>\n",
              "      <th>3</th>\n",
              "      <td>2006</td>\n",
              "      <td>16</td>\n",
              "      <td>PSA Airlines Inc.</td>\n",
              "      <td>2003.0</td>\n",
              "      <td>PSA Airlines Inc.</td>\n",
              "      <td>7874</td>\n",
              "      <td>N209PS</td>\n",
              "      <td>B</td>\n",
              "      <td>Y</td>\n",
              "      <td>50.0</td>\n",
              "      <td>Canadair</td>\n",
              "      <td>NaN</td>\n",
              "      <td>CRJ-2/4</td>\n",
              "      <td>47000.0</td>\n",
              "      <td>12/4/2003 12:00:00 AM</td>\n",
              "      <td>20397.0</td>\n",
              "      <td>16</td>\n",
              "      <td>CRJ24</td>\n",
              "      <td>CRJ24</td>\n",
              "    </tr>\n",
              "    <tr>\n",
              "      <th>4</th>\n",
              "      <td>2006</td>\n",
              "      <td>16</td>\n",
              "      <td>PSA Airlines Inc.</td>\n",
              "      <td>2003.0</td>\n",
              "      <td>PSA Airlines Inc.</td>\n",
              "      <td>7879</td>\n",
              "      <td>N213PS</td>\n",
              "      <td>B</td>\n",
              "      <td>Y</td>\n",
              "      <td>50.0</td>\n",
              "      <td>Canadair</td>\n",
              "      <td>NaN</td>\n",
              "      <td>CRJ-2/4</td>\n",
              "      <td>47000.0</td>\n",
              "      <td>12/16/2003 12:00:00 AM</td>\n",
              "      <td>20397.0</td>\n",
              "      <td>16</td>\n",
              "      <td>CRJ24</td>\n",
              "      <td>CRJ24</td>\n",
              "    </tr>\n",
              "    <tr>\n",
              "      <th>...</th>\n",
              "      <td>...</td>\n",
              "      <td>...</td>\n",
              "      <td>...</td>\n",
              "      <td>...</td>\n",
              "      <td>...</td>\n",
              "      <td>...</td>\n",
              "      <td>...</td>\n",
              "      <td>...</td>\n",
              "      <td>...</td>\n",
              "      <td>...</td>\n",
              "      <td>...</td>\n",
              "      <td>...</td>\n",
              "      <td>...</td>\n",
              "      <td>...</td>\n",
              "      <td>...</td>\n",
              "      <td>...</td>\n",
              "      <td>...</td>\n",
              "      <td>...</td>\n",
              "      <td>...</td>\n",
              "    </tr>\n",
              "    <tr>\n",
              "      <th>30553</th>\n",
              "      <td>2010</td>\n",
              "      <td>AA</td>\n",
              "      <td>American Airlines Inc.</td>\n",
              "      <td>2010.0</td>\n",
              "      <td>American Airlines Inc.</td>\n",
              "      <td>40584</td>\n",
              "      <td>N866NN</td>\n",
              "      <td>O</td>\n",
              "      <td>Y</td>\n",
              "      <td>160.0</td>\n",
              "      <td>Boeing</td>\n",
              "      <td>NaN</td>\n",
              "      <td>B737-823PASSENGER</td>\n",
              "      <td>40800.0</td>\n",
              "      <td>12/23/2010 12:00:00 AM</td>\n",
              "      <td>19805.0</td>\n",
              "      <td>AA</td>\n",
              "      <td>B737-823PASSENGER</td>\n",
              "      <td>B737</td>\n",
              "    </tr>\n",
              "    <tr>\n",
              "      <th>37156</th>\n",
              "      <td>2011</td>\n",
              "      <td>AA</td>\n",
              "      <td>American Airlines Inc.</td>\n",
              "      <td>1991.0</td>\n",
              "      <td>American Airlines Inc.</td>\n",
              "      <td>11353</td>\n",
              "      <td>N1402K</td>\n",
              "      <td>B</td>\n",
              "      <td>N</td>\n",
              "      <td>87.0</td>\n",
              "      <td>FOKKERAIRCRAFTUSA</td>\n",
              "      <td>NaN</td>\n",
              "      <td>FOKKERPASSENGER</td>\n",
              "      <td>22200.0</td>\n",
              "      <td>8/30/1991 12:00:00 AM</td>\n",
              "      <td>19805.0</td>\n",
              "      <td>AA</td>\n",
              "      <td>FOKKERPASSENGER</td>\n",
              "      <td>FOKKERPASSENGER</td>\n",
              "    </tr>\n",
              "    <tr>\n",
              "      <th>37157</th>\n",
              "      <td>2011</td>\n",
              "      <td>AA</td>\n",
              "      <td>American Airlines Inc.</td>\n",
              "      <td>1991.0</td>\n",
              "      <td>American Airlines Inc.</td>\n",
              "      <td>11354</td>\n",
              "      <td>N1403M</td>\n",
              "      <td>B</td>\n",
              "      <td>N</td>\n",
              "      <td>87.0</td>\n",
              "      <td>FOKKERAIRCRAFTUSA</td>\n",
              "      <td>NaN</td>\n",
              "      <td>FOKKERPASSENGER</td>\n",
              "      <td>22200.0</td>\n",
              "      <td>9/13/1991 12:00:00 AM</td>\n",
              "      <td>19805.0</td>\n",
              "      <td>AA</td>\n",
              "      <td>FOKKERPASSENGER</td>\n",
              "      <td>FOKKERPASSENGER</td>\n",
              "    </tr>\n",
              "    <tr>\n",
              "      <th>37158</th>\n",
              "      <td>2011</td>\n",
              "      <td>AA</td>\n",
              "      <td>American Airlines Inc.</td>\n",
              "      <td>1991.0</td>\n",
              "      <td>American Airlines Inc.</td>\n",
              "      <td>11355</td>\n",
              "      <td>N1404D</td>\n",
              "      <td>B</td>\n",
              "      <td>N</td>\n",
              "      <td>87.0</td>\n",
              "      <td>FOKKERAIRCRAFTUSA</td>\n",
              "      <td>NaN</td>\n",
              "      <td>FOKKERPASSENGER</td>\n",
              "      <td>22200.0</td>\n",
              "      <td>9/24/1991 12:00:00 AM</td>\n",
              "      <td>19805.0</td>\n",
              "      <td>AA</td>\n",
              "      <td>FOKKERPASSENGER</td>\n",
              "      <td>FOKKERPASSENGER</td>\n",
              "    </tr>\n",
              "    <tr>\n",
              "      <th>37159</th>\n",
              "      <td>2011</td>\n",
              "      <td>AA</td>\n",
              "      <td>American Airlines Inc.</td>\n",
              "      <td>1991.0</td>\n",
              "      <td>American Airlines Inc.</td>\n",
              "      <td>11356</td>\n",
              "      <td>N1405J</td>\n",
              "      <td>B</td>\n",
              "      <td>N</td>\n",
              "      <td>87.0</td>\n",
              "      <td>FOKKERAIRCRAFTUSA</td>\n",
              "      <td>NaN</td>\n",
              "      <td>FOKKERPASSENGER</td>\n",
              "      <td>22200.0</td>\n",
              "      <td>10/1/1991 12:00:00 AM</td>\n",
              "      <td>19805.0</td>\n",
              "      <td>AA</td>\n",
              "      <td>FOKKERPASSENGER</td>\n",
              "      <td>FOKKERPASSENGER</td>\n",
              "    </tr>\n",
              "  </tbody>\n",
              "</table>\n",
              "<p>29937 rows × 19 columns</p>\n",
              "</div>\n",
              "    <div class=\"colab-df-buttons\">\n",
              "\n",
              "  <div class=\"colab-df-container\">\n",
              "    <button class=\"colab-df-convert\" onclick=\"convertToInteractive('df-00ab33a9-458e-43c8-b361-f5eeaf57aeaa')\"\n",
              "            title=\"Convert this dataframe to an interactive table.\"\n",
              "            style=\"display:none;\">\n",
              "\n",
              "  <svg xmlns=\"http://www.w3.org/2000/svg\" height=\"24px\" viewBox=\"0 -960 960 960\">\n",
              "    <path d=\"M120-120v-720h720v720H120Zm60-500h600v-160H180v160Zm220 220h160v-160H400v160Zm0 220h160v-160H400v160ZM180-400h160v-160H180v160Zm440 0h160v-160H620v160ZM180-180h160v-160H180v160Zm440 0h160v-160H620v160Z\"/>\n",
              "  </svg>\n",
              "    </button>\n",
              "\n",
              "  <style>\n",
              "    .colab-df-container {\n",
              "      display:flex;\n",
              "      gap: 12px;\n",
              "    }\n",
              "\n",
              "    .colab-df-convert {\n",
              "      background-color: #E8F0FE;\n",
              "      border: none;\n",
              "      border-radius: 50%;\n",
              "      cursor: pointer;\n",
              "      display: none;\n",
              "      fill: #1967D2;\n",
              "      height: 32px;\n",
              "      padding: 0 0 0 0;\n",
              "      width: 32px;\n",
              "    }\n",
              "\n",
              "    .colab-df-convert:hover {\n",
              "      background-color: #E2EBFA;\n",
              "      box-shadow: 0px 1px 2px rgba(60, 64, 67, 0.3), 0px 1px 3px 1px rgba(60, 64, 67, 0.15);\n",
              "      fill: #174EA6;\n",
              "    }\n",
              "\n",
              "    .colab-df-buttons div {\n",
              "      margin-bottom: 4px;\n",
              "    }\n",
              "\n",
              "    [theme=dark] .colab-df-convert {\n",
              "      background-color: #3B4455;\n",
              "      fill: #D2E3FC;\n",
              "    }\n",
              "\n",
              "    [theme=dark] .colab-df-convert:hover {\n",
              "      background-color: #434B5C;\n",
              "      box-shadow: 0px 1px 3px 1px rgba(0, 0, 0, 0.15);\n",
              "      filter: drop-shadow(0px 1px 2px rgba(0, 0, 0, 0.3));\n",
              "      fill: #FFFFFF;\n",
              "    }\n",
              "  </style>\n",
              "\n",
              "    <script>\n",
              "      const buttonEl =\n",
              "        document.querySelector('#df-00ab33a9-458e-43c8-b361-f5eeaf57aeaa button.colab-df-convert');\n",
              "      buttonEl.style.display =\n",
              "        google.colab.kernel.accessAllowed ? 'block' : 'none';\n",
              "\n",
              "      async function convertToInteractive(key) {\n",
              "        const element = document.querySelector('#df-00ab33a9-458e-43c8-b361-f5eeaf57aeaa');\n",
              "        const dataTable =\n",
              "          await google.colab.kernel.invokeFunction('convertToInteractive',\n",
              "                                                    [key], {});\n",
              "        if (!dataTable) return;\n",
              "\n",
              "        const docLinkHtml = 'Like what you see? Visit the ' +\n",
              "          '<a target=\"_blank\" href=https://colab.research.google.com/notebooks/data_table.ipynb>data table notebook</a>'\n",
              "          + ' to learn more about interactive tables.';\n",
              "        element.innerHTML = '';\n",
              "        dataTable['output_type'] = 'display_data';\n",
              "        await google.colab.output.renderOutput(dataTable, element);\n",
              "        const docLink = document.createElement('div');\n",
              "        docLink.innerHTML = docLinkHtml;\n",
              "        element.appendChild(docLink);\n",
              "      }\n",
              "    </script>\n",
              "  </div>\n",
              "\n",
              "\n",
              "<div id=\"df-b0ecfa69-8d01-47c8-92b1-53a0512e0b4d\">\n",
              "  <button class=\"colab-df-quickchart\" onclick=\"quickchart('df-b0ecfa69-8d01-47c8-92b1-53a0512e0b4d')\"\n",
              "            title=\"Suggest charts\"\n",
              "            style=\"display:none;\">\n",
              "\n",
              "<svg xmlns=\"http://www.w3.org/2000/svg\" height=\"24px\"viewBox=\"0 0 24 24\"\n",
              "     width=\"24px\">\n",
              "    <g>\n",
              "        <path d=\"M19 3H5c-1.1 0-2 .9-2 2v14c0 1.1.9 2 2 2h14c1.1 0 2-.9 2-2V5c0-1.1-.9-2-2-2zM9 17H7v-7h2v7zm4 0h-2V7h2v10zm4 0h-2v-4h2v4z\"/>\n",
              "    </g>\n",
              "</svg>\n",
              "  </button>\n",
              "\n",
              "<style>\n",
              "  .colab-df-quickchart {\n",
              "      --bg-color: #E8F0FE;\n",
              "      --fill-color: #1967D2;\n",
              "      --hover-bg-color: #E2EBFA;\n",
              "      --hover-fill-color: #174EA6;\n",
              "      --disabled-fill-color: #AAA;\n",
              "      --disabled-bg-color: #DDD;\n",
              "  }\n",
              "\n",
              "  [theme=dark] .colab-df-quickchart {\n",
              "      --bg-color: #3B4455;\n",
              "      --fill-color: #D2E3FC;\n",
              "      --hover-bg-color: #434B5C;\n",
              "      --hover-fill-color: #FFFFFF;\n",
              "      --disabled-bg-color: #3B4455;\n",
              "      --disabled-fill-color: #666;\n",
              "  }\n",
              "\n",
              "  .colab-df-quickchart {\n",
              "    background-color: var(--bg-color);\n",
              "    border: none;\n",
              "    border-radius: 50%;\n",
              "    cursor: pointer;\n",
              "    display: none;\n",
              "    fill: var(--fill-color);\n",
              "    height: 32px;\n",
              "    padding: 0;\n",
              "    width: 32px;\n",
              "  }\n",
              "\n",
              "  .colab-df-quickchart:hover {\n",
              "    background-color: var(--hover-bg-color);\n",
              "    box-shadow: 0 1px 2px rgba(60, 64, 67, 0.3), 0 1px 3px 1px rgba(60, 64, 67, 0.15);\n",
              "    fill: var(--button-hover-fill-color);\n",
              "  }\n",
              "\n",
              "  .colab-df-quickchart-complete:disabled,\n",
              "  .colab-df-quickchart-complete:disabled:hover {\n",
              "    background-color: var(--disabled-bg-color);\n",
              "    fill: var(--disabled-fill-color);\n",
              "    box-shadow: none;\n",
              "  }\n",
              "\n",
              "  .colab-df-spinner {\n",
              "    border: 2px solid var(--fill-color);\n",
              "    border-color: transparent;\n",
              "    border-bottom-color: var(--fill-color);\n",
              "    animation:\n",
              "      spin 1s steps(1) infinite;\n",
              "  }\n",
              "\n",
              "  @keyframes spin {\n",
              "    0% {\n",
              "      border-color: transparent;\n",
              "      border-bottom-color: var(--fill-color);\n",
              "      border-left-color: var(--fill-color);\n",
              "    }\n",
              "    20% {\n",
              "      border-color: transparent;\n",
              "      border-left-color: var(--fill-color);\n",
              "      border-top-color: var(--fill-color);\n",
              "    }\n",
              "    30% {\n",
              "      border-color: transparent;\n",
              "      border-left-color: var(--fill-color);\n",
              "      border-top-color: var(--fill-color);\n",
              "      border-right-color: var(--fill-color);\n",
              "    }\n",
              "    40% {\n",
              "      border-color: transparent;\n",
              "      border-right-color: var(--fill-color);\n",
              "      border-top-color: var(--fill-color);\n",
              "    }\n",
              "    60% {\n",
              "      border-color: transparent;\n",
              "      border-right-color: var(--fill-color);\n",
              "    }\n",
              "    80% {\n",
              "      border-color: transparent;\n",
              "      border-right-color: var(--fill-color);\n",
              "      border-bottom-color: var(--fill-color);\n",
              "    }\n",
              "    90% {\n",
              "      border-color: transparent;\n",
              "      border-bottom-color: var(--fill-color);\n",
              "    }\n",
              "  }\n",
              "</style>\n",
              "\n",
              "  <script>\n",
              "    async function quickchart(key) {\n",
              "      const quickchartButtonEl =\n",
              "        document.querySelector('#' + key + ' button');\n",
              "      quickchartButtonEl.disabled = true;  // To prevent multiple clicks.\n",
              "      quickchartButtonEl.classList.add('colab-df-spinner');\n",
              "      try {\n",
              "        const charts = await google.colab.kernel.invokeFunction(\n",
              "            'suggestCharts', [key], {});\n",
              "      } catch (error) {\n",
              "        console.error('Error during call to suggestCharts:', error);\n",
              "      }\n",
              "      quickchartButtonEl.classList.remove('colab-df-spinner');\n",
              "      quickchartButtonEl.classList.add('colab-df-quickchart-complete');\n",
              "    }\n",
              "    (() => {\n",
              "      let quickchartButtonEl =\n",
              "        document.querySelector('#df-b0ecfa69-8d01-47c8-92b1-53a0512e0b4d button');\n",
              "      quickchartButtonEl.style.display =\n",
              "        google.colab.kernel.accessAllowed ? 'block' : 'none';\n",
              "    })();\n",
              "  </script>\n",
              "</div>\n",
              "\n",
              "    </div>\n",
              "  </div>\n"
            ],
            "application/vnd.google.colaboratory.intrinsic+json": {
              "type": "dataframe",
              "repr_error": "Out of range float values are not JSON compliant: nan"
            }
          },
          "metadata": {},
          "execution_count": 66
        }
      ]
    },
    {
      "cell_type": "code",
      "source": [
        "import pandas as pd\n",
        "\n",
        "initial_rows = len(model_inventory)\n",
        "model_inventory_clean = model_inventory.dropna()\n",
        "final_rows = len(model_inventory_clean)\n",
        "percent_retained = (final_rows / initial_rows) * 100\n",
        "\n",
        "print(f\"Initial rows: {initial_rows}\")\n",
        "print(f\"Final rows: {final_rows}\")\n",
        "print(f\"Percentage of data retained: {percent_retained:.2f}%\")\n"
      ],
      "metadata": {
        "colab": {
          "base_uri": "https://localhost:8080/"
        },
        "id": "fmnx-J_NrtMN",
        "outputId": "9eb00e1c-9790-4c37-f0a1-2cb9d550828e"
      },
      "execution_count": 68,
      "outputs": [
        {
          "output_type": "stream",
          "name": "stdout",
          "text": [
            "Initial rows: 132313\n",
            "Final rows: 101398\n",
            "Percentage of data retained: 76.63%\n"
          ]
        }
      ]
    },
    {
      "cell_type": "code",
      "source": [
        "model_inventory_clean.info()"
      ],
      "metadata": {
        "colab": {
          "base_uri": "https://localhost:8080/",
          "height": 0
        },
        "id": "Up5tYbHDsGYS",
        "outputId": "35b879d2-c38f-4134-d1bc-17b1a526ed7c"
      },
      "execution_count": 38,
      "outputs": [
        {
          "output_type": "stream",
          "name": "stdout",
          "text": [
            "<class 'pandas.core.frame.DataFrame'>\n",
            "Index: 101402 entries, 29239 to 132312\n",
            "Data columns (total 19 columns):\n",
            " #   Column               Non-Null Count   Dtype  \n",
            "---  ------               --------------   -----  \n",
            " 0   YEAR                 101402 non-null  int64  \n",
            " 1   CARRIER              101402 non-null  object \n",
            " 2   CARRIER_NAME         101402 non-null  object \n",
            " 3   MANUFACTURE_YEAR     101402 non-null  float64\n",
            " 4   UNIQUE_CARRIER_NAME  101402 non-null  object \n",
            " 5   SERIAL_NUMBER        101402 non-null  object \n",
            " 6   TAIL_NUMBER          101402 non-null  object \n",
            " 7   AIRCRAFT_STATUS      101402 non-null  object \n",
            " 8   OPERATING_STATUS     101402 non-null  object \n",
            " 9   NUMBER_OF_SEATS      101402 non-null  float64\n",
            " 10  MANUFACTURER         101402 non-null  object \n",
            " 11  AIRCRAFT_TYPE        101402 non-null  object \n",
            " 12  MODEL                101402 non-null  object \n",
            " 13  CAPACITY_IN_POUNDS   101402 non-null  float64\n",
            " 14  ACQUISITION_DATE     101402 non-null  object \n",
            " 15  AIRLINE_ID           101402 non-null  float64\n",
            " 16  UNIQUE_CARRIER       101402 non-null  object \n",
            " 17  MODEL_STANDARDIZED   101402 non-null  object \n",
            " 18  MODEL_GENERAL        101402 non-null  object \n",
            "dtypes: float64(4), int64(1), object(14)\n",
            "memory usage: 15.5+ MB\n"
          ]
        }
      ]
    },
    {
      "cell_type": "markdown",
      "source": [
        "## 4. Transformation and derivative variables\n",
        "- For the columns NUMBER_OF_SEATS and CAPACITY_IN_POUNDS, check the skewness in the variable and plot a histogram for each variable.\n",
        "- The Box-Cox transformation (scipy.stats.boxcox) is one possible way to transform variables into a \"more-normal-like\" variable. Apply the Box-Cox transformation for these two columns and save them as new columns, i.e. XXXXXXXXX_BOXCOX.\n",
        "- Plot a histogram for each transformed variable.\n",
        "- Describe what you observe before and after transformation."
      ],
      "metadata": {
        "id": "xunOj7tJ9WpI"
      }
    },
    {
      "cell_type": "code",
      "source": [
        "# histogram sns\n",
        "\n",
        "plt.figure(figsize=(10, 6))\n",
        "sns.histplot(model_inventory_clean['NUMBER_OF_SEATS'], kde=True)\n",
        "plt.title('Distribution of Aircraft Number of Seats')\n",
        "plt.xlabel('Number of Seats')\n",
        "plt.ylabel('Frequency')\n",
        "plt.show()\n"
      ],
      "metadata": {
        "colab": {
          "base_uri": "https://localhost:8080/",
          "height": 564
        },
        "id": "EDjs-dmCuz7P",
        "outputId": "011c390a-1fc7-447b-9604-fb74922972e0"
      },
      "execution_count": 41,
      "outputs": [
        {
          "output_type": "display_data",
          "data": {
            "text/plain": [
              "<Figure size 1000x600 with 1 Axes>"
            ],
            "image/png": "[encoded data removed]"
          },
          "metadata": {}
        }
      ]
    },
    {
      "cell_type": "code",
      "source": [
        "\n",
        "plt.figure(figsize=(10, 6))\n",
        "sns.histplot(model_inventory_clean['CAPACITY_IN_POUNDS'], kde=True)\n",
        "plt.title('Distribution of Aircraft Weight Capacity')\n",
        "plt.xlabel('Capacity (lbs)')\n",
        "plt.ylabel('Frequency')\n",
        "plt.show()\n"
      ],
      "metadata": {
        "colab": {
          "base_uri": "https://localhost:8080/",
          "height": 564
        },
        "id": "J1ons7_p8_8s",
        "outputId": "07bc6fcc-3c41-4a37-c9f5-9a00eebcf28d"
      },
      "execution_count": 42,
      "outputs": [
        {
          "output_type": "display_data",
          "data": {
            "text/plain": [
              "<Figure size 1000x600 with 1 Axes>"
            ],
            "image/png": "[encoded data removed]"
          },
          "metadata": {}
        }
      ]
    },
    {
      "cell_type": "code",
      "source": [
        "model_inventory_clean['NUMBER_OF_SEATS'].dropna()"
      ],
      "metadata": {
        "colab": {
          "base_uri": "https://localhost:8080/",
          "height": 458
        },
        "id": "yMNX2CCyjQqD",
        "outputId": "2c1eb687-3614-453a-82d8-7e96b957efef"
      },
      "execution_count": 45,
      "outputs": [
        {
          "output_type": "execute_result",
          "data": {
            "text/plain": [
              "29239      92.0\n",
              "29240      86.0\n",
              "29241      86.0\n",
              "29242     136.0\n",
              "29243      19.0\n",
              "          ...  \n",
              "132308     50.0\n",
              "132309     50.0\n",
              "132310     50.0\n",
              "132311     50.0\n",
              "132312     50.0\n",
              "Name: NUMBER_OF_SEATS, Length: 101402, dtype: float64"
            ],
            "text/html": [
              "<div>\n",
              "<style scoped>\n",
              "    .dataframe tbody tr th:only-of-type {\n",
              "        vertical-align: middle;\n",
              "    }\n",
              "\n",
              "    .dataframe tbody tr th {\n",
              "        vertical-align: top;\n",
              "    }\n",
              "\n",
              "    .dataframe thead th {\n",
              "        text-align: right;\n",
              "    }\n",
              "</style>\n",
              "<table border=\"1\" class=\"dataframe\">\n",
              "  <thead>\n",
              "    <tr style=\"text-align: right;\">\n",
              "      <th></th>\n",
              "      <th>NUMBER_OF_SEATS</th>\n",
              "    </tr>\n",
              "  </thead>\n",
              "  <tbody>\n",
              "    <tr>\n",
              "      <th>29239</th>\n",
              "      <td>92.0</td>\n",
              "    </tr>\n",
              "    <tr>\n",
              "      <th>29240</th>\n",
              "      <td>86.0</td>\n",
              "    </tr>\n",
              "    <tr>\n",
              "      <th>29241</th>\n",
              "      <td>86.0</td>\n",
              "    </tr>\n",
              "    <tr>\n",
              "      <th>29242</th>\n",
              "      <td>136.0</td>\n",
              "    </tr>\n",
              "    <tr>\n",
              "      <th>29243</th>\n",
              "      <td>19.0</td>\n",
              "    </tr>\n",
              "    <tr>\n",
              "      <th>...</th>\n",
              "      <td>...</td>\n",
              "    </tr>\n",
              "    <tr>\n",
              "      <th>132308</th>\n",
              "      <td>50.0</td>\n",
              "    </tr>\n",
              "    <tr>\n",
              "      <th>132309</th>\n",
              "      <td>50.0</td>\n",
              "    </tr>\n",
              "    <tr>\n",
              "      <th>132310</th>\n",
              "      <td>50.0</td>\n",
              "    </tr>\n",
              "    <tr>\n",
              "      <th>132311</th>\n",
              "      <td>50.0</td>\n",
              "    </tr>\n",
              "    <tr>\n",
              "      <th>132312</th>\n",
              "      <td>50.0</td>\n",
              "    </tr>\n",
              "  </tbody>\n",
              "</table>\n",
              "<p>101402 rows × 1 columns</p>\n",
              "</div><br><label><b>dtype:</b> float64</label>"
            ]
          },
          "metadata": {},
          "execution_count": 45
        }
      ]
    },
    {
      "cell_type": "code",
      "source": [
        "# boxcox\n",
        "\n",
        "from scipy import stats\n",
        "\n",
        "# Apply Box-Cox transformation to 'NUMBER_OF_SEATS'\n",
        "transformed_seats, lambda_seats = stats.boxcox(model_inventory_clean['NUMBER_OF_SEATS'] + 1)  # Add 1 to handle zero values\n",
        "model_inventory_clean['NUMBER_OF_SEATS_BOXCOX'] = transformed_seats\n",
        "\n",
        "# Apply Box-Cox transformation to 'CAPACITY_IN_POUNDS'\n",
        "transformed_capacity, lambda_capacity = stats.boxcox(model_inventory_clean['CAPACITY_IN_POUNDS'] + 1)\n",
        "model_inventory_clean['CAPACITY_IN_POUNDS_BOXCOX'] = transformed_capacity\n",
        "\n",
        "# Plot histograms of the transformed variables\n",
        "plt.figure(figsize=(10, 6))\n",
        "sns.histplot(model_inventory_clean['NUMBER_OF_SEATS_BOXCOX'], kde=True)\n",
        "plt.title('Distribution of Aircraft Number of Seats (Box-Cox Transformed)')\n",
        "plt.xlabel('Number of Seats (Box-Cox)')\n",
        "plt.ylabel('Frequency')\n",
        "plt.show()\n",
        "\n",
        "plt.figure(figsize=(10, 6))\n",
        "sns.histplot(model_inventory_clean['CAPACITY_IN_POUNDS_BOXCOX'], kde=True)\n",
        "plt.title('Distribution of Aircraft Weight Capacity (Box-Cox Transformed)')\n",
        "plt.xlabel('Capacity (lbs) (Box-Cox)')\n",
        "plt.ylabel('Frequency')\n",
        "plt.show()\n"
      ],
      "metadata": {
        "colab": {
          "base_uri": "https://localhost:8080/",
          "height": 1025
        },
        "id": "hZf4zDIq9LHE",
        "outputId": "90a9ecb7-2bb5-45ed-ebb8-2ca600e84272"
      },
      "execution_count": 47,
      "outputs": [
        {
          "output_type": "stream",
          "name": "stderr",
          "text": [
            "<ipython-input-47-64b6f6983325>:7: SettingWithCopyWarning: \n",
            "A value is trying to be set on a copy of a slice from a DataFrame.\n",
            "Try using .loc[row_indexer,col_indexer] = value instead\n",
            "\n",
            "See the caveats in the documentation: https://pandas.pydata.org/pandas-docs/stable/user_guide/indexing.html#returning-a-view-versus-a-copy\n",
            "  model_inventory_clean['NUMBER_OF_SEATS_BOXCOX'] = transformed_seats\n",
            "<ipython-input-47-64b6f6983325>:11: SettingWithCopyWarning: \n",
            "A value is trying to be set on a copy of a slice from a DataFrame.\n",
            "Try using .loc[row_indexer,col_indexer] = value instead\n",
            "\n",
            "See the caveats in the documentation: https://pandas.pydata.org/pandas-docs/stable/user_guide/indexing.html#returning-a-view-versus-a-copy\n",
            "  model_inventory_clean['CAPACITY_IN_POUNDS_BOXCOX'] = transformed_capacity\n"
          ]
        },
        {
          "output_type": "display_data",
          "data": {
            "text/plain": [
              "<Figure size 1000x600 with 1 Axes>"
            ],
            "image/png": "[encoded data removed]"
          },
          "metadata": {}
        },
        {
          "output_type": "display_data",
          "data": {
            "text/plain": [
              "<Figure size 1000x600 with 1 Axes>"
            ],
            "image/png": "[encoded data removed]"
          },
          "metadata": {}
        }
      ]
    },
    {
      "cell_type": "markdown",
      "source": [
        "### BoxCox\n",
        "Boxcox worked to make the data resemble a more normal profile. However, the transformed variables still aren't really normal at all. There is a lot of skewing of the data because in both cases, there are large groupings of common types/models of planes leading to concentrations of both capacities and seat counts at zero and a select number of values."
      ],
      "metadata": {
        "id": "jfu_cUYYjgCr"
      }
    },
    {
      "cell_type": "markdown",
      "source": [
        "## Feature engineering\n",
        "Create a new column SIZE by the quartiles of NUMBER_OF_SEATS\n",
        "- below 25% percentile: SMALL\n",
        "- 25% - 50% percentile: MEDIUM\n",
        "- 50% - 75% percentile: LARGE\n",
        "- above 75% percentile: XLARGE\n",
        "\n",
        "- For each size group, provide and plot the proportions of aircrafts that are operating versus not (OPERATING_STATUS).\n",
        "- For each size group, provide and plot the proportions of aircrafts belonging to each aircraft status group (AIRCRAFT_STATUS).\n",
        "- Provide a written summary of your findings."
      ],
      "metadata": {
        "id": "1GBpY5XTkUu1"
      }
    },
    {
      "cell_type": "code",
      "source": [
        "import pandas as pd\n",
        "\n",
        "# Get the quantiles\n",
        "quantiles = model_inventory_clean['NUMBER_OF_SEATS'].quantile([0.25, 0.5, 0.75])\n",
        "\n",
        "# Define the bin edges and labels\n",
        "bins = [-float('inf'), quantiles[0.25], quantiles[0.5], quantiles[0.75], float('inf')]\n",
        "labels = ['SMALL', 'MEDIUM', 'LARGE', 'XLARGE']\n",
        "\n",
        "# Assign size based on bins\n",
        "model_inventory_clean['SIZE'] = pd.cut(model_inventory_clean['NUMBER_OF_SEATS'],\n",
        "                                       bins=bins,\n",
        "                                       labels=labels,\n",
        "                                       include_lowest=True)\n",
        "\n"
      ],
      "metadata": {
        "colab": {
          "base_uri": "https://localhost:8080/",
          "height": 0
        },
        "id": "kAhYKg7FjHxl",
        "outputId": "71c73c8e-f05c-4cc1-ab3e-0492978eef87"
      },
      "execution_count": 52,
      "outputs": [
        {
          "output_type": "stream",
          "name": "stderr",
          "text": [
            "<ipython-input-52-089ef7bcf7da>:11: SettingWithCopyWarning: \n",
            "A value is trying to be set on a copy of a slice from a DataFrame.\n",
            "Try using .loc[row_indexer,col_indexer] = value instead\n",
            "\n",
            "See the caveats in the documentation: https://pandas.pydata.org/pandas-docs/stable/user_guide/indexing.html#returning-a-view-versus-a-copy\n",
            "  model_inventory_clean['SIZE'] = pd.cut(model_inventory_clean['NUMBER_OF_SEATS'],\n"
          ]
        }
      ]
    },
    {
      "cell_type": "code",
      "source": [
        "model_inventory_clean['SIZE'].value_counts()"
      ],
      "metadata": {
        "colab": {
          "base_uri": "https://localhost:8080/",
          "height": 240
        },
        "id": "DhZqc0WYnvqc",
        "outputId": "08d29a7f-39ad-43bf-cf19-282e50fc219a"
      },
      "execution_count": 54,
      "outputs": [
        {
          "output_type": "execute_result",
          "data": {
            "text/plain": [
              "SIZE\n",
              "SMALL     29388\n",
              "LARGE     25687\n",
              "XLARGE    24938\n",
              "MEDIUM    21389\n",
              "Name: count, dtype: int64"
            ],
            "text/html": [
              "<div>\n",
              "<style scoped>\n",
              "    .dataframe tbody tr th:only-of-type {\n",
              "        vertical-align: middle;\n",
              "    }\n",
              "\n",
              "    .dataframe tbody tr th {\n",
              "        vertical-align: top;\n",
              "    }\n",
              "\n",
              "    .dataframe thead th {\n",
              "        text-align: right;\n",
              "    }\n",
              "</style>\n",
              "<table border=\"1\" class=\"dataframe\">\n",
              "  <thead>\n",
              "    <tr style=\"text-align: right;\">\n",
              "      <th></th>\n",
              "      <th>count</th>\n",
              "    </tr>\n",
              "    <tr>\n",
              "      <th>SIZE</th>\n",
              "      <th></th>\n",
              "    </tr>\n",
              "  </thead>\n",
              "  <tbody>\n",
              "    <tr>\n",
              "      <th>SMALL</th>\n",
              "      <td>29388</td>\n",
              "    </tr>\n",
              "    <tr>\n",
              "      <th>LARGE</th>\n",
              "      <td>25687</td>\n",
              "    </tr>\n",
              "    <tr>\n",
              "      <th>XLARGE</th>\n",
              "      <td>24938</td>\n",
              "    </tr>\n",
              "    <tr>\n",
              "      <th>MEDIUM</th>\n",
              "      <td>21389</td>\n",
              "    </tr>\n",
              "  </tbody>\n",
              "</table>\n",
              "</div><br><label><b>dtype:</b> int64</label>"
            ]
          },
          "metadata": {},
          "execution_count": 54
        }
      ]
    },
    {
      "cell_type": "code",
      "source": [
        "# Group by 'SIZE' and 'OPERATING_STATUS' and calculate proportions\n",
        "size_operating_status = model_inventory_clean.groupby(['SIZE', 'OPERATING_STATUS']).size().unstack(fill_value=0)\n",
        "size_operating_status_proportions = size_operating_status.div(size_operating_status.sum(axis=1), axis=0)\n",
        "\n",
        "# Plot the proportions\n",
        "size_operating_status_proportions.plot(kind='bar', stacked=True, figsize=(10, 6))\n",
        "plt.title('Proportion of Aircraft Operating Status by Size')\n",
        "plt.xlabel('Size')\n",
        "plt.ylabel('Proportion')\n",
        "plt.xticks(rotation=0)\n",
        "plt.show()\n",
        "\n",
        "# Group by 'SIZE' and 'AIRCRAFT_STATUS' and calculate proportions\n",
        "size_aircraft_status = model_inventory_clean.groupby(['SIZE', 'AIRCRAFT_STATUS']).size().unstack(fill_value=0)\n",
        "size_aircraft_status_proportions = size_aircraft_status.div(size_aircraft_status.sum(axis=1), axis=0)\n",
        "\n",
        "# Plot the proportions\n",
        "size_aircraft_status_proportions.plot(kind='bar', stacked=True, figsize=(10, 6))\n",
        "plt.title('Proportion of Aircraft Status by Size')\n",
        "plt.xlabel('Size')\n",
        "plt.ylabel('Proportion')\n",
        "plt.xticks(rotation=0)\n",
        "plt.show()\n"
      ],
      "metadata": {
        "colab": {
          "base_uri": "https://localhost:8080/",
          "height": 1051
        },
        "id": "erEzzBt7nreZ",
        "outputId": "973cb628-31ee-44d1-b435-79a129c38b5a"
      },
      "execution_count": 57,
      "outputs": [
        {
          "output_type": "stream",
          "name": "stderr",
          "text": [
            "<ipython-input-57-006231de6b20>:4: FutureWarning: The default of observed=False is deprecated and will be changed to True in a future version of pandas. Pass observed=False to retain current behavior or observed=True to adopt the future default and silence this warning.\n",
            "  size_operating_status = model_inventory_clean.groupby(['SIZE', 'OPERATING_STATUS']).size().unstack(fill_value=0)\n"
          ]
        },
        {
          "output_type": "display_data",
          "data": {
            "text/plain": [
              "<Figure size 1000x600 with 1 Axes>"
            ],
            "image/png": "[encoded data removed]"
          },
          "metadata": {}
        },
        {
          "output_type": "stream",
          "name": "stderr",
          "text": [
            "<ipython-input-57-006231de6b20>:16: FutureWarning: The default of observed=False is deprecated and will be changed to True in a future version of pandas. Pass observed=False to retain current behavior or observed=True to adopt the future default and silence this warning.\n",
            "  size_aircraft_status = model_inventory_clean.groupby(['SIZE', 'AIRCRAFT_STATUS']).size().unstack(fill_value=0)\n"
          ]
        },
        {
          "output_type": "display_data",
          "data": {
            "text/plain": [
              "<Figure size 1000x600 with 1 Axes>"
            ],
            "image/png": "[encoded data removed]"
          },
          "metadata": {}
        }
      ]
    },
    {
      "cell_type": "code",
      "source": [
        "model_inventory_clean[model_inventory_clean['OPERATING_STATUS'] == \"Y\"].shape[0]/ model_inventory_clean.shape[0]"
      ],
      "metadata": {
        "colab": {
          "base_uri": "https://localhost:8080/"
        },
        "id": "dPd8UwtneE2Y",
        "outputId": "3d3e3304-aef8-4cef-8113-8a3690fc8c6a"
      },
      "execution_count": 77,
      "outputs": [
        {
          "output_type": "execute_result",
          "data": {
            "text/plain": [
              "0.9619814986488885"
            ]
          },
          "metadata": {},
          "execution_count": 77
        }
      ]
    },
    {
      "cell_type": "code",
      "source": [
        "for status in model_inventory_clean['AIRCRAFT_STATUS'].unique():\n",
        "    print(status, model_inventory_clean[model_inventory_clean['AIRCRAFT_STATUS'] == status].shape[0]/ model_inventory_clean.shape[0])"
      ],
      "metadata": {
        "colab": {
          "base_uri": "https://localhost:8080/"
        },
        "id": "hiu9WwA2eWb3",
        "outputId": "e3592d7f-e94d-4bc8-ae56-df9bf3e82667"
      },
      "execution_count": 78,
      "outputs": [
        {
          "output_type": "stream",
          "name": "stdout",
          "text": [
            "B 0.3010710270419535\n",
            "A 0.07585948440797649\n",
            "O 0.6218663090001775\n",
            "L 0.0012031795498925028\n"
          ]
        }
      ]
    },
    {
      "cell_type": "markdown",
      "source": [
        "Most aircraft are operational. Operating status did not substantially differ depending on the plane size, and approximatley 95% of all planes in this database are operational.\n",
        "\n",
        "According to the BTS website, the codes are as follows: A\tCapital Lease, B\tOperating Lease, O\tOwned. The small number of \"L\" entries are likely mistaken as short for \"Lease\" but can't be mapped to A or O. Small planes were least frequently capital leased aircraft and were typically either owned or on operating leases. Extra large planes were most frequently owned relative to other plane sizes, followed by large planes."
      ],
      "metadata": {
        "id": "3leRMhQpsgr-"
      }
    },
    {
      "cell_type": "code",
      "source": [],
      "metadata": {
        "id": "hlmfcmSXugXZ"
      },
      "execution_count": null,
      "outputs": []
    }
  ]
}