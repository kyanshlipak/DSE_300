{
 "cells": [
  {
   "cell_type": "code",
   "execution_count": null,
   "metadata": {
    "vscode": {
     "languageId": "plaintext"
    }
   },
   "outputs": [],
   "source": [
    "import boto3\n",
    "from io import BytesIO\n",
    "import pandas as pd\n",
    "# you need to change the credentials for yourself\n",
    "# Note that aws_access_key_id changes from time to time\n",
    "\n",
    "s3 = boto3.client('s3',\n",
    "                  aws_access_key_id='...',\n",
    "                  aws_secret_access_key='...',\n",
    "                  aws_session_token='...')\n",
    "\n",
    "\n",
    "bucket_name = 'de300spring2025'\n",
    "object_key = 'dinglin_xia/sample_dataset.csv'\n",
    "csv_obj = s3.get_object(Bucket=bucket_name, Key=object_key)\n",
    "body = csv_obj['Body']\n",
    "csv_string = body.read().decode('utf-8')\n",
    "df = pd.read_csv(BytesIO(csv_string.encode()))\n",
    "print(df.head())"
   ]
  }
 ],
 "metadata": {
  "language_info": {
   "name": "python"
  }
 },
 "nbformat": 4,
 "nbformat_minor": 2
}
