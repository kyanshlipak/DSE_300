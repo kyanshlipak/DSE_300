{
 "cells": [
  {
   "cell_type": "code",
   "execution_count": 1,
   "metadata": {},
   "outputs": [
    {
     "name": "stdout",
     "output_type": "stream",
     "text": [
      "  % Total    % Received % Xferd  Average Speed   Time    Time     Time  Current\n",
      "                                 Dload  Upload   Total   Spent    Left  Speed\n",
      "100  1468  100  1468    0     0   6098      0 --:--:-- --:--:-- --:--:--  6116\n"
     ]
    }
   ],
   "source": [
    "!(curl https://certs.secureserver.net/repository/sf-class2-root.crt -O)"
   ]
  },
  {
   "cell_type": "code",
   "execution_count": null,
   "metadata": {},
   "outputs": [],
   "source": []
  },
  {
   "cell_type": "code",
   "execution_count": 1,
   "metadata": {},
   "outputs": [
    {
     "name": "stderr",
     "output_type": "stream",
     "text": [
      "/var/folders/y_/wsfrr6n944q4gw07ywp8l2_00000gn/T/ipykernel_66212/332746716.py:7: DeprecationWarning: ssl.PROTOCOL_TLSv1_2 is deprecated\n",
      "  ssl_context = SSLContext(PROTOCOL_TLSv1_2)\n"
     ]
    }
   ],
   "source": [
    "from cassandra.cluster import Cluster\n",
    "from ssl import SSLContext, PROTOCOL_TLSv1_2, CERT_REQUIRED\n",
    "from cassandra_sigv4.auth import SigV4AuthProvider\n",
    "import boto3\n",
    "\n",
    "# ssl setup\n",
    "ssl_context = SSLContext(PROTOCOL_TLSv1_2)\n",
    "ssl_context.load_verify_locations('sf-class2-root.crt')  # change your file path for locating the certificate\n",
    "ssl_context.verify_mode = CERT_REQUIRED\n",
    "\n",
    "# boto3 session setup\n",
    "boto_session = boto3.Session(region_name=\"us-east-2\")  # this AWS credentials is specific to `us-east-2` region"
   ]
  },
  {
   "cell_type": "code",
   "execution_count": 2,
   "metadata": {},
   "outputs": [],
   "source": [
    "# authorization setup with SigV4\n",
    "auth_provider = SigV4AuthProvider(boto_session)"
   ]
  },
  {
   "cell_type": "code",
   "execution_count": 3,
   "metadata": {},
   "outputs": [],
   "source": [
    "#cluster setup \n",
    "cluster = Cluster(['cassandra.us-east-2.amazonaws.com'], \n",
    "                  ssl_context=ssl_context, \n",
    "                  auth_provider=auth_provider, \n",
    "                  port=9142)  # TLS only communicates on port 9142"
   ]
  },
  {
   "cell_type": "code",
   "execution_count": 4,
   "metadata": {},
   "outputs": [],
   "source": [
    "# establishing connection to Keyspace\n",
    "session = cluster.connect()"
   ]
  },
  {
   "cell_type": "code",
   "execution_count": 5,
   "metadata": {},
   "outputs": [],
   "source": [
    "from cassandra.cluster import ExecutionProfile, EXEC_PROFILE_DEFAULT\n",
    "from cassandra import ConsistencyLevel\n",
    "\n",
    "\n",
    "# Define execution profile with LOCAL_QUORUM\n",
    "execution_profile = ExecutionProfile(\n",
    "    consistency_level=ConsistencyLevel.LOCAL_QUORUM\n",
    ")\n",
    "\n",
    "# Cluster setup with correct profile\n",
    "cluster = Cluster(\n",
    "    ['cassandra.us-east-2.amazonaws.com'],\n",
    "    ssl_context=ssl_context,\n",
    "    auth_provider=auth_provider,\n",
    "    port=9142,\n",
    "    execution_profiles={EXEC_PROFILE_DEFAULT: execution_profile}\n",
    ")\n",
    "\n",
    "# establishing connection to Keyspace\n",
    "session = cluster.connect()\n",
    "session.set_keyspace('de300_demo')  # Replace with your keyspace"
   ]
  },
  {
   "cell_type": "code",
   "execution_count": 6,
   "metadata": {},
   "outputs": [
    {
     "data": {
      "text/plain": [
       "<cassandra.cluster.ResultSet at 0x10a791870>"
      ]
     },
     "execution_count": 6,
     "metadata": {},
     "output_type": "execute_result"
    }
   ],
   "source": [
    "session.execute(\"\"\"\n",
    "CREATE TABLE IF NOT EXISTS github (\n",
    "    id UUID PRIMARY KEY,\n",
    "    name TEXT,\n",
    "    username TEXT\n",
    ")\n",
    "\"\"\")"
   ]
  },
  {
   "cell_type": "code",
   "execution_count": 7,
   "metadata": {},
   "outputs": [
    {
     "data": {
      "text/plain": [
       "<cassandra.cluster.ResultSet at 0x10a80ddb0>"
      ]
     },
     "execution_count": 7,
     "metadata": {},
     "output_type": "execute_result"
    }
   ],
   "source": [
    "import uuid\n",
    "\n",
    "session.execute(\"\"\"\n",
    "    INSERT INTO github (id, name, username)\n",
    "    VALUES (%s, %s, %s)\n",
    "\"\"\", (uuid.uuid4(), \"Kyan Shlipak\", \"kyanshlipak\"))\n"
   ]
  },
  {
   "cell_type": "code",
   "execution_count": 8,
   "metadata": {},
   "outputs": [],
   "source": [
    "import csv\n",
    "\n",
    "rows = session.execute(\"SELECT * FROM github\")\n",
    "with open(\"github.csv\", \"w\", newline=\"\") as f:\n",
    "    writer = csv.writer(f)\n",
    "    writer.writerow([\"id\", \"name\", \"username\"])\n",
    "    for row in rows:\n",
    "        writer.writerow([row.id, row.name, row.username])"
   ]
  },
  {
   "cell_type": "code",
   "execution_count": 9,
   "metadata": {},
   "outputs": [],
   "source": [
    "session.shutdown()"
   ]
  },
  {
   "cell_type": "code",
   "execution_count": null,
   "metadata": {},
   "outputs": [],
   "source": []
  }
 ],
 "metadata": {
  "kernelspec": {
   "display_name": ".venv",
   "language": "python",
   "name": "python3"
  },
  "language_info": {
   "codemirror_mode": {
    "name": "ipython",
    "version": 3
   },
   "file_extension": ".py",
   "mimetype": "text/x-python",
   "name": "python",
   "nbconvert_exporter": "python",
   "pygments_lexer": "ipython3",
   "version": "3.10.4"
  }
 },
 "nbformat": 4,
 "nbformat_minor": 2
}
