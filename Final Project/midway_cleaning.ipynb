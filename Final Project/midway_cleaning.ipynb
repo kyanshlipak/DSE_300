{
 "cells": [
  {
   "cell_type": "code",
   "execution_count": null,
   "metadata": {
    "colab": {
     "base_uri": "https://localhost:8080/"
    },
    "executionInfo": {
     "elapsed": 176977,
     "status": "ok",
     "timestamp": 1748632016624,
     "user": {
      "displayName": "Melanie Rudolph",
      "userId": "07837973474344089646"
     },
     "user_tz": 300
    },
    "id": "JhfmdBoiSwCY",
    "outputId": "9b47053f-aac5-4204-a72e-2dafa1afeff9"
   },
   "outputs": [
    {
     "name": "stdout",
     "output_type": "stream",
     "text": [
      "\n",
      "Fetching https://www.ncei.noaa.gov/data/local-climatological-data/access/1973/72534014819.csv ...\n",
      "Downloaded 1973_72534014819.csv\n",
      "Uploaded to s3://de300spring2025/MOSES_group/midway_data/1973_72534014819.csv\n",
      "\n",
      "Fetching https://www.ncei.noaa.gov/data/local-climatological-data/access/1974/72534014819.csv ...\n",
      "Downloaded 1974_72534014819.csv\n",
      "Uploaded to s3://de300spring2025/MOSES_group/midway_data/1974_72534014819.csv\n",
      "\n",
      "Fetching https://www.ncei.noaa.gov/data/local-climatological-data/access/1975/72534014819.csv ...\n",
      "Downloaded 1975_72534014819.csv\n",
      "Uploaded to s3://de300spring2025/MOSES_group/midway_data/1975_72534014819.csv\n",
      "\n",
      "Fetching https://www.ncei.noaa.gov/data/local-climatological-data/access/1976/72534014819.csv ...\n",
      "Downloaded 1976_72534014819.csv\n",
      "Uploaded to s3://de300spring2025/MOSES_group/midway_data/1976_72534014819.csv\n",
      "\n",
      "Fetching https://www.ncei.noaa.gov/data/local-climatological-data/access/1977/72534014819.csv ...\n",
      "Downloaded 1977_72534014819.csv\n",
      "Uploaded to s3://de300spring2025/MOSES_group/midway_data/1977_72534014819.csv\n",
      "\n",
      "Fetching https://www.ncei.noaa.gov/data/local-climatological-data/access/1978/72534014819.csv ...\n",
      "Downloaded 1978_72534014819.csv\n",
      "Uploaded to s3://de300spring2025/MOSES_group/midway_data/1978_72534014819.csv\n",
      "\n",
      "Fetching https://www.ncei.noaa.gov/data/local-climatological-data/access/1979/72534014819.csv ...\n",
      "Downloaded 1979_72534014819.csv\n",
      "Uploaded to s3://de300spring2025/MOSES_group/midway_data/1979_72534014819.csv\n",
      "\n",
      "Fetching https://www.ncei.noaa.gov/data/local-climatological-data/access/1980/72534014819.csv ...\n",
      "Downloaded 1980_72534014819.csv\n",
      "Uploaded to s3://de300spring2025/MOSES_group/midway_data/1980_72534014819.csv\n",
      "\n",
      "Fetching https://www.ncei.noaa.gov/data/local-climatological-data/access/1981/72534014819.csv ...\n",
      "Downloaded 1981_72534014819.csv\n",
      "Uploaded to s3://de300spring2025/MOSES_group/midway_data/1981_72534014819.csv\n",
      "\n",
      "Fetching https://www.ncei.noaa.gov/data/local-climatological-data/access/1982/72534014819.csv ...\n",
      "Downloaded 1982_72534014819.csv\n",
      "Uploaded to s3://de300spring2025/MOSES_group/midway_data/1982_72534014819.csv\n",
      "\n",
      "Fetching https://www.ncei.noaa.gov/data/local-climatological-data/access/1983/72534014819.csv ...\n",
      "Downloaded 1983_72534014819.csv\n",
      "Uploaded to s3://de300spring2025/MOSES_group/midway_data/1983_72534014819.csv\n",
      "\n",
      "Fetching https://www.ncei.noaa.gov/data/local-climatological-data/access/1984/72534014819.csv ...\n",
      "Downloaded 1984_72534014819.csv\n",
      "Uploaded to s3://de300spring2025/MOSES_group/midway_data/1984_72534014819.csv\n",
      "\n",
      "Fetching https://www.ncei.noaa.gov/data/local-climatological-data/access/1985/72534014819.csv ...\n",
      "Downloaded 1985_72534014819.csv\n",
      "Uploaded to s3://de300spring2025/MOSES_group/midway_data/1985_72534014819.csv\n",
      "\n",
      "Fetching https://www.ncei.noaa.gov/data/local-climatological-data/access/1986/72534014819.csv ...\n",
      "Downloaded 1986_72534014819.csv\n",
      "Uploaded to s3://de300spring2025/MOSES_group/midway_data/1986_72534014819.csv\n",
      "\n",
      "Fetching https://www.ncei.noaa.gov/data/local-climatological-data/access/1987/72534014819.csv ...\n",
      "Downloaded 1987_72534014819.csv\n",
      "Uploaded to s3://de300spring2025/MOSES_group/midway_data/1987_72534014819.csv\n",
      "\n",
      "Fetching https://www.ncei.noaa.gov/data/local-climatological-data/access/1988/72534014819.csv ...\n",
      "Downloaded 1988_72534014819.csv\n",
      "Uploaded to s3://de300spring2025/MOSES_group/midway_data/1988_72534014819.csv\n",
      "\n",
      "Fetching https://www.ncei.noaa.gov/data/local-climatological-data/access/1989/72534014819.csv ...\n",
      "Downloaded 1989_72534014819.csv\n",
      "Uploaded to s3://de300spring2025/MOSES_group/midway_data/1989_72534014819.csv\n",
      "\n",
      "Fetching https://www.ncei.noaa.gov/data/local-climatological-data/access/1990/72534014819.csv ...\n",
      "Downloaded 1990_72534014819.csv\n",
      "Uploaded to s3://de300spring2025/MOSES_group/midway_data/1990_72534014819.csv\n",
      "\n",
      "Fetching https://www.ncei.noaa.gov/data/local-climatological-data/access/1991/72534014819.csv ...\n",
      "Downloaded 1991_72534014819.csv\n",
      "Uploaded to s3://de300spring2025/MOSES_group/midway_data/1991_72534014819.csv\n",
      "\n",
      "Fetching https://www.ncei.noaa.gov/data/local-climatological-data/access/1992/72534014819.csv ...\n",
      "Downloaded 1992_72534014819.csv\n",
      "Uploaded to s3://de300spring2025/MOSES_group/midway_data/1992_72534014819.csv\n",
      "\n",
      "Fetching https://www.ncei.noaa.gov/data/local-climatological-data/access/1993/72534014819.csv ...\n",
      "Downloaded 1993_72534014819.csv\n",
      "Uploaded to s3://de300spring2025/MOSES_group/midway_data/1993_72534014819.csv\n",
      "\n",
      "Fetching https://www.ncei.noaa.gov/data/local-climatological-data/access/1994/72534014819.csv ...\n",
      "Downloaded 1994_72534014819.csv\n",
      "Uploaded to s3://de300spring2025/MOSES_group/midway_data/1994_72534014819.csv\n",
      "\n",
      "Fetching https://www.ncei.noaa.gov/data/local-climatological-data/access/1995/72534014819.csv ...\n",
      "Downloaded 1995_72534014819.csv\n",
      "Uploaded to s3://de300spring2025/MOSES_group/midway_data/1995_72534014819.csv\n",
      "\n",
      "Fetching https://www.ncei.noaa.gov/data/local-climatological-data/access/1996/72534014819.csv ...\n",
      "Downloaded 1996_72534014819.csv\n",
      "Uploaded to s3://de300spring2025/MOSES_group/midway_data/1996_72534014819.csv\n",
      "\n",
      "Fetching https://www.ncei.noaa.gov/data/local-climatological-data/access/1997/72534014819.csv ...\n",
      "Downloaded 1997_72534014819.csv\n",
      "Uploaded to s3://de300spring2025/MOSES_group/midway_data/1997_72534014819.csv\n",
      "\n",
      "Fetching https://www.ncei.noaa.gov/data/local-climatological-data/access/1998/72534014819.csv ...\n",
      "Downloaded 1998_72534014819.csv\n",
      "Uploaded to s3://de300spring2025/MOSES_group/midway_data/1998_72534014819.csv\n",
      "\n",
      "Fetching https://www.ncei.noaa.gov/data/local-climatological-data/access/1999/72534014819.csv ...\n",
      "Downloaded 1999_72534014819.csv\n",
      "Uploaded to s3://de300spring2025/MOSES_group/midway_data/1999_72534014819.csv\n",
      "\n",
      "Fetching https://www.ncei.noaa.gov/data/local-climatological-data/access/2000/72534014819.csv ...\n",
      "Downloaded 2000_72534014819.csv\n",
      "Uploaded to s3://de300spring2025/MOSES_group/midway_data/2000_72534014819.csv\n",
      "\n",
      "Fetching https://www.ncei.noaa.gov/data/local-climatological-data/access/2001/72534014819.csv ...\n",
      "Downloaded 2001_72534014819.csv\n",
      "Uploaded to s3://de300spring2025/MOSES_group/midway_data/2001_72534014819.csv\n",
      "\n",
      "Fetching https://www.ncei.noaa.gov/data/local-climatological-data/access/2002/72534014819.csv ...\n",
      "Downloaded 2002_72534014819.csv\n",
      "Uploaded to s3://de300spring2025/MOSES_group/midway_data/2002_72534014819.csv\n",
      "\n",
      "Fetching https://www.ncei.noaa.gov/data/local-climatological-data/access/2003/72534014819.csv ...\n",
      "Downloaded 2003_72534014819.csv\n",
      "Uploaded to s3://de300spring2025/MOSES_group/midway_data/2003_72534014819.csv\n",
      "\n",
      "Fetching https://www.ncei.noaa.gov/data/local-climatological-data/access/2004/72534014819.csv ...\n",
      "Downloaded 2004_72534014819.csv\n",
      "Uploaded to s3://de300spring2025/MOSES_group/midway_data/2004_72534014819.csv\n",
      "\n",
      "Fetching https://www.ncei.noaa.gov/data/local-climatological-data/access/2005/72534014819.csv ...\n",
      "Downloaded 2005_72534014819.csv\n",
      "Uploaded to s3://de300spring2025/MOSES_group/midway_data/2005_72534014819.csv\n",
      "\n",
      "Fetching https://www.ncei.noaa.gov/data/local-climatological-data/access/2006/72534014819.csv ...\n",
      "Downloaded 2006_72534014819.csv\n",
      "Uploaded to s3://de300spring2025/MOSES_group/midway_data/2006_72534014819.csv\n",
      "\n",
      "Fetching https://www.ncei.noaa.gov/data/local-climatological-data/access/2007/72534014819.csv ...\n",
      "Downloaded 2007_72534014819.csv\n",
      "Uploaded to s3://de300spring2025/MOSES_group/midway_data/2007_72534014819.csv\n",
      "\n",
      "Fetching https://www.ncei.noaa.gov/data/local-climatological-data/access/2008/72534014819.csv ...\n",
      "Downloaded 2008_72534014819.csv\n",
      "Uploaded to s3://de300spring2025/MOSES_group/midway_data/2008_72534014819.csv\n",
      "\n",
      "Fetching https://www.ncei.noaa.gov/data/local-climatological-data/access/2009/72534014819.csv ...\n",
      "Downloaded 2009_72534014819.csv\n",
      "Uploaded to s3://de300spring2025/MOSES_group/midway_data/2009_72534014819.csv\n",
      "\n",
      "Fetching https://www.ncei.noaa.gov/data/local-climatological-data/access/2010/72534014819.csv ...\n",
      "Downloaded 2010_72534014819.csv\n",
      "Uploaded to s3://de300spring2025/MOSES_group/midway_data/2010_72534014819.csv\n",
      "\n",
      "Fetching https://www.ncei.noaa.gov/data/local-climatological-data/access/2011/72534014819.csv ...\n",
      "Downloaded 2011_72534014819.csv\n",
      "Uploaded to s3://de300spring2025/MOSES_group/midway_data/2011_72534014819.csv\n",
      "\n",
      "Fetching https://www.ncei.noaa.gov/data/local-climatological-data/access/2012/72534014819.csv ...\n",
      "Downloaded 2012_72534014819.csv\n",
      "Uploaded to s3://de300spring2025/MOSES_group/midway_data/2012_72534014819.csv\n",
      "\n",
      "Fetching https://www.ncei.noaa.gov/data/local-climatological-data/access/2013/72534014819.csv ...\n",
      "Downloaded 2013_72534014819.csv\n",
      "Uploaded to s3://de300spring2025/MOSES_group/midway_data/2013_72534014819.csv\n",
      "\n",
      "Fetching https://www.ncei.noaa.gov/data/local-climatological-data/access/2014/72534014819.csv ...\n",
      "Downloaded 2014_72534014819.csv\n",
      "Uploaded to s3://de300spring2025/MOSES_group/midway_data/2014_72534014819.csv\n",
      "\n",
      "Fetching https://www.ncei.noaa.gov/data/local-climatological-data/access/2015/72534014819.csv ...\n",
      "Downloaded 2015_72534014819.csv\n",
      "Uploaded to s3://de300spring2025/MOSES_group/midway_data/2015_72534014819.csv\n",
      "\n",
      "Fetching https://www.ncei.noaa.gov/data/local-climatological-data/access/2016/72534014819.csv ...\n",
      "Downloaded 2016_72534014819.csv\n",
      "Uploaded to s3://de300spring2025/MOSES_group/midway_data/2016_72534014819.csv\n",
      "\n",
      "Fetching https://www.ncei.noaa.gov/data/local-climatological-data/access/2017/72534014819.csv ...\n",
      "Downloaded 2017_72534014819.csv\n",
      "Uploaded to s3://de300spring2025/MOSES_group/midway_data/2017_72534014819.csv\n",
      "\n",
      "Fetching https://www.ncei.noaa.gov/data/local-climatological-data/access/2018/72534014819.csv ...\n",
      "Downloaded 2018_72534014819.csv\n",
      "Uploaded to s3://de300spring2025/MOSES_group/midway_data/2018_72534014819.csv\n",
      "\n",
      "Fetching https://www.ncei.noaa.gov/data/local-climatological-data/access/2019/72534014819.csv ...\n",
      "Downloaded 2019_72534014819.csv\n",
      "Uploaded to s3://de300spring2025/MOSES_group/midway_data/2019_72534014819.csv\n",
      "\n",
      "Fetching https://www.ncei.noaa.gov/data/local-climatological-data/access/2020/72534014819.csv ...\n",
      "Downloaded 2020_72534014819.csv\n",
      "Uploaded to s3://de300spring2025/MOSES_group/midway_data/2020_72534014819.csv\n",
      "\n",
      "Fetching https://www.ncei.noaa.gov/data/local-climatological-data/access/2021/72534014819.csv ...\n",
      "Downloaded 2021_72534014819.csv\n",
      "Uploaded to s3://de300spring2025/MOSES_group/midway_data/2021_72534014819.csv\n",
      "\n",
      "Fetching https://www.ncei.noaa.gov/data/local-climatological-data/access/2022/72534014819.csv ...\n",
      "Downloaded 2022_72534014819.csv\n",
      "Uploaded to s3://de300spring2025/MOSES_group/midway_data/2022_72534014819.csv\n",
      "\n",
      "Fetching https://www.ncei.noaa.gov/data/local-climatological-data/access/2023/72534014819.csv ...\n",
      "Downloaded 2023_72534014819.csv\n",
      "Uploaded to s3://de300spring2025/MOSES_group/midway_data/2023_72534014819.csv\n",
      "\n",
      "Fetching https://www.ncei.noaa.gov/data/local-climatological-data/access/2024/72534014819.csv ...\n",
      "Downloaded 2024_72534014819.csv\n",
      "Uploaded to s3://de300spring2025/MOSES_group/midway_data/2024_72534014819.csv\n"
     ]
    }
   ],
   "source": [
    "import os\n",
    "import requests\n",
    "import boto3\n",
    "from time import sleep\n",
    "from botocore.exceptions import NoCredentialsError, ClientError\n",
    "\n",
    "# AWS S3 config\n",
    "s3 = boto3.client('s3',\n",
    ")\n",
    "                  bucket_name = \"de300spring2025\"\n",
    "s3_prefix = \"MOSES_group/midway_data\"\n",
    "\n",
    "# LCD source config\n",
    "base_url = \"https://www.ncei.noaa.gov/data/local-climatological-data/access\"\n",
    "station_filename = \"72534014819.csv\"\n",
    "\n",
    "def download_and_upload_to_s3(years, delay=1):\n",
    "    for year in years:\n",
    "        url = f\"{base_url}/{year}/{station_filename}\"\n",
    "        local_filename = f\"{year}_{station_filename}\"\n",
    "        s3_key = f\"{s3_prefix}/{local_filename}\"\n",
    "\n",
    "        print(f\"\\nFetching {url} ...\")\n",
    "\n",
    "        response = requests.get(url)\n",
    "        if response.status_code == 200:\n",
    "            with open(local_filename, \"wb\") as f:\n",
    "                f.write(response.content)\n",
    "            print(f\"Downloaded {local_filename}\")\n",
    "\n",
    "            try:\n",
    "                s3.upload_file(local_filename, bucket_name, s3_key)\n",
    "                print(f\"Uploaded to s3://{bucket_name}/{s3_key}\")\n",
    "            except (NoCredentialsError, ClientError) as e:\n",
    "                print(f\"Failed to upload to S3: {e}\")\n",
    "        elif response.status_code == 404:\n",
    "            print(f\"No file for year {year} (404). Skipping.\")\n",
    "        else:\n",
    "            print(f\"HTTP error {response.status_code} for year {year}\")\n",
    "\n",
    "        if os.path.exists(local_filename):\n",
    "            os.remove(local_filename)\n",
    "\n",
    "        sleep(delay)\n",
    "\n",
    "years = list(range(1973, 2025))\n",
    "download_and_upload_to_s3(years)"
   ]
  },
  {
   "cell_type": "code",
   "execution_count": null,
   "metadata": {
    "colab": {
     "base_uri": "https://localhost:8080/"
    },
    "executionInfo": {
     "elapsed": 25010,
     "status": "ok",
     "timestamp": 1748632305603,
     "user": {
      "displayName": "Melanie Rudolph",
      "userId": "07837973474344089646"
     },
     "user_tz": 300
    },
    "id": "WzU8JuQ_l-qu",
    "outputId": "18802b4e-d8cc-4350-de10-1f895b403e4b"
   },
   "outputs": [
    {
     "name": "stdout",
     "output_type": "stream",
     "text": [
      "Processing: MOSES_group/midway_data/1973_72534014819.csv\n"
     ]
    },
    {
     "name": "stderr",
     "output_type": "stream",
     "text": [
      "<ipython-input-38-d0f5366e8862>:32: DtypeWarning: Columns (8,10,13) have mixed types. Specify dtype option on import or set low_memory=False.\n",
      "  df = pd.read_csv(io.StringIO(body))\n"
     ]
    },
    {
     "name": "stdout",
     "output_type": "stream",
     "text": [
      "Processing: MOSES_group/midway_data/1974_72534014819.csv\n"
     ]
    },
    {
     "name": "stderr",
     "output_type": "stream",
     "text": [
      "<ipython-input-38-d0f5366e8862>:32: DtypeWarning: Columns (8,10,17,18) have mixed types. Specify dtype option on import or set low_memory=False.\n",
      "  df = pd.read_csv(io.StringIO(body))\n"
     ]
    },
    {
     "name": "stdout",
     "output_type": "stream",
     "text": [
      "Processing: MOSES_group/midway_data/1975_72534014819.csv\n"
     ]
    },
    {
     "name": "stderr",
     "output_type": "stream",
     "text": [
      "<ipython-input-38-d0f5366e8862>:32: DtypeWarning: Columns (10,13) have mixed types. Specify dtype option on import or set low_memory=False.\n",
      "  df = pd.read_csv(io.StringIO(body))\n"
     ]
    },
    {
     "name": "stdout",
     "output_type": "stream",
     "text": [
      "Processing: MOSES_group/midway_data/1976_72534014819.csv\n"
     ]
    },
    {
     "name": "stderr",
     "output_type": "stream",
     "text": [
      "<ipython-input-38-d0f5366e8862>:32: DtypeWarning: Columns (8,9,10,17) have mixed types. Specify dtype option on import or set low_memory=False.\n",
      "  df = pd.read_csv(io.StringIO(body))\n"
     ]
    },
    {
     "name": "stdout",
     "output_type": "stream",
     "text": [
      "Processing: MOSES_group/midway_data/1977_72534014819.csv\n"
     ]
    },
    {
     "name": "stderr",
     "output_type": "stream",
     "text": [
      "<ipython-input-38-d0f5366e8862>:32: DtypeWarning: Columns (9,10,11) have mixed types. Specify dtype option on import or set low_memory=False.\n",
      "  df = pd.read_csv(io.StringIO(body))\n"
     ]
    },
    {
     "name": "stdout",
     "output_type": "stream",
     "text": [
      "Processing: MOSES_group/midway_data/1978_72534014819.csv\n"
     ]
    },
    {
     "name": "stderr",
     "output_type": "stream",
     "text": [
      "<ipython-input-38-d0f5366e8862>:32: DtypeWarning: Columns (8,10,13,17) have mixed types. Specify dtype option on import or set low_memory=False.\n",
      "  df = pd.read_csv(io.StringIO(body))\n"
     ]
    },
    {
     "name": "stdout",
     "output_type": "stream",
     "text": [
      "Processing: MOSES_group/midway_data/1979_72534014819.csv\n"
     ]
    },
    {
     "name": "stderr",
     "output_type": "stream",
     "text": [
      "<ipython-input-38-d0f5366e8862>:32: DtypeWarning: Columns (9,11,17,18) have mixed types. Specify dtype option on import or set low_memory=False.\n",
      "  df = pd.read_csv(io.StringIO(body))\n"
     ]
    },
    {
     "name": "stdout",
     "output_type": "stream",
     "text": [
      "Processing: MOSES_group/midway_data/1980_72534014819.csv\n"
     ]
    },
    {
     "name": "stderr",
     "output_type": "stream",
     "text": [
      "<ipython-input-38-d0f5366e8862>:32: DtypeWarning: Columns (8,9,10,13,17) have mixed types. Specify dtype option on import or set low_memory=False.\n",
      "  df = pd.read_csv(io.StringIO(body))\n"
     ]
    },
    {
     "name": "stdout",
     "output_type": "stream",
     "text": [
      "Processing: MOSES_group/midway_data/1981_72534014819.csv\n"
     ]
    },
    {
     "name": "stderr",
     "output_type": "stream",
     "text": [
      "<ipython-input-38-d0f5366e8862>:32: DtypeWarning: Columns (8,9,10,13,17) have mixed types. Specify dtype option on import or set low_memory=False.\n",
      "  df = pd.read_csv(io.StringIO(body))\n"
     ]
    },
    {
     "name": "stdout",
     "output_type": "stream",
     "text": [
      "Processing: MOSES_group/midway_data/1982_72534014819.csv\n"
     ]
    },
    {
     "name": "stderr",
     "output_type": "stream",
     "text": [
      "<ipython-input-38-d0f5366e8862>:32: DtypeWarning: Columns (8,9,10,11,13,17,19) have mixed types. Specify dtype option on import or set low_memory=False.\n",
      "  df = pd.read_csv(io.StringIO(body))\n"
     ]
    },
    {
     "name": "stdout",
     "output_type": "stream",
     "text": [
      "Processing: MOSES_group/midway_data/1983_72534014819.csv\n"
     ]
    },
    {
     "name": "stderr",
     "output_type": "stream",
     "text": [
      "<ipython-input-38-d0f5366e8862>:32: DtypeWarning: Columns (8,9,10,13) have mixed types. Specify dtype option on import or set low_memory=False.\n",
      "  df = pd.read_csv(io.StringIO(body))\n"
     ]
    },
    {
     "name": "stdout",
     "output_type": "stream",
     "text": [
      "Processing: MOSES_group/midway_data/1984_72534014819.csv\n"
     ]
    },
    {
     "name": "stderr",
     "output_type": "stream",
     "text": [
      "<ipython-input-38-d0f5366e8862>:32: DtypeWarning: Columns (8,9,10,13,17,19) have mixed types. Specify dtype option on import or set low_memory=False.\n",
      "  df = pd.read_csv(io.StringIO(body))\n"
     ]
    },
    {
     "name": "stdout",
     "output_type": "stream",
     "text": [
      "Processing: MOSES_group/midway_data/1985_72534014819.csv\n"
     ]
    },
    {
     "name": "stderr",
     "output_type": "stream",
     "text": [
      "<ipython-input-38-d0f5366e8862>:32: DtypeWarning: Columns (10) have mixed types. Specify dtype option on import or set low_memory=False.\n",
      "  df = pd.read_csv(io.StringIO(body))\n"
     ]
    },
    {
     "name": "stdout",
     "output_type": "stream",
     "text": [
      "Processing: MOSES_group/midway_data/1986_72534014819.csv\n"
     ]
    },
    {
     "name": "stderr",
     "output_type": "stream",
     "text": [
      "<ipython-input-38-d0f5366e8862>:32: DtypeWarning: Columns (8,9) have mixed types. Specify dtype option on import or set low_memory=False.\n",
      "  df = pd.read_csv(io.StringIO(body))\n"
     ]
    },
    {
     "name": "stdout",
     "output_type": "stream",
     "text": [
      "Processing: MOSES_group/midway_data/1987_72534014819.csv\n"
     ]
    },
    {
     "name": "stderr",
     "output_type": "stream",
     "text": [
      "<ipython-input-38-d0f5366e8862>:32: DtypeWarning: Columns (9,10,19) have mixed types. Specify dtype option on import or set low_memory=False.\n",
      "  df = pd.read_csv(io.StringIO(body))\n"
     ]
    },
    {
     "name": "stdout",
     "output_type": "stream",
     "text": [
      "Processing: MOSES_group/midway_data/1988_72534014819.csv\n"
     ]
    },
    {
     "name": "stderr",
     "output_type": "stream",
     "text": [
      "<ipython-input-38-d0f5366e8862>:32: DtypeWarning: Columns (9,10,13,19) have mixed types. Specify dtype option on import or set low_memory=False.\n",
      "  df = pd.read_csv(io.StringIO(body))\n"
     ]
    },
    {
     "name": "stdout",
     "output_type": "stream",
     "text": [
      "Processing: MOSES_group/midway_data/1989_72534014819.csv\n"
     ]
    },
    {
     "name": "stderr",
     "output_type": "stream",
     "text": [
      "<ipython-input-38-d0f5366e8862>:32: DtypeWarning: Columns (8,9,10,11,19,23) have mixed types. Specify dtype option on import or set low_memory=False.\n",
      "  df = pd.read_csv(io.StringIO(body))\n"
     ]
    },
    {
     "name": "stdout",
     "output_type": "stream",
     "text": [
      "Processing: MOSES_group/midway_data/1990_72534014819.csv\n"
     ]
    },
    {
     "name": "stderr",
     "output_type": "stream",
     "text": [
      "<ipython-input-38-d0f5366e8862>:32: DtypeWarning: Columns (8,19) have mixed types. Specify dtype option on import or set low_memory=False.\n",
      "  df = pd.read_csv(io.StringIO(body))\n"
     ]
    },
    {
     "name": "stdout",
     "output_type": "stream",
     "text": [
      "Processing: MOSES_group/midway_data/1991_72534014819.csv\n"
     ]
    },
    {
     "name": "stderr",
     "output_type": "stream",
     "text": [
      "<ipython-input-38-d0f5366e8862>:32: DtypeWarning: Columns (8,9,10) have mixed types. Specify dtype option on import or set low_memory=False.\n",
      "  df = pd.read_csv(io.StringIO(body))\n"
     ]
    },
    {
     "name": "stdout",
     "output_type": "stream",
     "text": [
      "Processing: MOSES_group/midway_data/1992_72534014819.csv\n"
     ]
    },
    {
     "name": "stderr",
     "output_type": "stream",
     "text": [
      "<ipython-input-38-d0f5366e8862>:32: DtypeWarning: Columns (8,9,10,13) have mixed types. Specify dtype option on import or set low_memory=False.\n",
      "  df = pd.read_csv(io.StringIO(body))\n"
     ]
    },
    {
     "name": "stdout",
     "output_type": "stream",
     "text": [
      "Processing: MOSES_group/midway_data/1993_72534014819.csv\n"
     ]
    },
    {
     "name": "stderr",
     "output_type": "stream",
     "text": [
      "<ipython-input-38-d0f5366e8862>:32: DtypeWarning: Columns (7,8,9,10,13) have mixed types. Specify dtype option on import or set low_memory=False.\n",
      "  df = pd.read_csv(io.StringIO(body))\n"
     ]
    },
    {
     "name": "stdout",
     "output_type": "stream",
     "text": [
      "Processing: MOSES_group/midway_data/1994_72534014819.csv\n",
      "Processing: MOSES_group/midway_data/1995_72534014819.csv\n"
     ]
    },
    {
     "name": "stderr",
     "output_type": "stream",
     "text": [
      "<ipython-input-38-d0f5366e8862>:32: DtypeWarning: Columns (8,9,10,16) have mixed types. Specify dtype option on import or set low_memory=False.\n",
      "  df = pd.read_csv(io.StringIO(body))\n"
     ]
    },
    {
     "name": "stdout",
     "output_type": "stream",
     "text": [
      "Processing: MOSES_group/midway_data/1996_72534014819.csv\n"
     ]
    },
    {
     "name": "stderr",
     "output_type": "stream",
     "text": [
      "<ipython-input-38-d0f5366e8862>:32: DtypeWarning: Columns (10,19) have mixed types. Specify dtype option on import or set low_memory=False.\n",
      "  df = pd.read_csv(io.StringIO(body))\n"
     ]
    },
    {
     "name": "stdout",
     "output_type": "stream",
     "text": [
      "Processing: MOSES_group/midway_data/1997_72534014819.csv\n"
     ]
    },
    {
     "name": "stderr",
     "output_type": "stream",
     "text": [
      "<ipython-input-38-d0f5366e8862>:32: DtypeWarning: Columns (8,9,13,39,44,50,52) have mixed types. Specify dtype option on import or set low_memory=False.\n",
      "  df = pd.read_csv(io.StringIO(body))\n"
     ]
    },
    {
     "name": "stdout",
     "output_type": "stream",
     "text": [
      "Processing: MOSES_group/midway_data/1998_72534014819.csv\n"
     ]
    },
    {
     "name": "stderr",
     "output_type": "stream",
     "text": [
      "<ipython-input-38-d0f5366e8862>:32: DtypeWarning: Columns (8,9,10,13,17,18,39,44,47,50,52) have mixed types. Specify dtype option on import or set low_memory=False.\n",
      "  df = pd.read_csv(io.StringIO(body))\n"
     ]
    },
    {
     "name": "stdout",
     "output_type": "stream",
     "text": [
      "Processing: MOSES_group/midway_data/1999_72534014819.csv\n"
     ]
    },
    {
     "name": "stderr",
     "output_type": "stream",
     "text": [
      "<ipython-input-38-d0f5366e8862>:32: DtypeWarning: Columns (8,13,18,21,27,33,35,37,47,50,52,60) have mixed types. Specify dtype option on import or set low_memory=False.\n",
      "  df = pd.read_csv(io.StringIO(body))\n"
     ]
    },
    {
     "name": "stdout",
     "output_type": "stream",
     "text": [
      "Processing: MOSES_group/midway_data/2000_72534014819.csv\n"
     ]
    },
    {
     "name": "stderr",
     "output_type": "stream",
     "text": [
      "<ipython-input-38-d0f5366e8862>:32: DtypeWarning: Columns (8,9,13,16,17,18,21,27,33,35,36,37,40,47,48,50,52,60,61,77,90,91,92,93,94,95,96,97,98,99,100,101) have mixed types. Specify dtype option on import or set low_memory=False.\n",
      "  df = pd.read_csv(io.StringIO(body))\n"
     ]
    },
    {
     "name": "stdout",
     "output_type": "stream",
     "text": [
      "Processing: MOSES_group/midway_data/2001_72534014819.csv\n"
     ]
    },
    {
     "name": "stderr",
     "output_type": "stream",
     "text": [
      "<ipython-input-38-d0f5366e8862>:32: DtypeWarning: Columns (8,9,13,16,17,18,39,50,52) have mixed types. Specify dtype option on import or set low_memory=False.\n",
      "  df = pd.read_csv(io.StringIO(body))\n"
     ]
    },
    {
     "name": "stdout",
     "output_type": "stream",
     "text": [
      "Processing: MOSES_group/midway_data/2002_72534014819.csv\n"
     ]
    },
    {
     "name": "stderr",
     "output_type": "stream",
     "text": [
      "<ipython-input-38-d0f5366e8862>:32: DtypeWarning: Columns (8,17,19,39,41,42,44,50,52,62,65,71,105,106,111,112,113) have mixed types. Specify dtype option on import or set low_memory=False.\n",
      "  df = pd.read_csv(io.StringIO(body))\n"
     ]
    },
    {
     "name": "stdout",
     "output_type": "stream",
     "text": [
      "Processing: MOSES_group/midway_data/2003_72534014819.csv\n"
     ]
    },
    {
     "name": "stderr",
     "output_type": "stream",
     "text": [
      "<ipython-input-38-d0f5366e8862>:32: DtypeWarning: Columns (8,10,16,17,50,52,71,105,106,107,108,109,110,111,112,113) have mixed types. Specify dtype option on import or set low_memory=False.\n",
      "  df = pd.read_csv(io.StringIO(body))\n"
     ]
    },
    {
     "name": "stdout",
     "output_type": "stream",
     "text": [
      "Processing: MOSES_group/midway_data/2004_72534014819.csv\n"
     ]
    },
    {
     "name": "stderr",
     "output_type": "stream",
     "text": [
      "<ipython-input-38-d0f5366e8862>:32: DtypeWarning: Columns (9,13,18,41,42,50,52,62,63,65,66,71) have mixed types. Specify dtype option on import or set low_memory=False.\n",
      "  df = pd.read_csv(io.StringIO(body))\n"
     ]
    },
    {
     "name": "stdout",
     "output_type": "stream",
     "text": [
      "Processing: MOSES_group/midway_data/2005_72534014819.csv\n"
     ]
    },
    {
     "name": "stderr",
     "output_type": "stream",
     "text": [
      "<ipython-input-38-d0f5366e8862>:32: DtypeWarning: Columns (17,23,37,38,39,52,63,108) have mixed types. Specify dtype option on import or set low_memory=False.\n",
      "  df = pd.read_csv(io.StringIO(body))\n"
     ]
    },
    {
     "name": "stdout",
     "output_type": "stream",
     "text": [
      "Processing: MOSES_group/midway_data/2006_72534014819.csv\n"
     ]
    },
    {
     "name": "stderr",
     "output_type": "stream",
     "text": [
      "<ipython-input-38-d0f5366e8862>:32: DtypeWarning: Columns (8,18,23,38,39,41,42,43,44,62,65) have mixed types. Specify dtype option on import or set low_memory=False.\n",
      "  df = pd.read_csv(io.StringIO(body))\n"
     ]
    },
    {
     "name": "stdout",
     "output_type": "stream",
     "text": [
      "Processing: MOSES_group/midway_data/2007_72534014819.csv\n"
     ]
    },
    {
     "name": "stderr",
     "output_type": "stream",
     "text": [
      "<ipython-input-38-d0f5366e8862>:32: DtypeWarning: Columns (10,15,20,23,37,43,44,49,50,52) have mixed types. Specify dtype option on import or set low_memory=False.\n",
      "  df = pd.read_csv(io.StringIO(body))\n"
     ]
    },
    {
     "name": "stdout",
     "output_type": "stream",
     "text": [
      "Processing: MOSES_group/midway_data/2008_72534014819.csv\n"
     ]
    },
    {
     "name": "stderr",
     "output_type": "stream",
     "text": [
      "<ipython-input-38-d0f5366e8862>:32: DtypeWarning: Columns (23,43,44,111) have mixed types. Specify dtype option on import or set low_memory=False.\n",
      "  df = pd.read_csv(io.StringIO(body))\n"
     ]
    },
    {
     "name": "stdout",
     "output_type": "stream",
     "text": [
      "Processing: MOSES_group/midway_data/2009_72534014819.csv\n"
     ]
    },
    {
     "name": "stderr",
     "output_type": "stream",
     "text": [
      "<ipython-input-38-d0f5366e8862>:32: DtypeWarning: Columns (9,15,17,18,20,23,52,108,111,113) have mixed types. Specify dtype option on import or set low_memory=False.\n",
      "  df = pd.read_csv(io.StringIO(body))\n"
     ]
    },
    {
     "name": "stdout",
     "output_type": "stream",
     "text": [
      "Processing: MOSES_group/midway_data/2010_72534014819.csv\n"
     ]
    },
    {
     "name": "stderr",
     "output_type": "stream",
     "text": [
      "<ipython-input-38-d0f5366e8862>:32: DtypeWarning: Columns (23) have mixed types. Specify dtype option on import or set low_memory=False.\n",
      "  df = pd.read_csv(io.StringIO(body))\n"
     ]
    },
    {
     "name": "stdout",
     "output_type": "stream",
     "text": [
      "Processing: MOSES_group/midway_data/2011_72534014819.csv\n"
     ]
    },
    {
     "name": "stderr",
     "output_type": "stream",
     "text": [
      "<ipython-input-38-d0f5366e8862>:32: DtypeWarning: Columns (8,18,23,38,39,43,44,50,111,113) have mixed types. Specify dtype option on import or set low_memory=False.\n",
      "  df = pd.read_csv(io.StringIO(body))\n"
     ]
    },
    {
     "name": "stdout",
     "output_type": "stream",
     "text": [
      "Processing: MOSES_group/midway_data/2012_72534014819.csv\n"
     ]
    },
    {
     "name": "stderr",
     "output_type": "stream",
     "text": [
      "<ipython-input-38-d0f5366e8862>:32: DtypeWarning: Columns (7,23,27,33,35,36,37,38,39,43,44,50,108,113) have mixed types. Specify dtype option on import or set low_memory=False.\n",
      "  df = pd.read_csv(io.StringIO(body))\n"
     ]
    },
    {
     "name": "stdout",
     "output_type": "stream",
     "text": [
      "Processing: MOSES_group/midway_data/2013_72534014819.csv\n"
     ]
    },
    {
     "name": "stderr",
     "output_type": "stream",
     "text": [
      "<ipython-input-38-d0f5366e8862>:32: DtypeWarning: Columns (8,10,13,15,17,20,23,47,48,104,106) have mixed types. Specify dtype option on import or set low_memory=False.\n",
      "  df = pd.read_csv(io.StringIO(body))\n"
     ]
    },
    {
     "name": "stdout",
     "output_type": "stream",
     "text": [
      "Processing: MOSES_group/midway_data/2014_72534014819.csv\n"
     ]
    },
    {
     "name": "stderr",
     "output_type": "stream",
     "text": [
      "<ipython-input-38-d0f5366e8862>:32: DtypeWarning: Columns (8,18,23,49,51,52) have mixed types. Specify dtype option on import or set low_memory=False.\n",
      "  df = pd.read_csv(io.StringIO(body))\n"
     ]
    },
    {
     "name": "stdout",
     "output_type": "stream",
     "text": [
      "Processing: MOSES_group/midway_data/2015_72534014819.csv\n"
     ]
    },
    {
     "name": "stderr",
     "output_type": "stream",
     "text": [
      "<ipython-input-38-d0f5366e8862>:32: DtypeWarning: Columns (8,10,15,20) have mixed types. Specify dtype option on import or set low_memory=False.\n",
      "  df = pd.read_csv(io.StringIO(body))\n"
     ]
    },
    {
     "name": "stdout",
     "output_type": "stream",
     "text": [
      "Processing: MOSES_group/midway_data/2016_72534014819.csv\n"
     ]
    },
    {
     "name": "stderr",
     "output_type": "stream",
     "text": [
      "<ipython-input-38-d0f5366e8862>:32: DtypeWarning: Columns (8,18,27,33,35,36,104,111,113) have mixed types. Specify dtype option on import or set low_memory=False.\n",
      "  df = pd.read_csv(io.StringIO(body))\n"
     ]
    },
    {
     "name": "stdout",
     "output_type": "stream",
     "text": [
      "Processing: MOSES_group/midway_data/2017_72534014819.csv\n"
     ]
    },
    {
     "name": "stderr",
     "output_type": "stream",
     "text": [
      "<ipython-input-38-d0f5366e8862>:32: DtypeWarning: Columns (7,17,18,37,111) have mixed types. Specify dtype option on import or set low_memory=False.\n",
      "  df = pd.read_csv(io.StringIO(body))\n"
     ]
    },
    {
     "name": "stdout",
     "output_type": "stream",
     "text": [
      "Processing: MOSES_group/midway_data/2018_72534014819.csv\n"
     ]
    },
    {
     "name": "stderr",
     "output_type": "stream",
     "text": [
      "<ipython-input-38-d0f5366e8862>:32: DtypeWarning: Columns (17,23,111,113) have mixed types. Specify dtype option on import or set low_memory=False.\n",
      "  df = pd.read_csv(io.StringIO(body))\n"
     ]
    },
    {
     "name": "stdout",
     "output_type": "stream",
     "text": [
      "Processing: MOSES_group/midway_data/2019_72534014819.csv\n"
     ]
    },
    {
     "name": "stderr",
     "output_type": "stream",
     "text": [
      "<ipython-input-38-d0f5366e8862>:32: DtypeWarning: Columns (37,43,44,52) have mixed types. Specify dtype option on import or set low_memory=False.\n",
      "  df = pd.read_csv(io.StringIO(body))\n"
     ]
    },
    {
     "name": "stdout",
     "output_type": "stream",
     "text": [
      "Processing: MOSES_group/midway_data/2020_72534014819.csv\n"
     ]
    },
    {
     "name": "stderr",
     "output_type": "stream",
     "text": [
      "<ipython-input-38-d0f5366e8862>:32: DtypeWarning: Columns (19,23,113) have mixed types. Specify dtype option on import or set low_memory=False.\n",
      "  df = pd.read_csv(io.StringIO(body))\n"
     ]
    },
    {
     "name": "stdout",
     "output_type": "stream",
     "text": [
      "Processing: MOSES_group/midway_data/2021_72534014819.csv\n"
     ]
    },
    {
     "name": "stderr",
     "output_type": "stream",
     "text": [
      "<ipython-input-38-d0f5366e8862>:32: DtypeWarning: Columns (8,9,15,20,23,27,33,35,36,47,48,108,111,113) have mixed types. Specify dtype option on import or set low_memory=False.\n",
      "  df = pd.read_csv(io.StringIO(body))\n"
     ]
    },
    {
     "name": "stdout",
     "output_type": "stream",
     "text": [
      "Processing: MOSES_group/midway_data/2022_72534014819.csv\n"
     ]
    },
    {
     "name": "stderr",
     "output_type": "stream",
     "text": [
      "<ipython-input-38-d0f5366e8862>:32: DtypeWarning: Columns (8,9,10,15,17,19,20,43,44,113) have mixed types. Specify dtype option on import or set low_memory=False.\n",
      "  df = pd.read_csv(io.StringIO(body))\n"
     ]
    },
    {
     "name": "stdout",
     "output_type": "stream",
     "text": [
      "Processing: MOSES_group/midway_data/2023_72534014819.csv\n"
     ]
    },
    {
     "name": "stderr",
     "output_type": "stream",
     "text": [
      "<ipython-input-38-d0f5366e8862>:32: DtypeWarning: Columns (8,17,18,19,23,48,49,52,113) have mixed types. Specify dtype option on import or set low_memory=False.\n",
      "  df = pd.read_csv(io.StringIO(body))\n"
     ]
    },
    {
     "name": "stdout",
     "output_type": "stream",
     "text": [
      "Processing: MOSES_group/midway_data/2024_72534014819.csv\n"
     ]
    },
    {
     "name": "stderr",
     "output_type": "stream",
     "text": [
      "<ipython-input-38-d0f5366e8862>:32: DtypeWarning: Columns (7,8,9,10,15,17,18,20,23,27,33,35,36,104,113) have mixed types. Specify dtype option on import or set low_memory=False.\n",
      "  df = pd.read_csv(io.StringIO(body))\n"
     ]
    },
    {
     "name": "stdout",
     "output_type": "stream",
     "text": [
      "       STATION                 DATE  LATITUDE  LONGITUDE  ELEVATION  \\\n",
      "0  72534014819  1973-01-01T00:00:00  41.78412  -87.75514      185.8   \n",
      "1  72534014819  1973-01-01T01:00:00  41.78412  -87.75514      185.8   \n",
      "2  72534014819  1973-01-01T02:00:00  41.78412  -87.75514      185.8   \n",
      "3  72534014819  1973-01-01T03:00:00  41.78412  -87.75514      185.8   \n",
      "4  72534014819  1973-01-01T04:00:00  41.78412  -87.75514      185.8   \n",
      "\n",
      "                            NAME REPORT_TYPE SOURCE HourlyAltimeterSetting  \\\n",
      "0  CHICAGO MIDWAY AIRPORT, IL US       SY-SA      C                    NaN   \n",
      "1  CHICAGO MIDWAY AIRPORT, IL US       SAO        C                  30.06   \n",
      "2  CHICAGO MIDWAY AIRPORT, IL US       SAO        C                  30.06   \n",
      "3  CHICAGO MIDWAY AIRPORT, IL US       SAO        C                  30.09   \n",
      "4  CHICAGO MIDWAY AIRPORT, IL US       SAO        C                  30.09   \n",
      "\n",
      "  HourlyDewPointTemperature  ... BackupDistance BackupDistanceUnit  \\\n",
      "0                      11.0  ...            NaN                NaN   \n",
      "1                      13.0  ...            NaN                NaN   \n",
      "2                      14.0  ...            NaN                NaN   \n",
      "3                      17.0  ...            NaN                NaN   \n",
      "4                      16.0  ...            NaN                NaN   \n",
      "\n",
      "  BackupElements BackupElevation  BackupEquipment BackupLatitude  \\\n",
      "0            NaN             NaN              NaN            NaN   \n",
      "1            NaN             NaN              NaN            NaN   \n",
      "2            NaN             NaN              NaN            NaN   \n",
      "3            NaN             NaN              NaN            NaN   \n",
      "4            NaN             NaN              NaN            NaN   \n",
      "\n",
      "  BackupLongitude BackupName WindEquipmentChangeDate  \\\n",
      "0             NaN        NaN              2007-06-13   \n",
      "1             NaN        NaN              2007-06-13   \n",
      "2             NaN        NaN              2007-06-13   \n",
      "3             NaN        NaN              2007-06-13   \n",
      "4             NaN        NaN              2007-06-13   \n",
      "\n",
      "                                    source_file  \n",
      "0  MOSES_group/midway_data/1973_72534014819.csv  \n",
      "1  MOSES_group/midway_data/1973_72534014819.csv  \n",
      "2  MOSES_group/midway_data/1973_72534014819.csv  \n",
      "3  MOSES_group/midway_data/1973_72534014819.csv  \n",
      "4  MOSES_group/midway_data/1973_72534014819.csv  \n",
      "\n",
      "[5 rows x 126 columns]\n"
     ]
    }
   ],
   "source": [
    "import boto3\n",
    "import pandas as pd\n",
    "import io\n",
    "\n",
    "s3 = boto3.client('s3',\n",
    ")\n",
    "\n",
    "bucket = 'de300spring2025'\n",
    "prefix = 'MOSES_group/midway_data/'\n",
    "\n",
    "response = s3.list_objects_v2(Bucket=bucket, Prefix=prefix)\n",
    "\n",
    "df_list = []\n",
    "\n",
    "for obj in response.get('Contents', []):\n",
    "    key = obj['Key']\n",
    "    if key.endswith('.csv'):\n",
    "        print(f\"Processing: {key}\")\n",
    "\n",
    "        csv_obj = s3.get_object(Bucket=bucket, Key=key)\n",
    "        body = csv_obj['Body'].read().decode('utf-8')\n",
    "\n",
    "        df = pd.read_csv(io.StringIO(body))\n",
    "        df['source_file'] = key\n",
    "        df_list.append(df)\n",
    "\n",
    "# Concatenate all DataFrames\n",
    "combined_df = pd.concat(df_list, ignore_index=True)\n",
    "\n",
    "# Show first few rows\n",
    "print(combined_df.head())"
   ]
  },
  {
   "cell_type": "code",
   "execution_count": null,
   "metadata": {
    "colab": {
     "base_uri": "https://localhost:8080/"
    },
    "executionInfo": {
     "elapsed": 26378,
     "status": "ok",
     "timestamp": 1748632402539,
     "user": {
      "displayName": "Melanie Rudolph",
      "userId": "07837973474344089646"
     },
     "user_tz": 300
    },
    "id": "uO7DqaZ5nIsc",
    "outputId": "39a05f94-eae1-43bc-99ae-d458b2423ad2"
   },
   "outputs": [
    {
     "name": "stdout",
     "output_type": "stream",
     "text": [
      "✅ Combined file uploaded to s3://de300spring2025/MOSES_group/midway_data/combined_midway_data.csv\n"
     ]
    }
   ],
   "source": [
    "csv_buffer = io.StringIO()\n",
    "combined_df.to_csv(csv_buffer, index=False)\n",
    "\n",
    "output_key = 'MOSES_group/midway_data/combined_midway_data.csv'\n",
    "\n",
    "s3.put_object(Bucket=bucket, Key=output_key, Body=csv_buffer.getvalue())\n",
    "\n",
    "print(f\"Combined file uploaded to s3://{bucket}/{output_key}\")"
   ]
  },
  {
   "cell_type": "code",
   "execution_count": null,
   "metadata": {
    "id": "bd_U1QjUnhAu"
   },
   "outputs": [],
   "source": []
  }
 ],
 "metadata": {
  "colab": {
   "authorship_tag": "ABX9TyO9QuD3avIsmUJ7VFzMaABy",
   "provenance": []
  },
  "kernelspec": {
   "display_name": "Python 3",
   "name": "python3"
  },
  "language_info": {
   "name": "python"
  }
 },
 "nbformat": 4,
 "nbformat_minor": 0
}
