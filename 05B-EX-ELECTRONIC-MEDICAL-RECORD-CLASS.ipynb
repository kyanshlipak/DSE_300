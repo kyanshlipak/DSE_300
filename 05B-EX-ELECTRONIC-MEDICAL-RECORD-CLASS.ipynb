{
 "cells": [
  {
   "cell_type": "code",
   "execution_count": 2,
   "metadata": {},
   "outputs": [
    {
     "name": "stdout",
     "output_type": "stream",
     "text": [
      "Collecting duckdb\n",
      "  Downloading duckdb-1.2.2-cp310-cp310-macosx_12_0_arm64.whl.metadata (966 bytes)\n",
      "Downloading duckdb-1.2.2-cp310-cp310-macosx_12_0_arm64.whl (15.3 MB)\n",
      "\u001b[2K   \u001b[90m━━━━━━━━━━━━━━━━━━━━━━━━━━━━━━━━━━━━━━━━\u001b[0m \u001b[32m15.3/15.3 MB\u001b[0m \u001b[31m20.7 MB/s\u001b[0m eta \u001b[36m0:00:00\u001b[0ma \u001b[36m0:00:01\u001b[0m\n",
      "\u001b[?25hInstalling collected packages: duckdb\n",
      "Successfully installed duckdb-1.2.2\n"
     ]
    }
   ],
   "source": [
    "!(pip3 install duckdb)"
   ]
  },
  {
   "cell_type": "code",
   "execution_count": 1,
   "metadata": {},
   "outputs": [],
   "source": [
    "import duckdb"
   ]
  },
  {
   "cell_type": "code",
   "execution_count": 7,
   "metadata": {},
   "outputs": [
    {
     "name": "stdout",
     "output_type": "stream",
     "text": [
      "Collecting pandas\n",
      "  Using cached pandas-2.2.3-cp310-cp310-macosx_11_0_arm64.whl.metadata (89 kB)\n",
      "Requirement already satisfied: numpy>=1.22.4 in ./.venv/lib/python3.10/site-packages (from pandas) (2.2.5)\n",
      "Requirement already satisfied: python-dateutil>=2.8.2 in ./.venv/lib/python3.10/site-packages (from pandas) (2.9.0.post0)\n",
      "Collecting pytz>=2020.1 (from pandas)\n",
      "  Downloading pytz-2025.2-py2.py3-none-any.whl.metadata (22 kB)\n",
      "Collecting tzdata>=2022.7 (from pandas)\n",
      "  Downloading tzdata-2025.2-py2.py3-none-any.whl.metadata (1.4 kB)\n",
      "Requirement already satisfied: six>=1.5 in ./.venv/lib/python3.10/site-packages (from python-dateutil>=2.8.2->pandas) (1.17.0)\n",
      "Using cached pandas-2.2.3-cp310-cp310-macosx_11_0_arm64.whl (11.3 MB)\n",
      "Downloading pytz-2025.2-py2.py3-none-any.whl (509 kB)\n",
      "Downloading tzdata-2025.2-py2.py3-none-any.whl (347 kB)\n",
      "Installing collected packages: pytz, tzdata, pandas\n",
      "Successfully installed pandas-2.2.3 pytz-2025.2 tzdata-2025.2\n"
     ]
    }
   ],
   "source": [
    "!(pip3 install pandas)"
   ]
  },
  {
   "cell_type": "code",
   "execution_count": 2,
   "metadata": {},
   "outputs": [
    {
     "name": "stdout",
     "output_type": "stream",
     "text": [
      "         name\n",
      "0  ADMISSIONS\n",
      "1    DRGCODES\n",
      "2  D_ICDPROCS\n",
      "3    ICUSTAYS\n",
      "4    PATIENTS\n",
      "5   PROCS_ICD\n"
     ]
    }
   ],
   "source": [
    "con = duckdb.connect('mimic.db')\n",
    "\n",
    "# List all tables\n",
    "print(con.execute(\"SHOW TABLES\").fetchdf())"
   ]
  },
  {
   "cell_type": "code",
   "execution_count": 3,
   "metadata": {},
   "outputs": [
    {
     "data": {
      "text/plain": [
       "┌─────────┬─────────────────────┐\n",
       "│ hadm_id │      deathtime      │\n",
       "│  int32  │       varchar       │\n",
       "├─────────┼─────────────────────┤\n",
       "│  142345 │ NULL                │\n",
       "│  105331 │ 2126-08-28 18:59:00 │\n",
       "│  165520 │ 2125-10-07 15:13:00 │\n",
       "│  199207 │ NULL                │\n",
       "│  177759 │ 2163-05-15 12:00:00 │\n",
       "│  103770 │ NULL                │\n",
       "│  199395 │ NULL                │\n",
       "│  132349 │ NULL                │\n",
       "│  140372 │ NULL                │\n",
       "│  157235 │ NULL                │\n",
       "│     ·   │  ·                  │\n",
       "│     ·   │  ·                  │\n",
       "│     ·   │  ·                  │\n",
       "│  167021 │ NULL                │\n",
       "│  167612 │ 2152-10-09 22:33:00 │\n",
       "│  110958 │ NULL                │\n",
       "│  125157 │ NULL                │\n",
       "│  131048 │ NULL                │\n",
       "│  198330 │ NULL                │\n",
       "│  174245 │ 2178-05-15 09:45:00 │\n",
       "│  163189 │ NULL                │\n",
       "│  192189 │ NULL                │\n",
       "│  103379 │ NULL                │\n",
       "├─────────┴─────────────────────┤\n",
       "│      129 rows (20 shown)      │\n",
       "└───────────────────────────────┘"
      ]
     },
     "execution_count": 3,
     "metadata": {},
     "output_type": "execute_result"
    }
   ],
   "source": [
    "# Query admissions table\n",
    "con.sql(\"SELECT hadm_id, deathtime FROM ADMISSIONS\")"
   ]
  },
  {
   "cell_type": "code",
   "execution_count": 4,
   "metadata": {},
   "outputs": [
    {
     "data": {
      "text/plain": [
       "┌──────────────────┐\n",
       "│ sum(expire_flag) │\n",
       "│      int128      │\n",
       "├──────────────────┤\n",
       "│              100 │\n",
       "└──────────────────┘"
      ]
     },
     "execution_count": 4,
     "metadata": {},
     "output_type": "execute_result"
    }
   ],
   "source": [
    "con.sql(\"SELECT SUM(expire_flag) FROM PATIENTS\")"
   ]
  },
  {
   "cell_type": "code",
   "execution_count": 5,
   "metadata": {},
   "outputs": [
    {
     "data": {
      "text/plain": [
       "┌────────────┐\n",
       "│    name    │\n",
       "│  varchar   │\n",
       "├────────────┤\n",
       "│ ADMISSIONS │\n",
       "│ DRGCODES   │\n",
       "│ D_ICDPROCS │\n",
       "│ ICUSTAYS   │\n",
       "│ PATIENTS   │\n",
       "│ PROCS_ICD  │\n",
       "└────────────┘"
      ]
     },
     "execution_count": 5,
     "metadata": {},
     "output_type": "execute_result"
    }
   ],
   "source": [
    "con.sql(\"SHOW TABLES\")"
   ]
  },
  {
   "cell_type": "code",
   "execution_count": 6,
   "metadata": {},
   "outputs": [
    {
     "name": "stdout",
     "output_type": "stream",
     "text": [
      "Table 'ADMISSIONS' has 129 rows.\n",
      "Table 'DRGCODES' has 297 rows.\n",
      "Table 'D_ICDPROCS' has 3882 rows.\n",
      "Table 'ICUSTAYS' has 136 rows.\n",
      "Table 'PATIENTS' has 100 rows.\n",
      "Table 'PROCS_ICD' has 506 rows.\n"
     ]
    }
   ],
   "source": [
    "# Get the list of tables\n",
    "tables = con.execute(\"SHOW TABLES\").fetchall()\n",
    "\n",
    "# Loop through each table and count rows\n",
    "for table_name, in tables:\n",
    "    count = con.execute(f\"SELECT COUNT(*) FROM {table_name}\").fetchone()[0]\n",
    "    print(f\"Table '{table_name}' has {count} rows.\")"
   ]
  },
  {
   "cell_type": "code",
   "execution_count": 7,
   "metadata": {},
   "outputs": [
    {
     "data": {
      "text/plain": [
       "┌──────────────┐\n",
       "│ count_star() │\n",
       "│    int64     │\n",
       "├──────────────┤\n",
       "│           55 │\n",
       "└──────────────┘"
      ]
     },
     "execution_count": 7,
     "metadata": {},
     "output_type": "execute_result"
    }
   ],
   "source": [
    "con.sql(\"\"\"\n",
    "\t\tSELECT count(*) FROM PATIENTS\n",
    "\t\tWHERE gender = 'F'\n",
    "\t\t\"\"\")"
   ]
  },
  {
   "cell_type": "code",
   "execution_count": 8,
   "metadata": {},
   "outputs": [
    {
     "data": {
      "text/plain": [
       "┌──────────────┐\n",
       "│ count_star() │\n",
       "│    int64     │\n",
       "├──────────────┤\n",
       "│           70 │\n",
       "└──────────────┘"
      ]
     },
     "execution_count": 8,
     "metadata": {},
     "output_type": "execute_result"
    }
   ],
   "source": [
    "con.sql(\"\"\"\n",
    "\t\tSELECT count(*) FROM PATIENTS\n",
    "\t\tWHERE dod_hosp IS NOT NULL\n",
    "\t\t\"\"\")"
   ]
  },
  {
   "cell_type": "code",
   "execution_count": 9,
   "metadata": {},
   "outputs": [
    {
     "data": {
      "text/plain": [
       "┌──────────────┐\n",
       "│ count_star() │\n",
       "│    int64     │\n",
       "├──────────────┤\n",
       "│           40 │\n",
       "└──────────────┘"
      ]
     },
     "execution_count": 9,
     "metadata": {},
     "output_type": "execute_result"
    }
   ],
   "source": [
    "con.sql(\"\"\"\n",
    "\t\tSELECT count(*) FROM ADMISSIONS\n",
    "\t\tWHERE deathtime IS NOT NULL\n",
    "\t\t\"\"\")"
   ]
  },
  {
   "cell_type": "code",
   "execution_count": 11,
   "metadata": {},
   "outputs": [
    {
     "data": {
      "text/plain": [
       "┌────────────────┐\n",
       "│ admission_type │\n",
       "│    varchar     │\n",
       "├────────────────┤\n",
       "│ ELECTIVE       │\n",
       "│ EMERGENCY      │\n",
       "│ URGENT         │\n",
       "└────────────────┘"
      ]
     },
     "execution_count": 11,
     "metadata": {},
     "output_type": "execute_result"
    }
   ],
   "source": [
    "con.sql(\"\"\"\n",
    "\t\tSELECT DISTINCT admission_type FROM ADMISSIONS\n",
    "\t\t\"\"\")"
   ]
  },
  {
   "cell_type": "code",
   "execution_count": 15,
   "metadata": {},
   "outputs": [
    {
     "data": {
      "text/plain": [
       "┌────────┬────────────┬─────────┬────────────┬────────────┬────────────────┬───────────────┬──────────────┬─────────────┬─────────────────────┬─────────────────────┬─────────┬────────┬────────────┬─────────┬─────────────────────┬─────────────────────┬─────────────────────┬────────────────┬───────────────────────────┬──────────────────────────┬───────────┬──────────┬───────────────────┬────────────────┬────────────────────────┬─────────────────────┬─────────────────────┬──────────────────────────────────────────────────────────────────────────────────────────────────────────────────────┬──────────────────────┬──────────────────────┐\n",
       "│ row_id │ subject_id │ hadm_id │ icustay_id │  dbsource  │ first_careunit │ last_careunit │ first_wardid │ last_wardid │       intime        │       outtime       │   los   │ row_id │ subject_id │ hadm_id │      admittime      │      dischtime      │      deathtime      │ admission_type │    admission_location     │    discharge_location    │ insurance │ language │     religion      │ marital_status │       ethnicity        │      edregtime      │      edouttime      │                                                      diagnosis                                                       │ hospital_expire_flag │ has_chartevents_data │\n",
       "│ int32  │   int32    │  int32  │   int32    │  varchar   │    varchar     │    varchar    │    int32     │    int32    │       varchar       │       varchar       │  float  │ int32  │   int32    │  int32  │       varchar       │       varchar       │       varchar       │    varchar     │          varchar          │         varchar          │  varchar  │ varchar  │      varchar      │    varchar     │        varchar         │       varchar       │       varchar       │                                                       varchar                                                        │        int32         │        int32         │\n",
       "├────────┼────────────┼─────────┼────────────┼────────────┼────────────────┼───────────────┼──────────────┼─────────────┼─────────────────────┼─────────────────────┼─────────┼────────┼────────────┼─────────┼─────────────────────┼─────────────────────┼─────────────────────┼────────────────┼───────────────────────────┼──────────────────────────┼───────────┼──────────┼───────────────────┼────────────────┼────────────────────────┼─────────────────────┼─────────────────────┼──────────────────────────────────────────────────────────────────────────────────────────────────────────────────────┼──────────────────────┼──────────────────────┤\n",
       "│  12742 │      10006 │  142345 │     206504 │ carevue    │ MICU           │ MICU          │           52 │          52 │ 2164-10-23 21:10:15 │ 2164-10-25 12:21:07 │  1.6325 │  12258 │      10006 │  142345 │ 2164-10-23 21:09:00 │ 2164-11-01 17:15:00 │ NULL                │ EMERGENCY      │ EMERGENCY ROOM ADMIT      │ HOME HEALTH CARE         │ Medicare  │ NULL     │ CATHOLIC          │ SEPARATED      │ BLACK/AFRICAN AMERICAN │ 2164-10-23 16:43:00 │ 2164-10-23 23:00:00 │ SEPSIS                                                                                                               │                    0 │                    1 │\n",
       "│  12747 │      10011 │  105331 │     232110 │ carevue    │ MICU           │ MICU          │           15 │          15 │ 2126-08-14 22:34:00 │ 2126-08-28 18:59:00 │ 13.8507 │  12263 │      10011 │  105331 │ 2126-08-14 22:32:00 │ 2126-08-28 18:59:00 │ 2126-08-28 18:59:00 │ EMERGENCY      │ TRANSFER FROM HOSP/EXTRAM │ DEAD/EXPIRED             │ Private   │ NULL     │ CATHOLIC          │ SINGLE         │ UNKNOWN/NOT SPECIFIED  │ NULL                │ NULL                │ HEPATITIS B                                                                                                          │                    1 │                    1 │\n",
       "│  12749 │      10013 │  165520 │     264446 │ carevue    │ MICU           │ MICU          │           15 │          15 │ 2125-10-04 23:38:00 │ 2125-10-07 15:13:52 │  2.6499 │  12265 │      10013 │  165520 │ 2125-10-04 23:36:00 │ 2125-10-07 15:13:00 │ 2125-10-07 15:13:00 │ EMERGENCY      │ TRANSFER FROM HOSP/EXTRAM │ DEAD/EXPIRED             │ Medicare  │ NULL     │ CATHOLIC          │ NULL           │ UNKNOWN/NOT SPECIFIED  │ NULL                │ NULL                │ SEPSIS                                                                                                               │                    1 │                    1 │\n",
       "│  12754 │      10017 │  199207 │     204881 │ carevue    │ CCU            │ CCU           │            7 │           7 │ 2149-05-29 18:52:29 │ 2149-05-31 22:19:17 │  2.1436 │  12269 │      10017 │  199207 │ 2149-05-26 17:19:00 │ 2149-06-03 18:42:00 │ NULL                │ EMERGENCY      │ EMERGENCY ROOM ADMIT      │ SNF                      │ Medicare  │ NULL     │ CATHOLIC          │ DIVORCED       │ WHITE                  │ 2149-05-26 12:08:00 │ 2149-05-26 19:45:00 │ HUMERAL FRACTURE                                                                                                     │                    0 │                    1 │\n",
       "│  12755 │      10019 │  177759 │     228977 │ carevue    │ MICU           │ MICU          │           15 │          15 │ 2163-05-14 20:43:56 │ 2163-05-16 03:47:04 │  1.2938 │  12270 │      10019 │  177759 │ 2163-05-14 20:43:00 │ 2163-05-15 12:00:00 │ 2163-05-15 12:00:00 │ EMERGENCY      │ TRANSFER FROM HOSP/EXTRAM │ DEAD/EXPIRED             │ Medicare  │ NULL     │ CATHOLIC          │ DIVORCED       │ WHITE                  │ NULL                │ NULL                │ ALCOHOLIC HEPATITIS                                                                                                  │                    1 │                    1 │\n",
       "│  12762 │      10026 │  103770 │     277021 │ carevue    │ SICU           │ SICU          │           33 │          33 │ 2195-05-17 07:40:18 │ 2195-05-19 17:24:25 │  2.4056 │  12277 │      10026 │  103770 │ 2195-05-17 07:39:00 │ 2195-05-24 11:45:00 │ NULL                │ EMERGENCY      │ EMERGENCY ROOM ADMIT      │ REHAB/DISTINCT PART HOSP │ Medicare  │ NULL     │ OTHER             │ NULL           │ WHITE                  │ 2195-05-17 01:49:00 │ 2195-05-17 08:29:00 │ STROKE/TIA                                                                                                           │                    0 │                    1 │\n",
       "│  12763 │      10027 │  199395 │     286020 │ carevue    │ CSRU           │ CSRU          │           12 │          12 │ 2190-07-13 10:39:07 │ 2190-07-20 16:55:45 │  7.2616 │  12278 │      10027 │  199395 │ 2190-07-13 07:15:00 │ 2190-07-25 14:00:00 │ NULL                │ ELECTIVE       │ PHYS REFERRAL/NORMAL DELI │ SNF                      │ Medicare  │ NULL     │ CATHOLIC          │ MARRIED        │ WHITE                  │ NULL                │ NULL                │  MITRAL REGURGITATION;CORONARY ARTERY DISEASE\\CORONARY ARTERY BYPASS GRAFT WITH MVR  ? MITRAL VALVE REPLACEMENT /SDA │                    0 │                    1 │\n",
       "│  12765 │      10029 │  132349 │     226055 │ carevue    │ SICU           │ SICU          │           33 │          33 │ 2139-09-23 12:37:10 │ 2139-09-25 18:55:04 │  2.2624 │  12280 │      10029 │  132349 │ 2139-09-22 10:58:00 │ 2139-10-02 14:29:00 │ NULL                │ EMERGENCY      │ EMERGENCY ROOM ADMIT      │ SNF                      │ Medicare  │ NULL     │ PROTESTANT QUAKER │ DIVORCED       │ WHITE                  │ 2139-09-22 06:03:00 │ 2139-09-22 11:50:00 │ SYNCOPE;TELEMETRY                                                                                                    │                    0 │                    1 │\n",
       "│  12767 │      10032 │  140372 │     267090 │ carevue    │ MICU           │ MICU          │           52 │          52 │ 2138-04-08 01:38:18 │ 2138-04-11 18:43:34 │   3.712 │  12282 │      10032 │  140372 │ 2138-04-02 19:52:00 │ 2138-04-15 14:35:00 │ NULL                │ EMERGENCY      │ EMERGENCY ROOM ADMIT      │ REHAB/DISTINCT PART HOSP │ Medicare  │ NULL     │ CATHOLIC          │ WIDOWED        │ WHITE                  │ 2138-04-02 14:56:00 │ 2138-04-02 20:40:00 │ RIGHT HUMEROUS FRACTURE                                                                                              │                    0 │                    1 │\n",
       "│  12768 │      10033 │  157235 │     254543 │ carevue    │ SICU           │ SICU          │           33 │          33 │ 2132-12-05 13:13:18 │ 2132-12-06 14:53:22 │  1.0695 │  12283 │      10033 │  157235 │ 2132-12-05 02:46:00 │ 2132-12-08 15:15:00 │ NULL                │ EMERGENCY      │ EMERGENCY ROOM ADMIT      │ SNF                      │ Medicare  │ POLI     │ CATHOLIC          │ MARRIED        │ WHITE                  │ 2132-12-04 20:11:00 │ 2132-12-05 04:05:00 │ RENAL FAILIURE-SYNCOPE-HYPERKALEMIA                                                                                  │                    0 │                    1 │\n",
       "│    ·   │        ·   │     ·   │        ·   │    ·       │  ·             │  ·            │            · │           · │          ·          │          ·          │     ·   │    ·   │        ·   │     ·   │          ·          │          ·          │  ·                  │     ·          │          ·                │  ·                       │    ·      │  ·       │    ·              │    ·           │   ·                    │          ·          │          ·          │     ·                                                                                                                │                    · │                    · │\n",
       "│    ·   │        ·   │     ·   │        ·   │    ·       │  ·             │  ·            │            · │           · │          ·          │          ·          │     ·   │    ·   │        ·   │     ·   │          ·          │          ·          │  ·                  │     ·          │          ·                │  ·                       │    ·      │  ·       │    ·              │    ·           │   ·                    │          ·          │          ·          │     ·                                                                                                                │                    · │                    · │\n",
       "│    ·   │        ·   │     ·   │        ·   │    ·       │  ·             │  ·            │            · │           · │          ·          │          ·          │     ·   │    ·   │        ·   │     ·   │          ·          │          ·          │  ·                  │     ·          │          ·                │  ·                       │    ·      │  ·       │    ·              │    ·           │   ·                    │          ·          │          ·          │     ·                                                                                                                │                    · │                    · │\n",
       "│  42072 │      42199 │  178513 │     274509 │ metavision │ SICU           │ SICU          │           33 │          33 │ 2117-03-23 12:30:37 │ 2117-03-28 22:44:33 │  5.4263 │  40488 │      42199 │  178513 │ 2117-03-21 12:55:00 │ 2117-03-31 12:10:00 │ NULL                │ EMERGENCY      │ EMERGENCY ROOM ADMIT      │ SNF                      │ Medicare  │ ENGL     │ PROTESTANT QUAKER │ MARRIED        │ WHITE                  │ 2117-03-21 06:05:00 │ 2117-03-21 15:03:00 │ CHEST PAIN                                                                                                           │                    0 │                    1 │\n",
       "│  42079 │      42231 │  171878 │     254635 │ metavision │ MICU           │ MICU          │           52 │          52 │ 2102-08-31 17:04:12 │ 2102-09-01 20:19:42 │  1.1358 │  40496 │      42231 │  171878 │ 2102-08-29 07:15:00 │ 2102-09-06 16:20:00 │ NULL                │ ELECTIVE       │ PHYS REFERRAL/NORMAL DELI │ HOME HEALTH CARE         │ Medicare  │ ENGL     │ CATHOLIC          │ MARRIED        │ WHITE                  │ NULL                │ NULL                │ RENAL CANCER/SDA                                                                                                     │                    0 │                    1 │\n",
       "│  42574 │      43746 │  167181 │     224458 │ metavision │ SICU           │ SICU          │           57 │          57 │ 2111-01-12 15:26:49 │ 2111-01-14 18:20:03 │  2.1203 │  40958 │      43746 │  167181 │ 2110-12-29 18:03:00 │ 2111-01-14 15:19:00 │ 2111-01-14 15:19:00 │ EMERGENCY      │ PHYS REFERRAL/NORMAL DELI │ DEAD/EXPIRED             │ Medicare  │ RUSS     │ JEWISH            │ WIDOWED        │ WHITE                  │ NULL                │ NULL                │ METASTIC MELANOMA;ANEMIA                                                                                             │                    1 │                    1 │\n",
       "│  12865 │      10124 │  170883 │     295043 │ carevue    │ CCU            │ CCU           │            7 │           7 │ 2192-04-24 02:29:49 │ 2192-04-26 23:59:45 │  2.8958 │  12378 │      10124 │  170883 │ 2192-04-16 20:57:00 │ 2192-05-15 19:28:00 │ 2192-05-15 19:28:00 │ EMERGENCY      │ EMERGENCY ROOM ADMIT      │ DEAD/EXPIRED             │ Medicare  │ RUSS     │ JEWISH            │ WIDOWED        │ WHITE                  │ 2192-04-16 11:51:00 │ 2192-04-16 21:38:00 │ CONGESTIVE HEART FAILURE                                                                                             │                    1 │                    1 │\n",
       "│  41387 │      40177 │  198480 │     236120 │ metavision │ MICU           │ MICU          │           50 │          52 │ 2169-05-06 23:17:17 │ 2169-05-08 01:58:01 │  1.1116 │  39830 │      40177 │  198480 │ 2169-05-06 23:16:00 │ 2169-05-12 08:54:00 │ 2169-05-12 08:54:00 │ EMERGENCY      │ TRANSFER FROM HOSP/EXTRAM │ DEAD/EXPIRED             │ Medicare  │ ENGL     │ CATHOLIC          │ MARRIED        │ WHITE                  │ NULL                │ NULL                │ ACUTE CHOLANGITIS                                                                                                    │                    1 │                    1 │\n",
       "│  41424 │      40304 │  174997 │     261743 │ metavision │ MICU           │ MICU          │           50 │          50 │ 2163-11-21 18:34:25 │ 2163-11-22 22:06:43 │  1.1474 │  39866 │      40304 │  174997 │ 2163-11-21 18:34:00 │ 2163-12-01 11:00:00 │ NULL                │ EMERGENCY      │ TRANSFER FROM HOSP/EXTRAM │ SNF                      │ Medicare  │ ENGL     │ PROTESTANT QUAKER │ MARRIED        │ WHITE                  │ NULL                │ NULL                │ MEDIASTINAL ADENOPATHY                                                                                               │                    0 │                    1 │\n",
       "│  42093 │      42281 │  195911 │     256746 │ metavision │ MICU           │ MICU          │           52 │          52 │ 2119-10-17 05:59:04 │ 2119-10-21 00:36:31 │   3.776 │  40509 │      42281 │  195911 │ 2119-10-17 05:58:00 │ 2119-11-14 09:30:00 │ 2119-11-14 09:30:00 │ EMERGENCY      │ EMERGENCY ROOM ADMIT      │ DEAD/EXPIRED             │ Medicare  │ ENGL     │ NOT SPECIFIED     │ SINGLE         │ HISPANIC OR LATINO     │ 2119-10-17 04:10:00 │ 2119-10-17 08:44:00 │ UPPER GI BLEED                                                                                                       │                    1 │                    1 │\n",
       "│  42564 │      43735 │  112662 │     293363 │ metavision │ MICU           │ MICU          │           23 │          23 │ 2128-11-04 16:06:14 │ 2128-11-05 17:07:58 │  1.0429 │  40952 │      43735 │  112662 │ 2128-11-04 16:05:00 │ 2128-11-09 12:00:00 │ 2128-11-09 12:00:00 │ EMERGENCY      │ EMERGENCY ROOM ADMIT      │ DEAD/EXPIRED             │ Medicare  │ ENGL     │ CATHOLIC          │ MARRIED        │ WHITE                  │ 2128-11-04 12:20:00 │ 2128-11-04 17:11:00 │ HYPOTENSION                                                                                                          │                    1 │                    1 │\n",
       "│  42573 │      43746 │  167181 │     289236 │ metavision │ SICU           │ SICU          │           57 │          57 │ 2111-01-07 16:36:48 │ 2111-01-09 15:47:22 │  1.9657 │  40958 │      43746 │  167181 │ 2110-12-29 18:03:00 │ 2111-01-14 15:19:00 │ 2111-01-14 15:19:00 │ EMERGENCY      │ PHYS REFERRAL/NORMAL DELI │ DEAD/EXPIRED             │ Medicare  │ RUSS     │ JEWISH            │ WIDOWED        │ WHITE                  │ NULL                │ NULL                │ METASTIC MELANOMA;ANEMIA                                                                                             │                    1 │                    1 │\n",
       "│  12864 │      10124 │  170883 │     222779 │ carevue    │ MICU           │ MICU          │           50 │          50 │ 2192-04-16 20:58:32 │ 2192-04-20 08:51:28 │  3.4951 │  12378 │      10124 │  170883 │ 2192-04-16 20:57:00 │ 2192-05-15 19:28:00 │ 2192-05-15 19:28:00 │ EMERGENCY      │ EMERGENCY ROOM ADMIT      │ DEAD/EXPIRED             │ Medicare  │ RUSS     │ JEWISH            │ WIDOWED        │ WHITE                  │ 2192-04-16 11:51:00 │ 2192-04-16 21:38:00 │ CONGESTIVE HEART FAILURE                                                                                             │                    1 │                    1 │\n",
       "├────────┴────────────┴─────────┴────────────┴────────────┴────────────────┴───────────────┴──────────────┴─────────────┴─────────────────────┴─────────────────────┴─────────┴────────┴────────────┴─────────┴─────────────────────┴─────────────────────┴─────────────────────┴────────────────┴───────────────────────────┴──────────────────────────┴───────────┴──────────┴───────────────────┴────────────────┴────────────────────────┴─────────────────────┴─────────────────────┴──────────────────────────────────────────────────────────────────────────────────────────────────────────────────────┴──────────────────────┴──────────────────────┤\n",
       "│ 136 rows (20 shown)                                                                                                                                                                                                                                                                                                                                                                                                                                                                                                                                                                                                                              31 columns │\n",
       "└─────────────────────────────────────────────────────────────────────────────────────────────────────────────────────────────────────────────────────────────────────────────────────────────────────────────────────────────────────────────────────────────────────────────────────────────────────────────────────────────────────────────────────────────────────────────────────────────────────────────────────────────────────────────────────────────────────────────────────────────────────────────────────────────────────────────────────────────────────────────────────────────────────────────────────────────────────────────────────────────┘"
      ]
     },
     "execution_count": 15,
     "metadata": {},
     "output_type": "execute_result"
    }
   ],
   "source": [
    "con.sql(\"\"\"\n",
    "\tSELECT * FROM ICUSTAYS\n",
    "\tJOIN ADMISSIONS ON ICUSTAYS.hadm_id = ADMISSIONS.hadm_id\n",
    "\"\"\")"
   ]
  },
  {
   "cell_type": "code",
   "execution_count": 13,
   "metadata": {},
   "outputs": [
    {
     "data": {
      "text/plain": [
       "┌──────────┬────────────────┐\n",
       "│ drg_code │ num_admissions │\n",
       "│ varchar  │     int64      │\n",
       "├──────────┼────────────────┤\n",
       "│ 7204     │             12 │\n",
       "│ 871      │             11 │\n",
       "│ 416      │              8 │\n",
       "│ 1394     │              4 │\n",
       "│ 7104     │              4 │\n",
       "│ 208      │              3 │\n",
       "│ 1304     │              3 │\n",
       "│ 207      │              3 │\n",
       "│ 004      │              2 │\n",
       "│ 578      │              2 │\n",
       "│  ·       │              · │\n",
       "│  ·       │              · │\n",
       "│  ·       │              · │\n",
       "│ 470      │              1 │\n",
       "│ 6914     │              1 │\n",
       "│ 020      │              1 │\n",
       "│ 3013     │              1 │\n",
       "│ 320      │              1 │\n",
       "│ 657      │              1 │\n",
       "│ 0454     │              1 │\n",
       "│ 2833     │              1 │\n",
       "│ 105      │              1 │\n",
       "│ 089      │              1 │\n",
       "├──────────┴────────────────┤\n",
       "│    162 rows (20 shown)    │\n",
       "└───────────────────────────┘"
      ]
     },
     "execution_count": 13,
     "metadata": {},
     "output_type": "execute_result"
    }
   ],
   "source": [
    "con.sql(\"\"\"\n",
    "    WITH DRG_ADM_COUNTS AS (\n",
    "        SELECT \n",
    "            drg_code, \n",
    "            COUNT(DISTINCT hadm_id) AS num_admissions\n",
    "        FROM DRGCODES\n",
    "        GROUP BY drg_code\n",
    "    )\n",
    "    SELECT * FROM DRG_ADM_COUNTS\n",
    "    ORDER BY num_admissions DESC\n",
    "\"\"\")\n"
   ]
  },
  {
   "cell_type": "code",
   "execution_count": null,
   "metadata": {},
   "outputs": [],
   "source": [
    "# Calculate the age of each patient at the time of admission.\n",
    "# Hint: cast(patients.dob as date) allows for addition and subtraction of dates (in days)\n",
    "\n",
    "# Identify if a patient passes away when they are in the ICU.\n",
    "\n",
    "# Calculate the average duration of admission."
   ]
  },
  {
   "cell_type": "code",
   "execution_count": 28,
   "metadata": {},
   "outputs": [
    {
     "data": {
      "text/plain": [
       "┌────────────┬────────────────────┐\n",
       "│ subject_id │  age_at_admission  │\n",
       "│   int32    │       double       │\n",
       "├────────────┼────────────────────┤\n",
       "│      10006 │  70.63381245722108 │\n",
       "│      10011 │  36.18891170431211 │\n",
       "│      10013 │  87.08281998631075 │\n",
       "│      10017 │  73.67556468172485 │\n",
       "│      10019 │  48.89801505817933 │\n",
       "│      10026 │ 299.99452429842574 │\n",
       "│      10027 │  82.49144421629022 │\n",
       "│      10029 │  78.44763860369609 │\n",
       "│      10032 │   88.0082135523614 │\n",
       "│      10033 │  81.62354551676934 │\n",
       "│        ·   │          ·         │\n",
       "│        ·   │          ·         │\n",
       "│        ·   │          ·         │\n",
       "│      43881 │  53.58521560574949 │\n",
       "│      43909 │  78.87748117727584 │\n",
       "│      43927 │  71.63586584531143 │\n",
       "│      44083 │  54.46406570841889 │\n",
       "│      44083 │  54.51334702258727 │\n",
       "│      44083 │  54.52977412731006 │\n",
       "│      44154 │ 299.99452429842574 │\n",
       "│      44212 │ 45.437371663244356 │\n",
       "│      44222 │  73.06228610540725 │\n",
       "│      44228 │  58.14647501711157 │\n",
       "├────────────┴────────────────────┤\n",
       "│ 129 rows (20 shown)   2 columns │\n",
       "└─────────────────────────────────┘"
      ]
     },
     "execution_count": 28,
     "metadata": {},
     "output_type": "execute_result"
    }
   ],
   "source": [
    "con.sql(\"\"\"\n",
    "    WITH AD_PAT AS (\n",
    "        SELECT *, \n",
    "               DATE_DIFF('day', CAST(dob AS DATE), CAST(admittime AS DATE)) / 365.25 AS age_at_admission\n",
    "        FROM PATIENTS\n",
    "        JOIN ADMISSIONS ON PATIENTS.subject_id = ADMISSIONS.subject_id\n",
    "    )\n",
    "    SELECT subject_id, age_at_admission FROM AD_PAT\n",
    "\"\"\")\n"
   ]
  },
  {
   "cell_type": "code",
   "execution_count": 35,
   "metadata": {},
   "outputs": [
    {
     "data": {
      "text/plain": [
       "┌────────┬────────────┬─────────┬────────────┬────────────┬────────────────┬───────────────┬──────────────┬─────────────┬─────────────────────┬─────────────────────┬─────────┬──────────┬──────────────┬───────────┬─────────────────────┬─────────────────────┬─────────────────────┬────────────────┬───────────────────────────┬──────────────────────────┬───────────┬──────────┬───────────────────┬────────────────┬────────────────────────┬─────────────────────┬─────────────────────┬──────────────────────────────────────────────────────────────────────────────────────────────────────────────────────┬──────────────────────┬──────────────────────┬─────────────┐\n",
       "│ row_id │ subject_id │ hadm_id │ icustay_id │  dbsource  │ first_careunit │ last_careunit │ first_wardid │ last_wardid │       intime        │       outtime       │   los   │ row_id_1 │ subject_id_1 │ hadm_id_1 │      admittime      │      dischtime      │      deathtime      │ admission_type │    admission_location     │    discharge_location    │ insurance │ language │     religion      │ marital_status │       ethnicity        │      edregtime      │      edouttime      │                                                      diagnosis                                                       │ hospital_expire_flag │ has_chartevents_data │ died_in_ICU │\n",
       "│ int32  │   int32    │  int32  │   int32    │  varchar   │    varchar     │    varchar    │    int32     │    int32    │       varchar       │       varchar       │  float  │  int32   │    int32     │   int32   │       varchar       │       varchar       │       varchar       │    varchar     │          varchar          │         varchar          │  varchar  │ varchar  │      varchar      │    varchar     │        varchar         │       varchar       │       varchar       │                                                       varchar                                                        │        int32         │        int32         │   boolean   │\n",
       "├────────┼────────────┼─────────┼────────────┼────────────┼────────────────┼───────────────┼──────────────┼─────────────┼─────────────────────┼─────────────────────┼─────────┼──────────┼──────────────┼───────────┼─────────────────────┼─────────────────────┼─────────────────────┼────────────────┼───────────────────────────┼──────────────────────────┼───────────┼──────────┼───────────────────┼────────────────┼────────────────────────┼─────────────────────┼─────────────────────┼──────────────────────────────────────────────────────────────────────────────────────────────────────────────────────┼──────────────────────┼──────────────────────┼─────────────┤\n",
       "│  12742 │      10006 │  142345 │     206504 │ carevue    │ MICU           │ MICU          │           52 │          52 │ 2164-10-23 21:10:15 │ 2164-10-25 12:21:07 │  1.6325 │    12258 │        10006 │    142345 │ 2164-10-23 21:09:00 │ 2164-11-01 17:15:00 │ NULL                │ EMERGENCY      │ EMERGENCY ROOM ADMIT      │ HOME HEALTH CARE         │ Medicare  │ NULL     │ CATHOLIC          │ SEPARATED      │ BLACK/AFRICAN AMERICAN │ 2164-10-23 16:43:00 │ 2164-10-23 23:00:00 │ SEPSIS                                                                                                               │                    0 │                    1 │ NULL        │\n",
       "│  12747 │      10011 │  105331 │     232110 │ carevue    │ MICU           │ MICU          │           15 │          15 │ 2126-08-14 22:34:00 │ 2126-08-28 18:59:00 │ 13.8507 │    12263 │        10011 │    105331 │ 2126-08-14 22:32:00 │ 2126-08-28 18:59:00 │ 2126-08-28 18:59:00 │ EMERGENCY      │ TRANSFER FROM HOSP/EXTRAM │ DEAD/EXPIRED             │ Private   │ NULL     │ CATHOLIC          │ SINGLE         │ UNKNOWN/NOT SPECIFIED  │ NULL                │ NULL                │ HEPATITIS B                                                                                                          │                    1 │                    1 │ true        │\n",
       "│  12749 │      10013 │  165520 │     264446 │ carevue    │ MICU           │ MICU          │           15 │          15 │ 2125-10-04 23:38:00 │ 2125-10-07 15:13:52 │  2.6499 │    12265 │        10013 │    165520 │ 2125-10-04 23:36:00 │ 2125-10-07 15:13:00 │ 2125-10-07 15:13:00 │ EMERGENCY      │ TRANSFER FROM HOSP/EXTRAM │ DEAD/EXPIRED             │ Medicare  │ NULL     │ CATHOLIC          │ NULL           │ UNKNOWN/NOT SPECIFIED  │ NULL                │ NULL                │ SEPSIS                                                                                                               │                    1 │                    1 │ true        │\n",
       "│  12754 │      10017 │  199207 │     204881 │ carevue    │ CCU            │ CCU           │            7 │           7 │ 2149-05-29 18:52:29 │ 2149-05-31 22:19:17 │  2.1436 │    12269 │        10017 │    199207 │ 2149-05-26 17:19:00 │ 2149-06-03 18:42:00 │ NULL                │ EMERGENCY      │ EMERGENCY ROOM ADMIT      │ SNF                      │ Medicare  │ NULL     │ CATHOLIC          │ DIVORCED       │ WHITE                  │ 2149-05-26 12:08:00 │ 2149-05-26 19:45:00 │ HUMERAL FRACTURE                                                                                                     │                    0 │                    1 │ NULL        │\n",
       "│  12755 │      10019 │  177759 │     228977 │ carevue    │ MICU           │ MICU          │           15 │          15 │ 2163-05-14 20:43:56 │ 2163-05-16 03:47:04 │  1.2938 │    12270 │        10019 │    177759 │ 2163-05-14 20:43:00 │ 2163-05-15 12:00:00 │ 2163-05-15 12:00:00 │ EMERGENCY      │ TRANSFER FROM HOSP/EXTRAM │ DEAD/EXPIRED             │ Medicare  │ NULL     │ CATHOLIC          │ DIVORCED       │ WHITE                  │ NULL                │ NULL                │ ALCOHOLIC HEPATITIS                                                                                                  │                    1 │                    1 │ true        │\n",
       "│  12762 │      10026 │  103770 │     277021 │ carevue    │ SICU           │ SICU          │           33 │          33 │ 2195-05-17 07:40:18 │ 2195-05-19 17:24:25 │  2.4056 │    12277 │        10026 │    103770 │ 2195-05-17 07:39:00 │ 2195-05-24 11:45:00 │ NULL                │ EMERGENCY      │ EMERGENCY ROOM ADMIT      │ REHAB/DISTINCT PART HOSP │ Medicare  │ NULL     │ OTHER             │ NULL           │ WHITE                  │ 2195-05-17 01:49:00 │ 2195-05-17 08:29:00 │ STROKE/TIA                                                                                                           │                    0 │                    1 │ NULL        │\n",
       "│  12763 │      10027 │  199395 │     286020 │ carevue    │ CSRU           │ CSRU          │           12 │          12 │ 2190-07-13 10:39:07 │ 2190-07-20 16:55:45 │  7.2616 │    12278 │        10027 │    199395 │ 2190-07-13 07:15:00 │ 2190-07-25 14:00:00 │ NULL                │ ELECTIVE       │ PHYS REFERRAL/NORMAL DELI │ SNF                      │ Medicare  │ NULL     │ CATHOLIC          │ MARRIED        │ WHITE                  │ NULL                │ NULL                │  MITRAL REGURGITATION;CORONARY ARTERY DISEASE\\CORONARY ARTERY BYPASS GRAFT WITH MVR  ? MITRAL VALVE REPLACEMENT /SDA │                    0 │                    1 │ NULL        │\n",
       "│  12765 │      10029 │  132349 │     226055 │ carevue    │ SICU           │ SICU          │           33 │          33 │ 2139-09-23 12:37:10 │ 2139-09-25 18:55:04 │  2.2624 │    12280 │        10029 │    132349 │ 2139-09-22 10:58:00 │ 2139-10-02 14:29:00 │ NULL                │ EMERGENCY      │ EMERGENCY ROOM ADMIT      │ SNF                      │ Medicare  │ NULL     │ PROTESTANT QUAKER │ DIVORCED       │ WHITE                  │ 2139-09-22 06:03:00 │ 2139-09-22 11:50:00 │ SYNCOPE;TELEMETRY                                                                                                    │                    0 │                    1 │ NULL        │\n",
       "│  12767 │      10032 │  140372 │     267090 │ carevue    │ MICU           │ MICU          │           52 │          52 │ 2138-04-08 01:38:18 │ 2138-04-11 18:43:34 │   3.712 │    12282 │        10032 │    140372 │ 2138-04-02 19:52:00 │ 2138-04-15 14:35:00 │ NULL                │ EMERGENCY      │ EMERGENCY ROOM ADMIT      │ REHAB/DISTINCT PART HOSP │ Medicare  │ NULL     │ CATHOLIC          │ WIDOWED        │ WHITE                  │ 2138-04-02 14:56:00 │ 2138-04-02 20:40:00 │ RIGHT HUMEROUS FRACTURE                                                                                              │                    0 │                    1 │ NULL        │\n",
       "│  12768 │      10033 │  157235 │     254543 │ carevue    │ SICU           │ SICU          │           33 │          33 │ 2132-12-05 13:13:18 │ 2132-12-06 14:53:22 │  1.0695 │    12283 │        10033 │    157235 │ 2132-12-05 02:46:00 │ 2132-12-08 15:15:00 │ NULL                │ EMERGENCY      │ EMERGENCY ROOM ADMIT      │ SNF                      │ Medicare  │ POLI     │ CATHOLIC          │ MARRIED        │ WHITE                  │ 2132-12-04 20:11:00 │ 2132-12-05 04:05:00 │ RENAL FAILIURE-SYNCOPE-HYPERKALEMIA                                                                                  │                    0 │                    1 │ NULL        │\n",
       "│    ·   │        ·   │     ·   │        ·   │    ·       │  ·             │  ·            │            · │           · │          ·          │          ·          │     ·   │      ·   │          ·   │       ·   │          ·          │          ·          │  ·                  │     ·          │          ·                │  ·                       │    ·      │  ·       │    ·              │    ·           │   ·                    │          ·          │          ·          │     ·                                                                                                                │                    · │                    · │  ·          │\n",
       "│    ·   │        ·   │     ·   │        ·   │    ·       │  ·             │  ·            │            · │           · │          ·          │          ·          │     ·   │      ·   │          ·   │       ·   │          ·          │          ·          │  ·                  │     ·          │          ·                │  ·                       │    ·      │  ·       │    ·              │    ·           │   ·                    │          ·          │          ·          │     ·                                                                                                                │                    · │                    · │  ·          │\n",
       "│    ·   │        ·   │     ·   │        ·   │    ·       │  ·             │  ·            │            · │           · │          ·          │          ·          │     ·   │      ·   │          ·   │       ·   │          ·          │          ·          │  ·                  │     ·          │          ·                │  ·                       │    ·      │  ·       │    ·              │    ·           │   ·                    │          ·          │          ·          │     ·                                                                                                                │                    · │                    · │  ·          │\n",
       "│  42072 │      42199 │  178513 │     274509 │ metavision │ SICU           │ SICU          │           33 │          33 │ 2117-03-23 12:30:37 │ 2117-03-28 22:44:33 │  5.4263 │    40488 │        42199 │    178513 │ 2117-03-21 12:55:00 │ 2117-03-31 12:10:00 │ NULL                │ EMERGENCY      │ EMERGENCY ROOM ADMIT      │ SNF                      │ Medicare  │ ENGL     │ PROTESTANT QUAKER │ MARRIED        │ WHITE                  │ 2117-03-21 06:05:00 │ 2117-03-21 15:03:00 │ CHEST PAIN                                                                                                           │                    0 │                    1 │ NULL        │\n",
       "│  42079 │      42231 │  171878 │     254635 │ metavision │ MICU           │ MICU          │           52 │          52 │ 2102-08-31 17:04:12 │ 2102-09-01 20:19:42 │  1.1358 │    40496 │        42231 │    171878 │ 2102-08-29 07:15:00 │ 2102-09-06 16:20:00 │ NULL                │ ELECTIVE       │ PHYS REFERRAL/NORMAL DELI │ HOME HEALTH CARE         │ Medicare  │ ENGL     │ CATHOLIC          │ MARRIED        │ WHITE                  │ NULL                │ NULL                │ RENAL CANCER/SDA                                                                                                     │                    0 │                    1 │ NULL        │\n",
       "│  42574 │      43746 │  167181 │     224458 │ metavision │ SICU           │ SICU          │           57 │          57 │ 2111-01-12 15:26:49 │ 2111-01-14 18:20:03 │  2.1203 │    40958 │        43746 │    167181 │ 2110-12-29 18:03:00 │ 2111-01-14 15:19:00 │ 2111-01-14 15:19:00 │ EMERGENCY      │ PHYS REFERRAL/NORMAL DELI │ DEAD/EXPIRED             │ Medicare  │ RUSS     │ JEWISH            │ WIDOWED        │ WHITE                  │ NULL                │ NULL                │ METASTIC MELANOMA;ANEMIA                                                                                             │                    1 │                    1 │ true        │\n",
       "│  12865 │      10124 │  170883 │     295043 │ carevue    │ CCU            │ CCU           │            7 │           7 │ 2192-04-24 02:29:49 │ 2192-04-26 23:59:45 │  2.8958 │    12378 │        10124 │    170883 │ 2192-04-16 20:57:00 │ 2192-05-15 19:28:00 │ 2192-05-15 19:28:00 │ EMERGENCY      │ EMERGENCY ROOM ADMIT      │ DEAD/EXPIRED             │ Medicare  │ RUSS     │ JEWISH            │ WIDOWED        │ WHITE                  │ 2192-04-16 11:51:00 │ 2192-04-16 21:38:00 │ CONGESTIVE HEART FAILURE                                                                                             │                    1 │                    1 │ true        │\n",
       "│  41387 │      40177 │  198480 │     236120 │ metavision │ MICU           │ MICU          │           50 │          52 │ 2169-05-06 23:17:17 │ 2169-05-08 01:58:01 │  1.1116 │    39830 │        40177 │    198480 │ 2169-05-06 23:16:00 │ 2169-05-12 08:54:00 │ 2169-05-12 08:54:00 │ EMERGENCY      │ TRANSFER FROM HOSP/EXTRAM │ DEAD/EXPIRED             │ Medicare  │ ENGL     │ CATHOLIC          │ MARRIED        │ WHITE                  │ NULL                │ NULL                │ ACUTE CHOLANGITIS                                                                                                    │                    1 │                    1 │ true        │\n",
       "│  41424 │      40304 │  174997 │     261743 │ metavision │ MICU           │ MICU          │           50 │          50 │ 2163-11-21 18:34:25 │ 2163-11-22 22:06:43 │  1.1474 │    39866 │        40304 │    174997 │ 2163-11-21 18:34:00 │ 2163-12-01 11:00:00 │ NULL                │ EMERGENCY      │ TRANSFER FROM HOSP/EXTRAM │ SNF                      │ Medicare  │ ENGL     │ PROTESTANT QUAKER │ MARRIED        │ WHITE                  │ NULL                │ NULL                │ MEDIASTINAL ADENOPATHY                                                                                               │                    0 │                    1 │ NULL        │\n",
       "│  42093 │      42281 │  195911 │     256746 │ metavision │ MICU           │ MICU          │           52 │          52 │ 2119-10-17 05:59:04 │ 2119-10-21 00:36:31 │   3.776 │    40509 │        42281 │    195911 │ 2119-10-17 05:58:00 │ 2119-11-14 09:30:00 │ 2119-11-14 09:30:00 │ EMERGENCY      │ EMERGENCY ROOM ADMIT      │ DEAD/EXPIRED             │ Medicare  │ ENGL     │ NOT SPECIFIED     │ SINGLE         │ HISPANIC OR LATINO     │ 2119-10-17 04:10:00 │ 2119-10-17 08:44:00 │ UPPER GI BLEED                                                                                                       │                    1 │                    1 │ true        │\n",
       "│  42564 │      43735 │  112662 │     293363 │ metavision │ MICU           │ MICU          │           23 │          23 │ 2128-11-04 16:06:14 │ 2128-11-05 17:07:58 │  1.0429 │    40952 │        43735 │    112662 │ 2128-11-04 16:05:00 │ 2128-11-09 12:00:00 │ 2128-11-09 12:00:00 │ EMERGENCY      │ EMERGENCY ROOM ADMIT      │ DEAD/EXPIRED             │ Medicare  │ ENGL     │ CATHOLIC          │ MARRIED        │ WHITE                  │ 2128-11-04 12:20:00 │ 2128-11-04 17:11:00 │ HYPOTENSION                                                                                                          │                    1 │                    1 │ true        │\n",
       "│  42573 │      43746 │  167181 │     289236 │ metavision │ SICU           │ SICU          │           57 │          57 │ 2111-01-07 16:36:48 │ 2111-01-09 15:47:22 │  1.9657 │    40958 │        43746 │    167181 │ 2110-12-29 18:03:00 │ 2111-01-14 15:19:00 │ 2111-01-14 15:19:00 │ EMERGENCY      │ PHYS REFERRAL/NORMAL DELI │ DEAD/EXPIRED             │ Medicare  │ RUSS     │ JEWISH            │ WIDOWED        │ WHITE                  │ NULL                │ NULL                │ METASTIC MELANOMA;ANEMIA                                                                                             │                    1 │                    1 │ true        │\n",
       "│  12864 │      10124 │  170883 │     222779 │ carevue    │ MICU           │ MICU          │           50 │          50 │ 2192-04-16 20:58:32 │ 2192-04-20 08:51:28 │  3.4951 │    12378 │        10124 │    170883 │ 2192-04-16 20:57:00 │ 2192-05-15 19:28:00 │ 2192-05-15 19:28:00 │ EMERGENCY      │ EMERGENCY ROOM ADMIT      │ DEAD/EXPIRED             │ Medicare  │ RUSS     │ JEWISH            │ WIDOWED        │ WHITE                  │ 2192-04-16 11:51:00 │ 2192-04-16 21:38:00 │ CONGESTIVE HEART FAILURE                                                                                             │                    1 │                    1 │ true        │\n",
       "├────────┴────────────┴─────────┴────────────┴────────────┴────────────────┴───────────────┴──────────────┴─────────────┴─────────────────────┴─────────────────────┴─────────┴──────────┴──────────────┴───────────┴─────────────────────┴─────────────────────┴─────────────────────┴────────────────┴───────────────────────────┴──────────────────────────┴───────────┴──────────┴───────────────────┴────────────────┴────────────────────────┴─────────────────────┴─────────────────────┴──────────────────────────────────────────────────────────────────────────────────────────────────────────────────────┴──────────────────────┴──────────────────────┴─────────────┤\n",
       "│ 136 rows (20 shown)                                                                                                                                                                                                                                                                                                                                                                                                                                                                                                                                                                                                                                                  32 columns │\n",
       "└─────────────────────────────────────────────────────────────────────────────────────────────────────────────────────────────────────────────────────────────────────────────────────────────────────────────────────────────────────────────────────────────────────────────────────────────────────────────────────────────────────────────────────────────────────────────────────────────────────────────────────────────────────────────────────────────────────────────────────────────────────────────────────────────────────────────────────────────────────────────────────────────────────────────────────────────────────────────────────────────────────────────────┘"
      ]
     },
     "execution_count": 35,
     "metadata": {},
     "output_type": "execute_result"
    }
   ],
   "source": [
    "con.sql(\"\"\"\n",
    "    WITH ICUS AS (\n",
    "        SELECT *,\n",
    "\t\tdischtime = deathtime AS died_in_ICU\n",
    "        FROM ICUSTAYS\n",
    "        JOIN ADMISSIONS ON ICUSTAYS.hadm_id = ADMISSIONS.hadm_id\n",
    "    )\n",
    "    SELECT * FROM ICUS\n",
    "\"\"\")\n"
   ]
  },
  {
   "cell_type": "code",
   "execution_count": 41,
   "metadata": {},
   "outputs": [
    {
     "data": {
      "text/plain": [
       "┌────────────┬───────────────┐\n",
       "│ subject_id │ duration_stay │\n",
       "│   int32    │    double     │\n",
       "├────────────┼───────────────┤\n",
       "│      10006 │          8.83 │\n",
       "│      10011 │         13.83 │\n",
       "│      10013 │          2.67 │\n",
       "│      10017 │          8.04 │\n",
       "│      10019 │          0.67 │\n",
       "│      10026 │          7.17 │\n",
       "│      10027 │         12.29 │\n",
       "│      10029 │         10.17 │\n",
       "│      10032 │         12.79 │\n",
       "│      10033 │          3.54 │\n",
       "│        ·   │            ·  │\n",
       "│        ·   │            ·  │\n",
       "│        ·   │            ·  │\n",
       "│      43881 │          8.08 │\n",
       "│      43909 │          0.13 │\n",
       "│      43927 │          4.13 │\n",
       "│      44083 │          7.25 │\n",
       "│      44083 │          2.92 │\n",
       "│      44083 │         10.04 │\n",
       "│      44154 │          0.54 │\n",
       "│      44212 │          36.0 │\n",
       "│      44222 │          1.29 │\n",
       "│      44228 │          9.63 │\n",
       "├────────────┴───────────────┤\n",
       "│    129 rows (20 shown)     │\n",
       "└────────────────────────────┘"
      ]
     },
     "execution_count": 41,
     "metadata": {},
     "output_type": "execute_result"
    }
   ],
   "source": [
    "con.sql(\"\"\"\n",
    "    WITH ADMIT_DUR AS (\n",
    "        SELECT *, \n",
    "               ROUND(DATE_DIFF('hour', CAST(admittime AS TIMESTAMP), CAST(dischtime AS TIMESTAMP))/24,2) AS duration_stay\n",
    "        FROM ADMISSIONS\n",
    "        JOIN PATIENTS ON PATIENTS.subject_id = ADMISSIONS.subject_id\n",
    "    )\n",
    "    SELECT subject_id, duration_stay FROM ADMIT_DUR\n",
    "\"\"\")\n"
   ]
  },
  {
   "cell_type": "code",
   "execution_count": 43,
   "metadata": {},
   "outputs": [
    {
     "data": {
      "text/plain": [
       "┌─────────┐\n",
       "│  name   │\n",
       "│ varchar │\n",
       "├─────────┤\n",
       "│ 0 rows  │\n",
       "└─────────┘"
      ]
     },
     "execution_count": 43,
     "metadata": {},
     "output_type": "execute_result"
    }
   ],
   "source": [
    "conn = duckdb.connect('mimic_new.db', read_only = False)\n",
    "\n",
    "conn.sql('SHOW TABLES;')"
   ]
  },
  {
   "cell_type": "code",
   "execution_count": 44,
   "metadata": {},
   "outputs": [
    {
     "ename": "FileNotFoundError",
     "evalue": "[Errno 2] No such file or directory: 'penguins.csv'",
     "output_type": "error",
     "traceback": [
      "\u001b[0;31m---------------------------------------------------------------------------\u001b[0m",
      "\u001b[0;31mFileNotFoundError\u001b[0m                         Traceback (most recent call last)",
      "Cell \u001b[0;32mIn[44], line 2\u001b[0m\n\u001b[1;32m      1\u001b[0m \u001b[38;5;28;01mimport\u001b[39;00m\u001b[38;5;250m \u001b[39m\u001b[38;5;21;01mpandas\u001b[39;00m\u001b[38;5;250m \u001b[39m\u001b[38;5;28;01mas\u001b[39;00m\u001b[38;5;250m \u001b[39m\u001b[38;5;21;01mpd\u001b[39;00m\n\u001b[0;32m----> 2\u001b[0m df \u001b[38;5;241m=\u001b[39m \u001b[43mpd\u001b[49m\u001b[38;5;241;43m.\u001b[39;49m\u001b[43mread_csv\u001b[49m\u001b[43m(\u001b[49m\u001b[38;5;124;43m'\u001b[39;49m\u001b[38;5;124;43mpenguins.csv\u001b[39;49m\u001b[38;5;124;43m'\u001b[39;49m\u001b[43m)\u001b[49m\n\u001b[1;32m      3\u001b[0m df\u001b[38;5;241m.\u001b[39mto_sql(\u001b[38;5;124m\"\u001b[39m\u001b[38;5;124mPENGUINS\u001b[39m\u001b[38;5;124m\"\u001b[39m, conn, index \u001b[38;5;241m=\u001b[39m \u001b[38;5;28;01mFalse\u001b[39;00m)\n\u001b[1;32m      4\u001b[0m conn\u001b[38;5;241m.\u001b[39mclose()\n",
      "File \u001b[0;32m~/Desktop/textbooks/DSE_300/.venv/lib/python3.10/site-packages/pandas/io/parsers/readers.py:1026\u001b[0m, in \u001b[0;36mread_csv\u001b[0;34m(filepath_or_buffer, sep, delimiter, header, names, index_col, usecols, dtype, engine, converters, true_values, false_values, skipinitialspace, skiprows, skipfooter, nrows, na_values, keep_default_na, na_filter, verbose, skip_blank_lines, parse_dates, infer_datetime_format, keep_date_col, date_parser, date_format, dayfirst, cache_dates, iterator, chunksize, compression, thousands, decimal, lineterminator, quotechar, quoting, doublequote, escapechar, comment, encoding, encoding_errors, dialect, on_bad_lines, delim_whitespace, low_memory, memory_map, float_precision, storage_options, dtype_backend)\u001b[0m\n\u001b[1;32m   1013\u001b[0m kwds_defaults \u001b[38;5;241m=\u001b[39m _refine_defaults_read(\n\u001b[1;32m   1014\u001b[0m     dialect,\n\u001b[1;32m   1015\u001b[0m     delimiter,\n\u001b[0;32m   (...)\u001b[0m\n\u001b[1;32m   1022\u001b[0m     dtype_backend\u001b[38;5;241m=\u001b[39mdtype_backend,\n\u001b[1;32m   1023\u001b[0m )\n\u001b[1;32m   1024\u001b[0m kwds\u001b[38;5;241m.\u001b[39mupdate(kwds_defaults)\n\u001b[0;32m-> 1026\u001b[0m \u001b[38;5;28;01mreturn\u001b[39;00m \u001b[43m_read\u001b[49m\u001b[43m(\u001b[49m\u001b[43mfilepath_or_buffer\u001b[49m\u001b[43m,\u001b[49m\u001b[43m \u001b[49m\u001b[43mkwds\u001b[49m\u001b[43m)\u001b[49m\n",
      "File \u001b[0;32m~/Desktop/textbooks/DSE_300/.venv/lib/python3.10/site-packages/pandas/io/parsers/readers.py:620\u001b[0m, in \u001b[0;36m_read\u001b[0;34m(filepath_or_buffer, kwds)\u001b[0m\n\u001b[1;32m    617\u001b[0m _validate_names(kwds\u001b[38;5;241m.\u001b[39mget(\u001b[38;5;124m\"\u001b[39m\u001b[38;5;124mnames\u001b[39m\u001b[38;5;124m\"\u001b[39m, \u001b[38;5;28;01mNone\u001b[39;00m))\n\u001b[1;32m    619\u001b[0m \u001b[38;5;66;03m# Create the parser.\u001b[39;00m\n\u001b[0;32m--> 620\u001b[0m parser \u001b[38;5;241m=\u001b[39m \u001b[43mTextFileReader\u001b[49m\u001b[43m(\u001b[49m\u001b[43mfilepath_or_buffer\u001b[49m\u001b[43m,\u001b[49m\u001b[43m \u001b[49m\u001b[38;5;241;43m*\u001b[39;49m\u001b[38;5;241;43m*\u001b[39;49m\u001b[43mkwds\u001b[49m\u001b[43m)\u001b[49m\n\u001b[1;32m    622\u001b[0m \u001b[38;5;28;01mif\u001b[39;00m chunksize \u001b[38;5;129;01mor\u001b[39;00m iterator:\n\u001b[1;32m    623\u001b[0m     \u001b[38;5;28;01mreturn\u001b[39;00m parser\n",
      "File \u001b[0;32m~/Desktop/textbooks/DSE_300/.venv/lib/python3.10/site-packages/pandas/io/parsers/readers.py:1620\u001b[0m, in \u001b[0;36mTextFileReader.__init__\u001b[0;34m(self, f, engine, **kwds)\u001b[0m\n\u001b[1;32m   1617\u001b[0m     \u001b[38;5;28mself\u001b[39m\u001b[38;5;241m.\u001b[39moptions[\u001b[38;5;124m\"\u001b[39m\u001b[38;5;124mhas_index_names\u001b[39m\u001b[38;5;124m\"\u001b[39m] \u001b[38;5;241m=\u001b[39m kwds[\u001b[38;5;124m\"\u001b[39m\u001b[38;5;124mhas_index_names\u001b[39m\u001b[38;5;124m\"\u001b[39m]\n\u001b[1;32m   1619\u001b[0m \u001b[38;5;28mself\u001b[39m\u001b[38;5;241m.\u001b[39mhandles: IOHandles \u001b[38;5;241m|\u001b[39m \u001b[38;5;28;01mNone\u001b[39;00m \u001b[38;5;241m=\u001b[39m \u001b[38;5;28;01mNone\u001b[39;00m\n\u001b[0;32m-> 1620\u001b[0m \u001b[38;5;28mself\u001b[39m\u001b[38;5;241m.\u001b[39m_engine \u001b[38;5;241m=\u001b[39m \u001b[38;5;28;43mself\u001b[39;49m\u001b[38;5;241;43m.\u001b[39;49m\u001b[43m_make_engine\u001b[49m\u001b[43m(\u001b[49m\u001b[43mf\u001b[49m\u001b[43m,\u001b[49m\u001b[43m \u001b[49m\u001b[38;5;28;43mself\u001b[39;49m\u001b[38;5;241;43m.\u001b[39;49m\u001b[43mengine\u001b[49m\u001b[43m)\u001b[49m\n",
      "File \u001b[0;32m~/Desktop/textbooks/DSE_300/.venv/lib/python3.10/site-packages/pandas/io/parsers/readers.py:1880\u001b[0m, in \u001b[0;36mTextFileReader._make_engine\u001b[0;34m(self, f, engine)\u001b[0m\n\u001b[1;32m   1878\u001b[0m     \u001b[38;5;28;01mif\u001b[39;00m \u001b[38;5;124m\"\u001b[39m\u001b[38;5;124mb\u001b[39m\u001b[38;5;124m\"\u001b[39m \u001b[38;5;129;01mnot\u001b[39;00m \u001b[38;5;129;01min\u001b[39;00m mode:\n\u001b[1;32m   1879\u001b[0m         mode \u001b[38;5;241m+\u001b[39m\u001b[38;5;241m=\u001b[39m \u001b[38;5;124m\"\u001b[39m\u001b[38;5;124mb\u001b[39m\u001b[38;5;124m\"\u001b[39m\n\u001b[0;32m-> 1880\u001b[0m \u001b[38;5;28mself\u001b[39m\u001b[38;5;241m.\u001b[39mhandles \u001b[38;5;241m=\u001b[39m \u001b[43mget_handle\u001b[49m\u001b[43m(\u001b[49m\n\u001b[1;32m   1881\u001b[0m \u001b[43m    \u001b[49m\u001b[43mf\u001b[49m\u001b[43m,\u001b[49m\n\u001b[1;32m   1882\u001b[0m \u001b[43m    \u001b[49m\u001b[43mmode\u001b[49m\u001b[43m,\u001b[49m\n\u001b[1;32m   1883\u001b[0m \u001b[43m    \u001b[49m\u001b[43mencoding\u001b[49m\u001b[38;5;241;43m=\u001b[39;49m\u001b[38;5;28;43mself\u001b[39;49m\u001b[38;5;241;43m.\u001b[39;49m\u001b[43moptions\u001b[49m\u001b[38;5;241;43m.\u001b[39;49m\u001b[43mget\u001b[49m\u001b[43m(\u001b[49m\u001b[38;5;124;43m\"\u001b[39;49m\u001b[38;5;124;43mencoding\u001b[39;49m\u001b[38;5;124;43m\"\u001b[39;49m\u001b[43m,\u001b[49m\u001b[43m \u001b[49m\u001b[38;5;28;43;01mNone\u001b[39;49;00m\u001b[43m)\u001b[49m\u001b[43m,\u001b[49m\n\u001b[1;32m   1884\u001b[0m \u001b[43m    \u001b[49m\u001b[43mcompression\u001b[49m\u001b[38;5;241;43m=\u001b[39;49m\u001b[38;5;28;43mself\u001b[39;49m\u001b[38;5;241;43m.\u001b[39;49m\u001b[43moptions\u001b[49m\u001b[38;5;241;43m.\u001b[39;49m\u001b[43mget\u001b[49m\u001b[43m(\u001b[49m\u001b[38;5;124;43m\"\u001b[39;49m\u001b[38;5;124;43mcompression\u001b[39;49m\u001b[38;5;124;43m\"\u001b[39;49m\u001b[43m,\u001b[49m\u001b[43m \u001b[49m\u001b[38;5;28;43;01mNone\u001b[39;49;00m\u001b[43m)\u001b[49m\u001b[43m,\u001b[49m\n\u001b[1;32m   1885\u001b[0m \u001b[43m    \u001b[49m\u001b[43mmemory_map\u001b[49m\u001b[38;5;241;43m=\u001b[39;49m\u001b[38;5;28;43mself\u001b[39;49m\u001b[38;5;241;43m.\u001b[39;49m\u001b[43moptions\u001b[49m\u001b[38;5;241;43m.\u001b[39;49m\u001b[43mget\u001b[49m\u001b[43m(\u001b[49m\u001b[38;5;124;43m\"\u001b[39;49m\u001b[38;5;124;43mmemory_map\u001b[39;49m\u001b[38;5;124;43m\"\u001b[39;49m\u001b[43m,\u001b[49m\u001b[43m \u001b[49m\u001b[38;5;28;43;01mFalse\u001b[39;49;00m\u001b[43m)\u001b[49m\u001b[43m,\u001b[49m\n\u001b[1;32m   1886\u001b[0m \u001b[43m    \u001b[49m\u001b[43mis_text\u001b[49m\u001b[38;5;241;43m=\u001b[39;49m\u001b[43mis_text\u001b[49m\u001b[43m,\u001b[49m\n\u001b[1;32m   1887\u001b[0m \u001b[43m    \u001b[49m\u001b[43merrors\u001b[49m\u001b[38;5;241;43m=\u001b[39;49m\u001b[38;5;28;43mself\u001b[39;49m\u001b[38;5;241;43m.\u001b[39;49m\u001b[43moptions\u001b[49m\u001b[38;5;241;43m.\u001b[39;49m\u001b[43mget\u001b[49m\u001b[43m(\u001b[49m\u001b[38;5;124;43m\"\u001b[39;49m\u001b[38;5;124;43mencoding_errors\u001b[39;49m\u001b[38;5;124;43m\"\u001b[39;49m\u001b[43m,\u001b[49m\u001b[43m \u001b[49m\u001b[38;5;124;43m\"\u001b[39;49m\u001b[38;5;124;43mstrict\u001b[39;49m\u001b[38;5;124;43m\"\u001b[39;49m\u001b[43m)\u001b[49m\u001b[43m,\u001b[49m\n\u001b[1;32m   1888\u001b[0m \u001b[43m    \u001b[49m\u001b[43mstorage_options\u001b[49m\u001b[38;5;241;43m=\u001b[39;49m\u001b[38;5;28;43mself\u001b[39;49m\u001b[38;5;241;43m.\u001b[39;49m\u001b[43moptions\u001b[49m\u001b[38;5;241;43m.\u001b[39;49m\u001b[43mget\u001b[49m\u001b[43m(\u001b[49m\u001b[38;5;124;43m\"\u001b[39;49m\u001b[38;5;124;43mstorage_options\u001b[39;49m\u001b[38;5;124;43m\"\u001b[39;49m\u001b[43m,\u001b[49m\u001b[43m \u001b[49m\u001b[38;5;28;43;01mNone\u001b[39;49;00m\u001b[43m)\u001b[49m\u001b[43m,\u001b[49m\n\u001b[1;32m   1889\u001b[0m \u001b[43m\u001b[49m\u001b[43m)\u001b[49m\n\u001b[1;32m   1890\u001b[0m \u001b[38;5;28;01massert\u001b[39;00m \u001b[38;5;28mself\u001b[39m\u001b[38;5;241m.\u001b[39mhandles \u001b[38;5;129;01mis\u001b[39;00m \u001b[38;5;129;01mnot\u001b[39;00m \u001b[38;5;28;01mNone\u001b[39;00m\n\u001b[1;32m   1891\u001b[0m f \u001b[38;5;241m=\u001b[39m \u001b[38;5;28mself\u001b[39m\u001b[38;5;241m.\u001b[39mhandles\u001b[38;5;241m.\u001b[39mhandle\n",
      "File \u001b[0;32m~/Desktop/textbooks/DSE_300/.venv/lib/python3.10/site-packages/pandas/io/common.py:873\u001b[0m, in \u001b[0;36mget_handle\u001b[0;34m(path_or_buf, mode, encoding, compression, memory_map, is_text, errors, storage_options)\u001b[0m\n\u001b[1;32m    868\u001b[0m \u001b[38;5;28;01melif\u001b[39;00m \u001b[38;5;28misinstance\u001b[39m(handle, \u001b[38;5;28mstr\u001b[39m):\n\u001b[1;32m    869\u001b[0m     \u001b[38;5;66;03m# Check whether the filename is to be opened in binary mode.\u001b[39;00m\n\u001b[1;32m    870\u001b[0m     \u001b[38;5;66;03m# Binary mode does not support 'encoding' and 'newline'.\u001b[39;00m\n\u001b[1;32m    871\u001b[0m     \u001b[38;5;28;01mif\u001b[39;00m ioargs\u001b[38;5;241m.\u001b[39mencoding \u001b[38;5;129;01mand\u001b[39;00m \u001b[38;5;124m\"\u001b[39m\u001b[38;5;124mb\u001b[39m\u001b[38;5;124m\"\u001b[39m \u001b[38;5;129;01mnot\u001b[39;00m \u001b[38;5;129;01min\u001b[39;00m ioargs\u001b[38;5;241m.\u001b[39mmode:\n\u001b[1;32m    872\u001b[0m         \u001b[38;5;66;03m# Encoding\u001b[39;00m\n\u001b[0;32m--> 873\u001b[0m         handle \u001b[38;5;241m=\u001b[39m \u001b[38;5;28;43mopen\u001b[39;49m\u001b[43m(\u001b[49m\n\u001b[1;32m    874\u001b[0m \u001b[43m            \u001b[49m\u001b[43mhandle\u001b[49m\u001b[43m,\u001b[49m\n\u001b[1;32m    875\u001b[0m \u001b[43m            \u001b[49m\u001b[43mioargs\u001b[49m\u001b[38;5;241;43m.\u001b[39;49m\u001b[43mmode\u001b[49m\u001b[43m,\u001b[49m\n\u001b[1;32m    876\u001b[0m \u001b[43m            \u001b[49m\u001b[43mencoding\u001b[49m\u001b[38;5;241;43m=\u001b[39;49m\u001b[43mioargs\u001b[49m\u001b[38;5;241;43m.\u001b[39;49m\u001b[43mencoding\u001b[49m\u001b[43m,\u001b[49m\n\u001b[1;32m    877\u001b[0m \u001b[43m            \u001b[49m\u001b[43merrors\u001b[49m\u001b[38;5;241;43m=\u001b[39;49m\u001b[43merrors\u001b[49m\u001b[43m,\u001b[49m\n\u001b[1;32m    878\u001b[0m \u001b[43m            \u001b[49m\u001b[43mnewline\u001b[49m\u001b[38;5;241;43m=\u001b[39;49m\u001b[38;5;124;43m\"\u001b[39;49m\u001b[38;5;124;43m\"\u001b[39;49m\u001b[43m,\u001b[49m\n\u001b[1;32m    879\u001b[0m \u001b[43m        \u001b[49m\u001b[43m)\u001b[49m\n\u001b[1;32m    880\u001b[0m     \u001b[38;5;28;01melse\u001b[39;00m:\n\u001b[1;32m    881\u001b[0m         \u001b[38;5;66;03m# Binary mode\u001b[39;00m\n\u001b[1;32m    882\u001b[0m         handle \u001b[38;5;241m=\u001b[39m \u001b[38;5;28mopen\u001b[39m(handle, ioargs\u001b[38;5;241m.\u001b[39mmode)\n",
      "\u001b[0;31mFileNotFoundError\u001b[0m: [Errno 2] No such file or directory: 'penguins.csv'"
     ]
    }
   ],
   "source": [
    "import pandas as pd\n",
    "df = pd.read_csv('penguins.csv')\n",
    "df.to_sql(\"PENGUINS\", conn, index = False)\n",
    "conn.close()"
   ]
  },
  {
   "cell_type": "code",
   "execution_count": null,
   "metadata": {},
   "outputs": [],
   "source": []
  }
 ],
 "metadata": {
  "kernelspec": {
   "display_name": ".venv",
   "language": "python",
   "name": "python3"
  },
  "language_info": {
   "codemirror_mode": {
    "name": "ipython",
    "version": 3
   },
   "file_extension": ".py",
   "mimetype": "text/x-python",
   "name": "python",
   "nbconvert_exporter": "python",
   "pygments_lexer": "ipython3",
   "version": "3.10.4"
  }
 },
 "nbformat": 4,
 "nbformat_minor": 2
}
