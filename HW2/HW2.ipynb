{
 "cells": [
  {
   "cell_type": "markdown",
   "metadata": {},
   "source": [
    "# Part 1"
   ]
  },
  {
   "cell_type": "markdown",
   "metadata": {},
   "source": [
    "## make database"
   ]
  },
  {
   "cell_type": "code",
   "execution_count": 1,
   "metadata": {},
   "outputs": [],
   "source": [
    "import duckdb\n"
   ]
  },
  {
   "cell_type": "code",
   "execution_count": 3,
   "metadata": {},
   "outputs": [
    {
     "name": "stdout",
     "output_type": "stream",
     "text": [
      "Tables in the database: [('ADMISSIONS',), ('DRGCODES',), ('D_ICD_PROCEDURES',), ('ICUSTAYS',), ('PATIENTS',), ('PRESCRIPTIONS',), ('PROCEDURES_ICD',)]\n"
     ]
    }
   ],
   "source": [
    "import duckdb\n",
    "import pandas as pd\n",
    "import glob\n",
    "\n",
    "# Get all CSV files in the current directory\n",
    "csv_files = glob.glob('./*.csv')\n",
    "\n",
    "# Establish a connection to a DuckDB in-memory database (or specify a file to store it persistently)\n",
    "con = duckdb.connect('my_database.duckdb')\n",
    "\n",
    "# Load each CSV into the DuckDB database\n",
    "for csv_file in csv_files:\n",
    "    # Use pandas to read the CSV file\n",
    "    df = pd.read_csv(csv_file)\n",
    "    \n",
    "    # Get the table name from the CSV filename (remove the .csv extension)\n",
    "    table_name = csv_file.split('/')[-1].split('.')[0]\n",
    "    \n",
    "    # Write the DataFrame to the DuckDB database\n",
    "    con.execute(f\"CREATE TABLE IF NOT EXISTS {table_name} AS SELECT * FROM df\")\n",
    "\n",
    "# Optionally, check the tables that have been created\n",
    "tables = con.execute(\"SHOW TABLES\").fetchall()\n",
    "print(\"Tables in the database:\", tables)\n",
    "\n",
    "# Close the connection\n",
    "con.close()\n"
   ]
  },
  {
   "cell_type": "markdown",
   "metadata": {},
   "source": [
    "## Query 1: Drug use by ethnicity"
   ]
  },
  {
   "cell_type": "code",
   "execution_count": 4,
   "metadata": {},
   "outputs": [
    {
     "ename": "ConnectionException",
     "evalue": "Connection Error: Connection already closed!",
     "output_type": "error",
     "traceback": [
      "\u001b[0;31m---------------------------------------------------------------------------\u001b[0m",
      "\u001b[0;31mConnectionException\u001b[0m                       Traceback (most recent call last)",
      "Cell \u001b[0;32mIn[4], line 1\u001b[0m\n\u001b[0;32m----> 1\u001b[0m \u001b[43mcon\u001b[49m\u001b[38;5;241;43m.\u001b[39;49m\u001b[43msql\u001b[49m\u001b[43m(\u001b[49m\u001b[38;5;124;43m\"\"\"\u001b[39;49m\u001b[38;5;124;43mSELECT * FROM PRESCRIPTIONS\u001b[39;49m\u001b[38;5;124;43m\"\"\"\u001b[39;49m\u001b[43m)\u001b[49m\n",
      "\u001b[0;31mConnectionException\u001b[0m: Connection Error: Connection already closed!"
     ]
    }
   ],
   "source": [
    "con.sql(\"\"\"SELECT * FROM PRESCRIPTIONS\"\"\")"
   ]
  },
  {
   "cell_type": "code",
   "execution_count": null,
   "metadata": {},
   "outputs": [],
   "source": []
  }
 ],
 "metadata": {
  "kernelspec": {
   "display_name": ".venv",
   "language": "python",
   "name": "python3"
  },
  "language_info": {
   "codemirror_mode": {
    "name": "ipython",
    "version": 3
   },
   "file_extension": ".py",
   "mimetype": "text/x-python",
   "name": "python",
   "nbconvert_exporter": "python",
   "pygments_lexer": "ipython3",
   "version": "3.10.4"
  }
 },
 "nbformat": 4,
 "nbformat_minor": 2
}
